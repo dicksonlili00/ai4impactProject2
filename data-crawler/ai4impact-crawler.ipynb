{
 "cells": [
  {
   "cell_type": "code",
   "execution_count": 3,
   "metadata": {},
   "outputs": [],
   "source": [
    "import io\n",
    "from io import BytesIO\n",
    "from zipfile import ZipFile\n",
    "import pandas as pd\n",
    "import requests\n",
    "import pytz, datetime\n",
    "\n",
    "from googletrans import Translator\n",
    "translator = Translator()"
   ]
  },
  {
   "cell_type": "code",
   "execution_count": null,
   "metadata": {},
   "outputs": [],
   "source": []
  },
  {
   "cell_type": "code",
   "execution_count": 4,
   "metadata": {},
   "outputs": [],
   "source": [
    "required_columns = ['Périmètre', 'Nature', 'Date', 'Heures', 'Consommation',\n",
    "       'Prévision J-1', 'Prévision J', 'Fioul', 'Charbon', 'Gaz', 'Nucléaire',\n",
    "       'Eolien', 'Solaire', 'Hydraulique', 'Pompage', 'Bioénergies',\n",
    "       'Ech. physiques', 'Taux de Co2', 'Ech. comm. Angleterre',\n",
    "       'Ech. comm. Espagne', 'Ech. comm. Italie', 'Ech. comm. Suisse',\n",
    "       'Ech. comm. Allemagne-Belgique', 'Fioul - TAC', 'Fioul - Cogén.',\n",
    "       'Fioul - Autres', 'Gaz - TAC', 'Gaz - Cogén.', 'Gaz - CCG',\n",
    "       'Gaz - Autres', 'Hydraulique - Fil de l?eau + éclusée',\n",
    "       'Hydraulique - Lacs', 'Hydraulique - STEP turbinage',\n",
    "       'Bioénergies - Déchets', 'Bioénergies - Biomasse',\n",
    "       'Bioénergies - Biogaz']"
   ]
  },
  {
   "cell_type": "code",
   "execution_count": 6,
   "metadata": {},
   "outputs": [],
   "source": [
    "url_list = [\"https://eco2mix.rte-france.com/download/eco2mix/eCO2mix_RTE_Annuel-Definitif_2017.zip\",\n",
    "            \"https://eco2mix.rte-france.com/download/eco2mix/eCO2mix_RTE_Annuel-Definitif_2018.zip\",\n",
    "            \"https://eco2mix.rte-france.com/download/eco2mix/eCO2mix_RTE_En-cours-Consolide.zip\",\n",
    "           \"https://eco2mix.rte-france.com/download/eco2mix/eCO2mix_RTE_En-cours-TR.zip\"]"
   ]
  },
  {
   "cell_type": "code",
   "execution_count": 7,
   "metadata": {},
   "outputs": [
    {
     "name": "stdout",
     "output_type": "stream",
     "text": [
      "File in zip: eCO2mix_RTE_Annuel-Definitif_2017.xls\n",
      "File in zip: eCO2mix_RTE_Annuel-Definitif_2018.xls\n",
      "File in zip: eCO2mix_RTE_En-cours-Consolide.xls\n",
      "File in zip: eCO2mix_RTE_En-cours-TR.xls\n"
     ]
    }
   ],
   "source": [
    "df_list = []\n",
    "\n",
    "for url in url_list:\n",
    "    content = requests.get(url)\n",
    "    zf = ZipFile(BytesIO(content.content))\n",
    "\n",
    "    for item in zf.namelist():\n",
    "        print(\"File in zip: \"+  item)\n",
    "\n",
    "    # find the first matching csv file in the zip:\n",
    "    match = [s for s in zf.namelist() if \".xls\" in s][0]\n",
    "    \n",
    "    tmp_df = pd.read_table(zf.open(match), index_col=False, usecols = required_columns, encoding='ISO-8859-1').head(-1)\n",
    "    \n",
    "    df_list.append(tmp_df)\n",
    "    \n",
    "df = pd.concat(df_list).reset_index(drop=True)\n",
    "\n",
    "translated_columns = [translator.translate(i, src='fr', dest='en').text for i in df.columns]\n",
    "df.columns = translated_columns\n",
    "\n",
    "#consider all datetime is in summer time of france\n",
    "df['datetime'] = pd.to_datetime(df['Dated'] + \" \" + df['Hours']) - datetime.timedelta(hours=2)"
   ]
  },
  {
   "cell_type": "code",
   "execution_count": null,
   "metadata": {},
   "outputs": [],
   "source": []
  },
  {
   "cell_type": "code",
   "execution_count": 12,
   "metadata": {},
   "outputs": [
    {
     "data": {
      "text/plain": [
       "0         2017-01-01\n",
       "1         2017-01-01\n",
       "2         2017-01-01\n",
       "3         2017-01-01\n",
       "4         2017-01-01\n",
       "             ...    \n",
       "124219    2020-07-17\n",
       "124220    2020-07-17\n",
       "124221    2020-07-17\n",
       "124222    2020-07-17\n",
       "124223    2020-07-17\n",
       "Name: Dated, Length: 124224, dtype: object"
      ]
     },
     "execution_count": 12,
     "metadata": {},
     "output_type": "execute_result"
    }
   ],
   "source": [
    "df.Dated"
   ]
  },
  {
   "cell_type": "code",
   "execution_count": 13,
   "metadata": {},
   "outputs": [
    {
     "data": {
      "text/plain": [
       "0         00:00\n",
       "1         00:15\n",
       "2         00:30\n",
       "3         00:45\n",
       "4         01:00\n",
       "          ...  \n",
       "124219    22:45\n",
       "124220    23:00\n",
       "124221    23:15\n",
       "124222    23:30\n",
       "124223    23:45\n",
       "Name: Hours, Length: 124224, dtype: object"
      ]
     },
     "execution_count": 13,
     "metadata": {},
     "output_type": "execute_result"
    }
   ],
   "source": [
    "df.Hours"
   ]
  },
  {
   "cell_type": "code",
   "execution_count": 11,
   "metadata": {
    "scrolled": false
   },
   "outputs": [
    {
     "data": {
      "text/plain": [
       "<DstTzInfo 'Europe/Paris' LMT+0:09:00 STD>"
      ]
     },
     "execution_count": 11,
     "metadata": {},
     "output_type": "execute_result"
    }
   ],
   "source": [
    "local"
   ]
  },
  {
   "cell_type": "code",
   "execution_count": 9,
   "metadata": {},
   "outputs": [],
   "source": [
    "df_copy = df.copy()"
   ]
  },
  {
   "cell_type": "code",
   "execution_count": 14,
   "metadata": {},
   "outputs": [
    {
     "data": {
      "text/plain": [
       "2017-03-26 00:30:00+00:00    2\n",
       "2019-03-31 00:30:00+00:00    2\n",
       "2020-03-29 00:30:00+00:00    2\n",
       "2017-03-26 00:15:00+00:00    2\n",
       "2020-03-29 00:45:00+00:00    2\n",
       "                            ..\n",
       "2017-10-14 14:30:00+00:00    1\n",
       "2018-07-26 01:15:00+00:00    1\n",
       "2018-01-22 09:00:00+00:00    1\n",
       "2019-10-05 09:30:00+00:00    1\n",
       "2017-12-31 22:00:00+00:00    1\n",
       "Name: datetime, Length: 124208, dtype: int64"
      ]
     },
     "execution_count": 14,
     "metadata": {},
     "output_type": "execute_result"
    }
   ],
   "source": [
    "local = pytz.timezone (\"Europe/Paris\")\n",
    "\n",
    "df['datetime'] = df['Dated'] + \" \" + df['Hours']\n",
    "\n",
    "df['datetime'] = df['datetime'].apply(lambda x: local.localize(datetime.datetime.strptime(x, \"%Y-%m-%d %H:%M\"), is_dst=True).astimezone(pytz.utc))\n",
    "\n",
    "df.datetime.value_counts()    # double count for some dates"
   ]
  },
  {
   "cell_type": "code",
   "execution_count": 30,
   "metadata": {},
   "outputs": [
    {
     "data": {
      "text/plain": [
       "2017-03-26 00:30:00+00:00    2\n",
       "2019-03-31 00:30:00+00:00    2\n",
       "2020-03-29 00:30:00+00:00    2\n",
       "2017-03-26 00:15:00+00:00    2\n",
       "2020-03-29 00:45:00+00:00    2\n",
       "2019-03-31 00:00:00+00:00    2\n",
       "2018-03-25 00:15:00+00:00    2\n",
       "2018-03-25 00:00:00+00:00    2\n",
       "2019-03-31 00:15:00+00:00    2\n",
       "2017-03-26 00:00:00+00:00    2\n",
       "2020-03-29 00:00:00+00:00    2\n",
       "2017-03-26 00:45:00+00:00    2\n",
       "2019-03-31 00:45:00+00:00    2\n",
       "2018-03-25 00:45:00+00:00    2\n",
       "2018-03-25 00:30:00+00:00    2\n",
       "2020-03-29 00:15:00+00:00    2\n",
       "2019-01-07 06:15:00+00:00    1\n",
       "Name: datetime, dtype: int64"
      ]
     },
     "execution_count": 30,
     "metadata": {},
     "output_type": "execute_result"
    }
   ],
   "source": [
    "df.datetime.value_counts().head(17)"
   ]
  },
  {
   "cell_type": "code",
   "execution_count": 26,
   "metadata": {},
   "outputs": [
    {
     "name": "stdout",
     "output_type": "stream",
     "text": [
      "16\n"
     ]
    }
   ],
   "source": [
    "print(df.datetime.shape[0] - df.datetime.unique().shape[0])"
   ]
  },
  {
   "cell_type": "code",
   "execution_count": 73,
   "metadata": {},
   "outputs": [
    {
     "ename": "AttributeError",
     "evalue": "'Series' object has no attribute 'datetime'",
     "output_type": "error",
     "traceback": [
      "\u001b[1;31m---------------------------------------------------------------------------\u001b[0m",
      "\u001b[1;31mAttributeError\u001b[0m                            Traceback (most recent call last)",
      "\u001b[1;32m<ipython-input-73-45d8aa3fac0c>\u001b[0m in \u001b[0;36m<module>\u001b[1;34m\u001b[0m\n\u001b[1;32m----> 1\u001b[1;33m \u001b[0mdf\u001b[0m\u001b[1;33m.\u001b[0m\u001b[0mapply\u001b[0m\u001b[1;33m(\u001b[0m\u001b[1;32mlambda\u001b[0m \u001b[0mx\u001b[0m \u001b[1;33m:\u001b[0m \u001b[0mx\u001b[0m\u001b[1;33m.\u001b[0m\u001b[0mdatetime\u001b[0m \u001b[1;33m==\u001b[0m \u001b[0mdf\u001b[0m\u001b[1;33m.\u001b[0m\u001b[0mdatetime\u001b[0m\u001b[1;33m.\u001b[0m\u001b[0mvalue_counts\u001b[0m\u001b[1;33m(\u001b[0m\u001b[1;33m)\u001b[0m\u001b[1;33m.\u001b[0m\u001b[0mhead\u001b[0m\u001b[1;33m(\u001b[0m\u001b[1;36m17\u001b[0m\u001b[1;33m)\u001b[0m\u001b[1;33m.\u001b[0m\u001b[0mindex\u001b[0m\u001b[1;33m.\u001b[0m\u001b[0many\u001b[0m\u001b[1;33m(\u001b[0m\u001b[1;33m)\u001b[0m\u001b[1;33m)\u001b[0m\u001b[1;33m\u001b[0m\u001b[1;33m\u001b[0m\u001b[0m\n\u001b[0m",
      "\u001b[1;32mC:\\miniconda\\envs\\tensorflow\\lib\\site-packages\\pandas\\core\\frame.py\u001b[0m in \u001b[0;36mapply\u001b[1;34m(self, func, axis, raw, result_type, args, **kwds)\u001b[0m\n\u001b[0;32m   6876\u001b[0m             \u001b[0mkwds\u001b[0m\u001b[1;33m=\u001b[0m\u001b[0mkwds\u001b[0m\u001b[1;33m,\u001b[0m\u001b[1;33m\u001b[0m\u001b[1;33m\u001b[0m\u001b[0m\n\u001b[0;32m   6877\u001b[0m         )\n\u001b[1;32m-> 6878\u001b[1;33m         \u001b[1;32mreturn\u001b[0m \u001b[0mop\u001b[0m\u001b[1;33m.\u001b[0m\u001b[0mget_result\u001b[0m\u001b[1;33m(\u001b[0m\u001b[1;33m)\u001b[0m\u001b[1;33m\u001b[0m\u001b[1;33m\u001b[0m\u001b[0m\n\u001b[0m\u001b[0;32m   6879\u001b[0m \u001b[1;33m\u001b[0m\u001b[0m\n\u001b[0;32m   6880\u001b[0m     \u001b[1;32mdef\u001b[0m \u001b[0mapplymap\u001b[0m\u001b[1;33m(\u001b[0m\u001b[0mself\u001b[0m\u001b[1;33m,\u001b[0m \u001b[0mfunc\u001b[0m\u001b[1;33m)\u001b[0m \u001b[1;33m->\u001b[0m \u001b[1;34m\"DataFrame\"\u001b[0m\u001b[1;33m:\u001b[0m\u001b[1;33m\u001b[0m\u001b[1;33m\u001b[0m\u001b[0m\n",
      "\u001b[1;32mC:\\miniconda\\envs\\tensorflow\\lib\\site-packages\\pandas\\core\\apply.py\u001b[0m in \u001b[0;36mget_result\u001b[1;34m(self)\u001b[0m\n\u001b[0;32m    184\u001b[0m             \u001b[1;32mreturn\u001b[0m \u001b[0mself\u001b[0m\u001b[1;33m.\u001b[0m\u001b[0mapply_raw\u001b[0m\u001b[1;33m(\u001b[0m\u001b[1;33m)\u001b[0m\u001b[1;33m\u001b[0m\u001b[1;33m\u001b[0m\u001b[0m\n\u001b[0;32m    185\u001b[0m \u001b[1;33m\u001b[0m\u001b[0m\n\u001b[1;32m--> 186\u001b[1;33m         \u001b[1;32mreturn\u001b[0m \u001b[0mself\u001b[0m\u001b[1;33m.\u001b[0m\u001b[0mapply_standard\u001b[0m\u001b[1;33m(\u001b[0m\u001b[1;33m)\u001b[0m\u001b[1;33m\u001b[0m\u001b[1;33m\u001b[0m\u001b[0m\n\u001b[0m\u001b[0;32m    187\u001b[0m \u001b[1;33m\u001b[0m\u001b[0m\n\u001b[0;32m    188\u001b[0m     \u001b[1;32mdef\u001b[0m \u001b[0mapply_empty_result\u001b[0m\u001b[1;33m(\u001b[0m\u001b[0mself\u001b[0m\u001b[1;33m)\u001b[0m\u001b[1;33m:\u001b[0m\u001b[1;33m\u001b[0m\u001b[1;33m\u001b[0m\u001b[0m\n",
      "\u001b[1;32mC:\\miniconda\\envs\\tensorflow\\lib\\site-packages\\pandas\\core\\apply.py\u001b[0m in \u001b[0;36mapply_standard\u001b[1;34m(self)\u001b[0m\n\u001b[0;32m    311\u001b[0m \u001b[1;33m\u001b[0m\u001b[0m\n\u001b[0;32m    312\u001b[0m         \u001b[1;31m# compute the result using the series generator\u001b[0m\u001b[1;33m\u001b[0m\u001b[1;33m\u001b[0m\u001b[1;33m\u001b[0m\u001b[0m\n\u001b[1;32m--> 313\u001b[1;33m         \u001b[0mresults\u001b[0m\u001b[1;33m,\u001b[0m \u001b[0mres_index\u001b[0m \u001b[1;33m=\u001b[0m \u001b[0mself\u001b[0m\u001b[1;33m.\u001b[0m\u001b[0mapply_series_generator\u001b[0m\u001b[1;33m(\u001b[0m\u001b[1;33m)\u001b[0m\u001b[1;33m\u001b[0m\u001b[1;33m\u001b[0m\u001b[0m\n\u001b[0m\u001b[0;32m    314\u001b[0m \u001b[1;33m\u001b[0m\u001b[0m\n\u001b[0;32m    315\u001b[0m         \u001b[1;31m# wrap results\u001b[0m\u001b[1;33m\u001b[0m\u001b[1;33m\u001b[0m\u001b[1;33m\u001b[0m\u001b[0m\n",
      "\u001b[1;32mC:\\miniconda\\envs\\tensorflow\\lib\\site-packages\\pandas\\core\\apply.py\u001b[0m in \u001b[0;36mapply_series_generator\u001b[1;34m(self)\u001b[0m\n\u001b[0;32m    339\u001b[0m         \u001b[1;32melse\u001b[0m\u001b[1;33m:\u001b[0m\u001b[1;33m\u001b[0m\u001b[1;33m\u001b[0m\u001b[0m\n\u001b[0;32m    340\u001b[0m             \u001b[1;32mfor\u001b[0m \u001b[0mi\u001b[0m\u001b[1;33m,\u001b[0m \u001b[0mv\u001b[0m \u001b[1;32min\u001b[0m \u001b[0menumerate\u001b[0m\u001b[1;33m(\u001b[0m\u001b[0mseries_gen\u001b[0m\u001b[1;33m)\u001b[0m\u001b[1;33m:\u001b[0m\u001b[1;33m\u001b[0m\u001b[1;33m\u001b[0m\u001b[0m\n\u001b[1;32m--> 341\u001b[1;33m                 \u001b[0mresults\u001b[0m\u001b[1;33m[\u001b[0m\u001b[0mi\u001b[0m\u001b[1;33m]\u001b[0m \u001b[1;33m=\u001b[0m \u001b[0mself\u001b[0m\u001b[1;33m.\u001b[0m\u001b[0mf\u001b[0m\u001b[1;33m(\u001b[0m\u001b[0mv\u001b[0m\u001b[1;33m)\u001b[0m\u001b[1;33m\u001b[0m\u001b[1;33m\u001b[0m\u001b[0m\n\u001b[0m\u001b[0;32m    342\u001b[0m                 \u001b[0mkeys\u001b[0m\u001b[1;33m.\u001b[0m\u001b[0mappend\u001b[0m\u001b[1;33m(\u001b[0m\u001b[0mv\u001b[0m\u001b[1;33m.\u001b[0m\u001b[0mname\u001b[0m\u001b[1;33m)\u001b[0m\u001b[1;33m\u001b[0m\u001b[1;33m\u001b[0m\u001b[0m\n\u001b[0;32m    343\u001b[0m \u001b[1;33m\u001b[0m\u001b[0m\n",
      "\u001b[1;32m<ipython-input-73-45d8aa3fac0c>\u001b[0m in \u001b[0;36m<lambda>\u001b[1;34m(x)\u001b[0m\n\u001b[1;32m----> 1\u001b[1;33m \u001b[0mdf\u001b[0m\u001b[1;33m.\u001b[0m\u001b[0mapply\u001b[0m\u001b[1;33m(\u001b[0m\u001b[1;32mlambda\u001b[0m \u001b[0mx\u001b[0m \u001b[1;33m:\u001b[0m \u001b[0mx\u001b[0m\u001b[1;33m.\u001b[0m\u001b[0mdatetime\u001b[0m \u001b[1;33m==\u001b[0m \u001b[0mdf\u001b[0m\u001b[1;33m.\u001b[0m\u001b[0mdatetime\u001b[0m\u001b[1;33m.\u001b[0m\u001b[0mvalue_counts\u001b[0m\u001b[1;33m(\u001b[0m\u001b[1;33m)\u001b[0m\u001b[1;33m.\u001b[0m\u001b[0mhead\u001b[0m\u001b[1;33m(\u001b[0m\u001b[1;36m17\u001b[0m\u001b[1;33m)\u001b[0m\u001b[1;33m.\u001b[0m\u001b[0mindex\u001b[0m\u001b[1;33m.\u001b[0m\u001b[0many\u001b[0m\u001b[1;33m(\u001b[0m\u001b[1;33m)\u001b[0m\u001b[1;33m)\u001b[0m\u001b[1;33m\u001b[0m\u001b[1;33m\u001b[0m\u001b[0m\n\u001b[0m",
      "\u001b[1;32mC:\\miniconda\\envs\\tensorflow\\lib\\site-packages\\pandas\\core\\generic.py\u001b[0m in \u001b[0;36m__getattr__\u001b[1;34m(self, name)\u001b[0m\n\u001b[0;32m   5272\u001b[0m             \u001b[1;32mif\u001b[0m \u001b[0mself\u001b[0m\u001b[1;33m.\u001b[0m\u001b[0m_info_axis\u001b[0m\u001b[1;33m.\u001b[0m\u001b[0m_can_hold_identifiers_and_holds_name\u001b[0m\u001b[1;33m(\u001b[0m\u001b[0mname\u001b[0m\u001b[1;33m)\u001b[0m\u001b[1;33m:\u001b[0m\u001b[1;33m\u001b[0m\u001b[1;33m\u001b[0m\u001b[0m\n\u001b[0;32m   5273\u001b[0m                 \u001b[1;32mreturn\u001b[0m \u001b[0mself\u001b[0m\u001b[1;33m[\u001b[0m\u001b[0mname\u001b[0m\u001b[1;33m]\u001b[0m\u001b[1;33m\u001b[0m\u001b[1;33m\u001b[0m\u001b[0m\n\u001b[1;32m-> 5274\u001b[1;33m             \u001b[1;32mreturn\u001b[0m \u001b[0mobject\u001b[0m\u001b[1;33m.\u001b[0m\u001b[0m__getattribute__\u001b[0m\u001b[1;33m(\u001b[0m\u001b[0mself\u001b[0m\u001b[1;33m,\u001b[0m \u001b[0mname\u001b[0m\u001b[1;33m)\u001b[0m\u001b[1;33m\u001b[0m\u001b[1;33m\u001b[0m\u001b[0m\n\u001b[0m\u001b[0;32m   5275\u001b[0m \u001b[1;33m\u001b[0m\u001b[0m\n\u001b[0;32m   5276\u001b[0m     \u001b[1;32mdef\u001b[0m \u001b[0m__setattr__\u001b[0m\u001b[1;33m(\u001b[0m\u001b[0mself\u001b[0m\u001b[1;33m,\u001b[0m \u001b[0mname\u001b[0m\u001b[1;33m:\u001b[0m \u001b[0mstr\u001b[0m\u001b[1;33m,\u001b[0m \u001b[0mvalue\u001b[0m\u001b[1;33m)\u001b[0m \u001b[1;33m->\u001b[0m \u001b[1;32mNone\u001b[0m\u001b[1;33m:\u001b[0m\u001b[1;33m\u001b[0m\u001b[1;33m\u001b[0m\u001b[0m\n",
      "\u001b[1;31mAttributeError\u001b[0m: 'Series' object has no attribute 'datetime'"
     ]
    }
   ],
   "source": [
    "df.apply(lambda x : x.datetime == df.datetime.value_counts().head(17).index)"
   ]
  },
  {
   "cell_type": "code",
   "execution_count": 49,
   "metadata": {},
   "outputs": [
    {
     "data": {
      "text/html": [
       "<div>\n",
       "<style scoped>\n",
       "    .dataframe tbody tr th:only-of-type {\n",
       "        vertical-align: middle;\n",
       "    }\n",
       "\n",
       "    .dataframe tbody tr th {\n",
       "        vertical-align: top;\n",
       "    }\n",
       "\n",
       "    .dataframe thead th {\n",
       "        text-align: right;\n",
       "    }\n",
       "</style>\n",
       "<table border=\"1\" class=\"dataframe\">\n",
       "  <thead>\n",
       "    <tr style=\"text-align: right;\">\n",
       "      <th></th>\n",
       "      <th>Perimeter</th>\n",
       "      <th>Nature</th>\n",
       "      <th>Dated</th>\n",
       "      <th>Hours</th>\n",
       "      <th>Consumption</th>\n",
       "      <th>Forecast D-1</th>\n",
       "      <th>Forecast J</th>\n",
       "      <th>Fuel oil</th>\n",
       "      <th>Coal</th>\n",
       "      <th>Gas</th>\n",
       "      <th>...</th>\n",
       "      <th>Gas - Cogen.</th>\n",
       "      <th>Gas - CCG</th>\n",
       "      <th>Gas - Others</th>\n",
       "      <th>Hydraulic - Stream of water + lock</th>\n",
       "      <th>Hydraulics - Lakes</th>\n",
       "      <th>Hydraulics - STEP turbines</th>\n",
       "      <th>Bioenergies - Waste</th>\n",
       "      <th>Bioenergies - Biomass</th>\n",
       "      <th>Bioenergies - Biogas</th>\n",
       "      <th>datetime</th>\n",
       "    </tr>\n",
       "  </thead>\n",
       "  <tbody>\n",
       "    <tr>\n",
       "      <th>113574</th>\n",
       "      <td>France</td>\n",
       "      <td>Données consolidées</td>\n",
       "      <td>2020-03-29</td>\n",
       "      <td>01:30</td>\n",
       "      <td>47184</td>\n",
       "      <td>45300</td>\n",
       "      <td>46400</td>\n",
       "      <td>97.0</td>\n",
       "      <td>10.0</td>\n",
       "      <td>2475.0</td>\n",
       "      <td>...</td>\n",
       "      <td>2231.0</td>\n",
       "      <td>126.0</td>\n",
       "      <td>119.0</td>\n",
       "      <td>4481.0</td>\n",
       "      <td>1606.0</td>\n",
       "      <td>0.0</td>\n",
       "      <td>557.0</td>\n",
       "      <td>321.0</td>\n",
       "      <td>322.0</td>\n",
       "      <td>2020-03-29 00:30:00+00:00</td>\n",
       "    </tr>\n",
       "    <tr>\n",
       "      <th>113575</th>\n",
       "      <td>France</td>\n",
       "      <td>Données consolidées</td>\n",
       "      <td>2020-03-29</td>\n",
       "      <td>01:45</td>\n",
       "      <td>NaN</td>\n",
       "      <td>45300</td>\n",
       "      <td>46400</td>\n",
       "      <td>NaN</td>\n",
       "      <td>NaN</td>\n",
       "      <td>NaN</td>\n",
       "      <td>...</td>\n",
       "      <td>NaN</td>\n",
       "      <td>NaN</td>\n",
       "      <td>NaN</td>\n",
       "      <td>NaN</td>\n",
       "      <td>NaN</td>\n",
       "      <td>NaN</td>\n",
       "      <td>NaN</td>\n",
       "      <td>NaN</td>\n",
       "      <td>NaN</td>\n",
       "      <td>2020-03-29 00:45:00+00:00</td>\n",
       "    </tr>\n",
       "    <tr>\n",
       "      <th>113576</th>\n",
       "      <td>France</td>\n",
       "      <td>Données consolidées</td>\n",
       "      <td>2020-03-29</td>\n",
       "      <td>02:00</td>\n",
       "      <td>46904</td>\n",
       "      <td>45300</td>\n",
       "      <td>46400</td>\n",
       "      <td>98.0</td>\n",
       "      <td>10.0</td>\n",
       "      <td>2453.0</td>\n",
       "      <td>...</td>\n",
       "      <td>2232.0</td>\n",
       "      <td>103.0</td>\n",
       "      <td>118.0</td>\n",
       "      <td>4463.0</td>\n",
       "      <td>1680.0</td>\n",
       "      <td>0.0</td>\n",
       "      <td>556.0</td>\n",
       "      <td>326.0</td>\n",
       "      <td>320.0</td>\n",
       "      <td>2020-03-29 00:00:00+00:00</td>\n",
       "    </tr>\n",
       "    <tr>\n",
       "      <th>113577</th>\n",
       "      <td>France</td>\n",
       "      <td>Données consolidées</td>\n",
       "      <td>2020-03-29</td>\n",
       "      <td>02:15</td>\n",
       "      <td>NaN</td>\n",
       "      <td>45300</td>\n",
       "      <td>46400</td>\n",
       "      <td>NaN</td>\n",
       "      <td>NaN</td>\n",
       "      <td>NaN</td>\n",
       "      <td>...</td>\n",
       "      <td>NaN</td>\n",
       "      <td>NaN</td>\n",
       "      <td>NaN</td>\n",
       "      <td>NaN</td>\n",
       "      <td>NaN</td>\n",
       "      <td>NaN</td>\n",
       "      <td>NaN</td>\n",
       "      <td>NaN</td>\n",
       "      <td>NaN</td>\n",
       "      <td>2020-03-29 00:15:00+00:00</td>\n",
       "    </tr>\n",
       "    <tr>\n",
       "      <th>113578</th>\n",
       "      <td>France</td>\n",
       "      <td>Données consolidées</td>\n",
       "      <td>2020-03-29</td>\n",
       "      <td>02:30</td>\n",
       "      <td>47184</td>\n",
       "      <td>45300</td>\n",
       "      <td>46400</td>\n",
       "      <td>97.0</td>\n",
       "      <td>10.0</td>\n",
       "      <td>2475.0</td>\n",
       "      <td>...</td>\n",
       "      <td>2231.0</td>\n",
       "      <td>126.0</td>\n",
       "      <td>119.0</td>\n",
       "      <td>4481.0</td>\n",
       "      <td>1606.0</td>\n",
       "      <td>0.0</td>\n",
       "      <td>557.0</td>\n",
       "      <td>321.0</td>\n",
       "      <td>322.0</td>\n",
       "      <td>2020-03-29 00:30:00+00:00</td>\n",
       "    </tr>\n",
       "  </tbody>\n",
       "</table>\n",
       "<p>5 rows × 37 columns</p>\n",
       "</div>"
      ],
      "text/plain": [
       "       Perimeter               Nature       Dated  Hours Consumption  \\\n",
       "113574    France  Données consolidées  2020-03-29  01:30       47184   \n",
       "113575    France  Données consolidées  2020-03-29  01:45         NaN   \n",
       "113576    France  Données consolidées  2020-03-29  02:00       46904   \n",
       "113577    France  Données consolidées  2020-03-29  02:15         NaN   \n",
       "113578    France  Données consolidées  2020-03-29  02:30       47184   \n",
       "\n",
       "       Forecast D-1 Forecast J  Fuel oil  Coal     Gas  ... Gas - Cogen.  \\\n",
       "113574        45300      46400      97.0  10.0  2475.0  ...       2231.0   \n",
       "113575        45300      46400       NaN   NaN     NaN  ...          NaN   \n",
       "113576        45300      46400      98.0  10.0  2453.0  ...       2232.0   \n",
       "113577        45300      46400       NaN   NaN     NaN  ...          NaN   \n",
       "113578        45300      46400      97.0  10.0  2475.0  ...       2231.0   \n",
       "\n",
       "        Gas - CCG  Gas - Others  Hydraulic - Stream of water + lock  \\\n",
       "113574      126.0         119.0                              4481.0   \n",
       "113575        NaN           NaN                                 NaN   \n",
       "113576      103.0         118.0                              4463.0   \n",
       "113577        NaN           NaN                                 NaN   \n",
       "113578      126.0         119.0                              4481.0   \n",
       "\n",
       "        Hydraulics - Lakes  Hydraulics - STEP turbines  Bioenergies - Waste  \\\n",
       "113574              1606.0                         0.0                557.0   \n",
       "113575                 NaN                         NaN                  NaN   \n",
       "113576              1680.0                         0.0                556.0   \n",
       "113577                 NaN                         NaN                  NaN   \n",
       "113578              1606.0                         0.0                557.0   \n",
       "\n",
       "       Bioenergies - Biomass  Bioenergies - Biogas                  datetime  \n",
       "113574                 321.0                 322.0 2020-03-29 00:30:00+00:00  \n",
       "113575                   NaN                   NaN 2020-03-29 00:45:00+00:00  \n",
       "113576                 326.0                 320.0 2020-03-29 00:00:00+00:00  \n",
       "113577                   NaN                   NaN 2020-03-29 00:15:00+00:00  \n",
       "113578                 321.0                 322.0 2020-03-29 00:30:00+00:00  \n",
       "\n",
       "[5 rows x 37 columns]"
      ]
     },
     "execution_count": 49,
     "metadata": {},
     "output_type": "execute_result"
    }
   ],
   "source": [
    "df.iloc[113574:113579]"
   ]
  },
  {
   "cell_type": "code",
   "execution_count": 138,
   "metadata": {},
   "outputs": [],
   "source": [
    "# localising timezone to Paris, but probematics. \n",
    "\n",
    "#local = pytz.timezone (\"Europe/Paris\")\n",
    "\n",
    "#df['datetime'] = df['Dated'] + \" \" + df['Hours']\n",
    "\n",
    "#df['datetime'] = df['datetime'].apply(lambda x: local.localize(datetime.datetime.strptime(x, \"%Y-%m-%d %H:%M\"), is_dst=True).astimezone(pytz.utc))\n",
    "\n",
    "#df.datetime.value_counts()    # double count for some dates"
   ]
  },
  {
   "cell_type": "code",
   "execution_count": null,
   "metadata": {},
   "outputs": [],
   "source": []
  },
  {
   "cell_type": "code",
   "execution_count": 121,
   "metadata": {},
   "outputs": [],
   "source": []
  },
  {
   "cell_type": "code",
   "execution_count": 217,
   "metadata": {},
   "outputs": [],
   "source": [
    "forecast_df_list = []\n",
    "\n",
    "for forecast in wf_list:\n",
    "    \n",
    "    hist_url = \"https://ai4impact.org/P003/historical/\" + forecast +\".csv\"\n",
    "\n",
    "    r = requests.get(hist_url)\n",
    "    data = r.content.decode('utf8').split(\"UTC\\n\")[1]\n",
    "    hist_tmp_df = pd.read_csv(io.StringIO(data))\n",
    "    \n",
    "    current_url = \"https://ai4impact.org/P003/\" + forecast +\".csv\"\n",
    "\n",
    "    r = requests.get(current_url)\n",
    "    data = r.content.decode('utf8').split(\"UTC\\n\")[1]\n",
    "    current_tmp_df = pd.read_csv(io.StringIO(data))\n",
    "    \n",
    "    tmp_df = pd.concat([hist_tmp_df,current_tmp_df]).reset_index(drop=True).rename(columns={'Speed(m/s)':forecast + '_Speed(m/s)', 'Direction (deg N)':forecast + '_Direction (deg N)'})\n",
    "    \n",
    "    tmp_df['datetime'] = pd.to_datetime(tmp_df['Time'].str.replace(\"UTC\", \"\"))\n",
    "    \n",
    "    tmp_df = tmp_df.drop(columns=['Time'])\n",
    "    \n",
    "    forecast_df_list.append(tmp_df)\n",
    "    \n",
    "main_df = df.copy()\n",
    "\n",
    "for i in forecast_df_list:\n",
    "    main_df = main_df.merge(i, how='left', on='datetime')"
   ]
  },
  {
   "cell_type": "code",
   "execution_count": null,
   "metadata": {},
   "outputs": [],
   "source": []
  },
  {
   "cell_type": "code",
   "execution_count": null,
   "metadata": {},
   "outputs": [],
   "source": []
  },
  {
   "cell_type": "code",
   "execution_count": null,
   "metadata": {},
   "outputs": [],
   "source": []
  },
  {
   "cell_type": "code",
   "execution_count": null,
   "metadata": {},
   "outputs": [],
   "source": []
  }
 ],
 "metadata": {
  "kernelspec": {
   "display_name": "Python 3",
   "language": "python",
   "name": "python3"
  },
  "language_info": {
   "codemirror_mode": {
    "name": "ipython",
    "version": 3
   },
   "file_extension": ".py",
   "mimetype": "text/x-python",
   "name": "python",
   "nbconvert_exporter": "python",
   "pygments_lexer": "ipython3",
   "version": "3.6.10"
  }
 },
 "nbformat": 4,
 "nbformat_minor": 4
}
