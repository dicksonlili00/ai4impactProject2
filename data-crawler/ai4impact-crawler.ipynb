{
 "cells": [
  {
   "cell_type": "code",
   "execution_count": 220,
   "metadata": {},
   "outputs": [],
   "source": [
    "import io\n",
    "from io import BytesIO\n",
    "from zipfile import ZipFile\n",
    "import pandas as pd\n",
    "import requests\n",
    "import pytz, datetime\n",
    "\n",
    "from googletrans import Translator\n",
    "translator = Translator()"
   ]
  },
  {
   "cell_type": "code",
   "execution_count": null,
   "metadata": {},
   "outputs": [],
   "source": []
  },
  {
   "cell_type": "code",
   "execution_count": 207,
   "metadata": {},
   "outputs": [],
   "source": [
    "required_columns = ['Périmètre', 'Nature', 'Date', 'Heures', 'Consommation',\n",
    "       'Prévision J-1', 'Prévision J', 'Fioul', 'Charbon', 'Gaz', 'Nucléaire',\n",
    "       'Eolien', 'Solaire', 'Hydraulique', 'Pompage', 'Bioénergies',\n",
    "       'Ech. physiques', 'Taux de Co2', 'Ech. comm. Angleterre',\n",
    "       'Ech. comm. Espagne', 'Ech. comm. Italie', 'Ech. comm. Suisse',\n",
    "       'Ech. comm. Allemagne-Belgique', 'Fioul - TAC', 'Fioul - Cogén.',\n",
    "       'Fioul - Autres', 'Gaz - TAC', 'Gaz - Cogén.', 'Gaz - CCG',\n",
    "       'Gaz - Autres', 'Hydraulique - Fil de l?eau + éclusée',\n",
    "       'Hydraulique - Lacs', 'Hydraulique - STEP turbinage',\n",
    "       'Bioénergies - Déchets', 'Bioénergies - Biomasse',\n",
    "       'Bioénergies - Biogaz']"
   ]
  },
  {
   "cell_type": "code",
   "execution_count": 208,
   "metadata": {},
   "outputs": [],
   "source": [
    "url_list = [\"https://eco2mix.rte-france.com/download/eco2mix/eCO2mix_RTE_Annuel-Definitif_2017.zip\",\n",
    "            \"https://eco2mix.rte-france.com/download/eco2mix/eCO2mix_RTE_Annuel-Definitif_2018.zip\",\n",
    "            \"https://eco2mix.rte-france.com/download/eco2mix/eCO2mix_RTE_En-cours-Consolide.zip\",\n",
    "           \"https://eco2mix.rte-france.com/download/eco2mix/eCO2mix_RTE_En-cours-TR.zip\"]"
   ]
  },
  {
   "cell_type": "code",
   "execution_count": 209,
   "metadata": {},
   "outputs": [
    {
     "name": "stdout",
     "output_type": "stream",
     "text": [
      "File in zip: eCO2mix_RTE_Annuel-Definitif_2017.xls\n",
      "File in zip: eCO2mix_RTE_Annuel-Definitif_2018.xls\n",
      "File in zip: eCO2mix_RTE_En-cours-Consolide.xls\n",
      "File in zip: eCO2mix_RTE_En-cours-TR.xls\n"
     ]
    }
   ],
   "source": [
    "df_list = []\n",
    "\n",
    "for url in url_list:\n",
    "    content = requests.get(url)\n",
    "    zf = ZipFile(BytesIO(content.content))\n",
    "\n",
    "    for item in zf.namelist():\n",
    "        print(\"File in zip: \"+  item)\n",
    "\n",
    "    # find the first matching csv file in the zip:\n",
    "    match = [s for s in zf.namelist() if \".xls\" in s][0]\n",
    "    \n",
    "    tmp_df = pd.read_table(zf.open(match), index_col=False, usecols = required_columns, encoding='ISO-8859-1').head(-1)\n",
    "    \n",
    "    df_list.append(tmp_df)\n",
    "    \n",
    "df = pd.concat(df_list).reset_index(drop=True)\n",
    "\n",
    "translated_columns = [translator.translate(i, src='fr', dest='en').text for i in df.columns]\n",
    "df.columns = translated_columns\n",
    "\n",
    "#consider all datetime is in summer time of france\n",
    "df['datetime'] = pd.to_datetime(df['Dated'] + \" \" + df['Hours']) - datetime.timedelta(hours=2)"
   ]
  },
  {
   "cell_type": "code",
   "execution_count": null,
   "metadata": {
    "scrolled": false
   },
   "outputs": [],
   "source": []
  },
  {
   "cell_type": "code",
   "execution_count": 138,
   "metadata": {},
   "outputs": [],
   "source": [
    "# localising timezone to Paris, but probematics. \n",
    "\n",
    "#local = pytz.timezone (\"Europe/Paris\")\n",
    "\n",
    "#df['datetime'] = df['Dated'] + \" \" + df['Hours']\n",
    "\n",
    "#df['datetime'] = df['datetime'].apply(lambda x: local.localize(datetime.datetime.strptime(x, \"%Y-%m-%d %H:%M\"), is_dst=True).astimezone(pytz.utc))\n",
    "\n",
    "#df.datetime.value_counts()    # double count for some dates"
   ]
  },
  {
   "cell_type": "code",
   "execution_count": null,
   "metadata": {},
   "outputs": [],
   "source": []
  },
  {
   "cell_type": "code",
   "execution_count": 121,
   "metadata": {},
   "outputs": [],
   "source": []
  },
  {
   "cell_type": "code",
   "execution_count": 217,
   "metadata": {},
   "outputs": [],
   "source": [
    "forecast_df_list = []\n",
    "\n",
    "for forecast in wf_list:\n",
    "    \n",
    "    hist_url = \"https://ai4impact.org/P003/historical/\" + forecast +\".csv\"\n",
    "\n",
    "    r = requests.get(hist_url)\n",
    "    data = r.content.decode('utf8').split(\"UTC\\n\")[1]\n",
    "    hist_tmp_df = pd.read_csv(io.StringIO(data))\n",
    "    \n",
    "    current_url = \"https://ai4impact.org/P003/\" + forecast +\".csv\"\n",
    "\n",
    "    r = requests.get(current_url)\n",
    "    data = r.content.decode('utf8').split(\"UTC\\n\")[1]\n",
    "    current_tmp_df = pd.read_csv(io.StringIO(data))\n",
    "    \n",
    "    tmp_df = pd.concat([hist_tmp_df,current_tmp_df]).reset_index(drop=True).rename(columns={'Speed(m/s)':forecast + '_Speed(m/s)', 'Direction (deg N)':forecast + '_Direction (deg N)'})\n",
    "    \n",
    "    tmp_df['datetime'] = pd.to_datetime(tmp_df['Time'].str.replace(\"UTC\", \"\"))\n",
    "    \n",
    "    tmp_df = tmp_df.drop(columns=['Time'])\n",
    "    \n",
    "    forecast_df_list.append(tmp_df)\n",
    "    \n",
    "main_df = df.copy()\n",
    "\n",
    "for i in forecast_df_list:\n",
    "    main_df = main_df.merge(i, how='left', on='datetime')"
   ]
  },
  {
   "cell_type": "code",
   "execution_count": null,
   "metadata": {},
   "outputs": [],
   "source": []
  },
  {
   "cell_type": "code",
   "execution_count": null,
   "metadata": {},
   "outputs": [],
   "source": []
  },
  {
   "cell_type": "code",
   "execution_count": null,
   "metadata": {},
   "outputs": [],
   "source": []
  },
  {
   "cell_type": "code",
   "execution_count": null,
   "metadata": {},
   "outputs": [],
   "source": []
  }
 ],
 "metadata": {
  "kernelspec": {
   "display_name": "Python 3",
   "language": "python",
   "name": "python3"
  },
  "language_info": {
   "codemirror_mode": {
    "name": "ipython",
    "version": 3
   },
   "file_extension": ".py",
   "mimetype": "text/x-python",
   "name": "python",
   "nbconvert_exporter": "python",
   "pygments_lexer": "ipython3",
   "version": "3.7.6"
  }
 },
 "nbformat": 4,
 "nbformat_minor": 4
}
