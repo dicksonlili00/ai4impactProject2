{
 "cells": [
  {
   "cell_type": "code",
   "execution_count": 2,
   "metadata": {},
   "outputs": [
    {
     "name": "stderr",
     "output_type": "stream",
     "text": [
      "C:\\miniconda\\envs\\tensorflow\\lib\\site-packages\\tensorflow\\python\\framework\\dtypes.py:516: FutureWarning: Passing (type, 1) or '1type' as a synonym of type is deprecated; in a future version of numpy, it will be understood as (type, (1,)) / '(1,)type'.\n",
      "  _np_qint8 = np.dtype([(\"qint8\", np.int8, 1)])\n",
      "C:\\miniconda\\envs\\tensorflow\\lib\\site-packages\\tensorflow\\python\\framework\\dtypes.py:517: FutureWarning: Passing (type, 1) or '1type' as a synonym of type is deprecated; in a future version of numpy, it will be understood as (type, (1,)) / '(1,)type'.\n",
      "  _np_quint8 = np.dtype([(\"quint8\", np.uint8, 1)])\n",
      "C:\\miniconda\\envs\\tensorflow\\lib\\site-packages\\tensorflow\\python\\framework\\dtypes.py:518: FutureWarning: Passing (type, 1) or '1type' as a synonym of type is deprecated; in a future version of numpy, it will be understood as (type, (1,)) / '(1,)type'.\n",
      "  _np_qint16 = np.dtype([(\"qint16\", np.int16, 1)])\n",
      "C:\\miniconda\\envs\\tensorflow\\lib\\site-packages\\tensorflow\\python\\framework\\dtypes.py:519: FutureWarning: Passing (type, 1) or '1type' as a synonym of type is deprecated; in a future version of numpy, it will be understood as (type, (1,)) / '(1,)type'.\n",
      "  _np_quint16 = np.dtype([(\"quint16\", np.uint16, 1)])\n",
      "C:\\miniconda\\envs\\tensorflow\\lib\\site-packages\\tensorflow\\python\\framework\\dtypes.py:520: FutureWarning: Passing (type, 1) or '1type' as a synonym of type is deprecated; in a future version of numpy, it will be understood as (type, (1,)) / '(1,)type'.\n",
      "  _np_qint32 = np.dtype([(\"qint32\", np.int32, 1)])\n",
      "C:\\miniconda\\envs\\tensorflow\\lib\\site-packages\\tensorflow\\python\\framework\\dtypes.py:525: FutureWarning: Passing (type, 1) or '1type' as a synonym of type is deprecated; in a future version of numpy, it will be understood as (type, (1,)) / '(1,)type'.\n",
      "  np_resource = np.dtype([(\"resource\", np.ubyte, 1)])\n",
      "C:\\miniconda\\envs\\tensorflow\\lib\\site-packages\\tensorboard\\compat\\tensorflow_stub\\dtypes.py:541: FutureWarning: Passing (type, 1) or '1type' as a synonym of type is deprecated; in a future version of numpy, it will be understood as (type, (1,)) / '(1,)type'.\n",
      "  _np_qint8 = np.dtype([(\"qint8\", np.int8, 1)])\n",
      "C:\\miniconda\\envs\\tensorflow\\lib\\site-packages\\tensorboard\\compat\\tensorflow_stub\\dtypes.py:542: FutureWarning: Passing (type, 1) or '1type' as a synonym of type is deprecated; in a future version of numpy, it will be understood as (type, (1,)) / '(1,)type'.\n",
      "  _np_quint8 = np.dtype([(\"quint8\", np.uint8, 1)])\n",
      "C:\\miniconda\\envs\\tensorflow\\lib\\site-packages\\tensorboard\\compat\\tensorflow_stub\\dtypes.py:543: FutureWarning: Passing (type, 1) or '1type' as a synonym of type is deprecated; in a future version of numpy, it will be understood as (type, (1,)) / '(1,)type'.\n",
      "  _np_qint16 = np.dtype([(\"qint16\", np.int16, 1)])\n",
      "C:\\miniconda\\envs\\tensorflow\\lib\\site-packages\\tensorboard\\compat\\tensorflow_stub\\dtypes.py:544: FutureWarning: Passing (type, 1) or '1type' as a synonym of type is deprecated; in a future version of numpy, it will be understood as (type, (1,)) / '(1,)type'.\n",
      "  _np_quint16 = np.dtype([(\"quint16\", np.uint16, 1)])\n",
      "C:\\miniconda\\envs\\tensorflow\\lib\\site-packages\\tensorboard\\compat\\tensorflow_stub\\dtypes.py:545: FutureWarning: Passing (type, 1) or '1type' as a synonym of type is deprecated; in a future version of numpy, it will be understood as (type, (1,)) / '(1,)type'.\n",
      "  _np_qint32 = np.dtype([(\"qint32\", np.int32, 1)])\n",
      "C:\\miniconda\\envs\\tensorflow\\lib\\site-packages\\tensorboard\\compat\\tensorflow_stub\\dtypes.py:550: FutureWarning: Passing (type, 1) or '1type' as a synonym of type is deprecated; in a future version of numpy, it will be understood as (type, (1,)) / '(1,)type'.\n",
      "  np_resource = np.dtype([(\"resource\", np.ubyte, 1)])\n"
     ]
    }
   ],
   "source": [
    "import pandas as pd\n",
    "import numpy as np\n",
    "import tensorflow as tf\n",
    "import os"
   ]
  },
  {
   "cell_type": "code",
   "execution_count": 3,
   "metadata": {},
   "outputs": [
    {
     "name": "stderr",
     "output_type": "stream",
     "text": [
      "C:\\miniconda\\envs\\tensorflow\\lib\\site-packages\\IPython\\core\\interactiveshell.py:3063: DtypeWarning: Columns (5,6,26) have mixed types.Specify dtype option on import or set low_memory=False.\n",
      "  interactivity=interactivity, compiler=compiler, result=result)\n"
     ]
    }
   ],
   "source": [
    "df = pd.read_csv(\"combined_energy_data.csv\")"
   ]
  },
  {
   "cell_type": "markdown",
   "metadata": {},
   "source": [
    "## Data Preprocessing"
   ]
  },
  {
   "cell_type": "code",
   "execution_count": 4,
   "metadata": {},
   "outputs": [],
   "source": [
    "## convert it to datetime\n",
    "df['datetime'] = pd.to_datetime(df.datetime)"
   ]
  },
  {
   "cell_type": "code",
   "execution_count": 5,
   "metadata": {},
   "outputs": [],
   "source": [
    "agg_columns =  [\"datetime\",\"Wind\"]\n",
    "required_columns = [\"Hours\"] + agg_columns + [i for i in df.columns[37:]]"
   ]
  },
  {
   "cell_type": "code",
   "execution_count": null,
   "metadata": {},
   "outputs": [],
   "source": []
  },
  {
   "cell_type": "code",
   "execution_count": 6,
   "metadata": {},
   "outputs": [
    {
     "data": {
      "text/plain": [
       "(Timestamp('2016-12-31 22:00:00'), Timestamp('2020-07-17 21:45:00'))"
      ]
     },
     "execution_count": 6,
     "metadata": {},
     "output_type": "execute_result"
    }
   ],
   "source": [
    "#the\n",
    "df.datetime.min() , df.datetime.max()"
   ]
  },
  {
   "cell_type": "code",
   "execution_count": null,
   "metadata": {},
   "outputs": [],
   "source": []
  },
  {
   "cell_type": "code",
   "execution_count": 7,
   "metadata": {},
   "outputs": [],
   "source": [
    "df_agg = df[agg_columns].groupby([df.datetime.dt.floor(\"H\")]).agg([\"mean\",\"median\",\"max\",\"min\",\"std\"])"
   ]
  },
  {
   "cell_type": "code",
   "execution_count": 8,
   "metadata": {},
   "outputs": [],
   "source": [
    "df_agg.columns = df_agg.columns.map('_'.join)"
   ]
  },
  {
   "cell_type": "code",
   "execution_count": 9,
   "metadata": {},
   "outputs": [],
   "source": [
    "df_agg = df_agg.reset_index()"
   ]
  },
  {
   "cell_type": "code",
   "execution_count": 10,
   "metadata": {},
   "outputs": [
    {
     "data": {
      "text/html": [
       "<div>\n",
       "<style scoped>\n",
       "    .dataframe tbody tr th:only-of-type {\n",
       "        vertical-align: middle;\n",
       "    }\n",
       "\n",
       "    .dataframe tbody tr th {\n",
       "        vertical-align: top;\n",
       "    }\n",
       "\n",
       "    .dataframe thead th {\n",
       "        text-align: right;\n",
       "    }\n",
       "</style>\n",
       "<table border=\"1\" class=\"dataframe\">\n",
       "  <thead>\n",
       "    <tr style=\"text-align: right;\">\n",
       "      <th></th>\n",
       "      <th>datetime</th>\n",
       "      <th>Wind_mean</th>\n",
       "      <th>Wind_median</th>\n",
       "      <th>Wind_max</th>\n",
       "      <th>Wind_min</th>\n",
       "      <th>Wind_std</th>\n",
       "    </tr>\n",
       "  </thead>\n",
       "  <tbody>\n",
       "    <tr>\n",
       "      <th>0</th>\n",
       "      <td>2016-12-31 22:00:00</td>\n",
       "      <td>289.0</td>\n",
       "      <td>289.0</td>\n",
       "      <td>311.0</td>\n",
       "      <td>267.0</td>\n",
       "      <td>31.112698</td>\n",
       "    </tr>\n",
       "    <tr>\n",
       "      <th>1</th>\n",
       "      <td>2016-12-31 23:00:00</td>\n",
       "      <td>359.0</td>\n",
       "      <td>359.0</td>\n",
       "      <td>367.0</td>\n",
       "      <td>351.0</td>\n",
       "      <td>11.313708</td>\n",
       "    </tr>\n",
       "    <tr>\n",
       "      <th>2</th>\n",
       "      <td>2017-01-01 00:00:00</td>\n",
       "      <td>357.0</td>\n",
       "      <td>357.0</td>\n",
       "      <td>360.0</td>\n",
       "      <td>354.0</td>\n",
       "      <td>4.242641</td>\n",
       "    </tr>\n",
       "    <tr>\n",
       "      <th>3</th>\n",
       "      <td>2017-01-01 01:00:00</td>\n",
       "      <td>340.5</td>\n",
       "      <td>340.5</td>\n",
       "      <td>341.0</td>\n",
       "      <td>340.0</td>\n",
       "      <td>0.707107</td>\n",
       "    </tr>\n",
       "    <tr>\n",
       "      <th>4</th>\n",
       "      <td>2017-01-01 02:00:00</td>\n",
       "      <td>384.0</td>\n",
       "      <td>384.0</td>\n",
       "      <td>392.0</td>\n",
       "      <td>376.0</td>\n",
       "      <td>11.313708</td>\n",
       "    </tr>\n",
       "  </tbody>\n",
       "</table>\n",
       "</div>"
      ],
      "text/plain": [
       "             datetime  Wind_mean  Wind_median  Wind_max  Wind_min   Wind_std\n",
       "0 2016-12-31 22:00:00      289.0        289.0     311.0     267.0  31.112698\n",
       "1 2016-12-31 23:00:00      359.0        359.0     367.0     351.0  11.313708\n",
       "2 2017-01-01 00:00:00      357.0        357.0     360.0     354.0   4.242641\n",
       "3 2017-01-01 01:00:00      340.5        340.5     341.0     340.0   0.707107\n",
       "4 2017-01-01 02:00:00      384.0        384.0     392.0     376.0  11.313708"
      ]
     },
     "execution_count": 10,
     "metadata": {},
     "output_type": "execute_result"
    }
   ],
   "source": [
    "df_agg.head()"
   ]
  },
  {
   "cell_type": "code",
   "execution_count": null,
   "metadata": {},
   "outputs": [],
   "source": []
  },
  {
   "cell_type": "code",
   "execution_count": 11,
   "metadata": {},
   "outputs": [],
   "source": [
    "df_merged = df_agg.merge(df[required_columns], how=\"left\", on=\"datetime\")"
   ]
  },
  {
   "cell_type": "code",
   "execution_count": 12,
   "metadata": {},
   "outputs": [
    {
     "data": {
      "text/html": [
       "<div>\n",
       "<style scoped>\n",
       "    .dataframe tbody tr th:only-of-type {\n",
       "        vertical-align: middle;\n",
       "    }\n",
       "\n",
       "    .dataframe tbody tr th {\n",
       "        vertical-align: top;\n",
       "    }\n",
       "\n",
       "    .dataframe thead th {\n",
       "        text-align: right;\n",
       "    }\n",
       "</style>\n",
       "<table border=\"1\" class=\"dataframe\">\n",
       "  <thead>\n",
       "    <tr style=\"text-align: right;\">\n",
       "      <th></th>\n",
       "      <th>datetime</th>\n",
       "      <th>Wind_mean</th>\n",
       "      <th>Wind_median</th>\n",
       "      <th>Wind_max</th>\n",
       "      <th>Wind_min</th>\n",
       "      <th>Wind_std</th>\n",
       "      <th>Hours</th>\n",
       "      <th>Wind</th>\n",
       "      <th>guitrancourt_Speed(m/s)</th>\n",
       "      <th>guitrancourt_Direction (deg N)</th>\n",
       "      <th>...</th>\n",
       "      <th>parc-du-gatinais-b_Speed(m/s)</th>\n",
       "      <th>parc-du-gatinais-b_Direction (deg N)</th>\n",
       "      <th>arville-b_Speed(m/s)</th>\n",
       "      <th>arville-b_Direction (deg N)</th>\n",
       "      <th>boissy-la-riviere-b_Speed(m/s)</th>\n",
       "      <th>boissy-la-riviere-b_Direction (deg N)</th>\n",
       "      <th>angerville-1-b_Speed(m/s)</th>\n",
       "      <th>angerville-1-b_Direction (deg N)</th>\n",
       "      <th>angerville-2-b_Speed(m/s)</th>\n",
       "      <th>angerville-2-b_Direction (deg N)</th>\n",
       "    </tr>\n",
       "  </thead>\n",
       "  <tbody>\n",
       "    <tr>\n",
       "      <th>0</th>\n",
       "      <td>2016-12-31 22:00:00</td>\n",
       "      <td>289.0</td>\n",
       "      <td>289.0</td>\n",
       "      <td>311.0</td>\n",
       "      <td>267.0</td>\n",
       "      <td>31.112698</td>\n",
       "      <td>00:00</td>\n",
       "      <td>267.0</td>\n",
       "      <td>NaN</td>\n",
       "      <td>NaN</td>\n",
       "      <td>...</td>\n",
       "      <td>NaN</td>\n",
       "      <td>NaN</td>\n",
       "      <td>NaN</td>\n",
       "      <td>NaN</td>\n",
       "      <td>NaN</td>\n",
       "      <td>NaN</td>\n",
       "      <td>NaN</td>\n",
       "      <td>NaN</td>\n",
       "      <td>NaN</td>\n",
       "      <td>NaN</td>\n",
       "    </tr>\n",
       "    <tr>\n",
       "      <th>1</th>\n",
       "      <td>2016-12-31 23:00:00</td>\n",
       "      <td>359.0</td>\n",
       "      <td>359.0</td>\n",
       "      <td>367.0</td>\n",
       "      <td>351.0</td>\n",
       "      <td>11.313708</td>\n",
       "      <td>01:00</td>\n",
       "      <td>351.0</td>\n",
       "      <td>NaN</td>\n",
       "      <td>NaN</td>\n",
       "      <td>...</td>\n",
       "      <td>NaN</td>\n",
       "      <td>NaN</td>\n",
       "      <td>NaN</td>\n",
       "      <td>NaN</td>\n",
       "      <td>NaN</td>\n",
       "      <td>NaN</td>\n",
       "      <td>NaN</td>\n",
       "      <td>NaN</td>\n",
       "      <td>NaN</td>\n",
       "      <td>NaN</td>\n",
       "    </tr>\n",
       "    <tr>\n",
       "      <th>2</th>\n",
       "      <td>2017-01-01 00:00:00</td>\n",
       "      <td>357.0</td>\n",
       "      <td>357.0</td>\n",
       "      <td>360.0</td>\n",
       "      <td>354.0</td>\n",
       "      <td>4.242641</td>\n",
       "      <td>02:00</td>\n",
       "      <td>360.0</td>\n",
       "      <td>1.86</td>\n",
       "      <td>212.0</td>\n",
       "      <td>...</td>\n",
       "      <td>2.51</td>\n",
       "      <td>225.0</td>\n",
       "      <td>2.52</td>\n",
       "      <td>225.0</td>\n",
       "      <td>2.73</td>\n",
       "      <td>226.0</td>\n",
       "      <td>2.74</td>\n",
       "      <td>228.0</td>\n",
       "      <td>2.74</td>\n",
       "      <td>228.0</td>\n",
       "    </tr>\n",
       "    <tr>\n",
       "      <th>3</th>\n",
       "      <td>2017-01-01 01:00:00</td>\n",
       "      <td>340.5</td>\n",
       "      <td>340.5</td>\n",
       "      <td>341.0</td>\n",
       "      <td>340.0</td>\n",
       "      <td>0.707107</td>\n",
       "      <td>03:00</td>\n",
       "      <td>340.0</td>\n",
       "      <td>NaN</td>\n",
       "      <td>NaN</td>\n",
       "      <td>...</td>\n",
       "      <td>NaN</td>\n",
       "      <td>NaN</td>\n",
       "      <td>NaN</td>\n",
       "      <td>NaN</td>\n",
       "      <td>NaN</td>\n",
       "      <td>NaN</td>\n",
       "      <td>NaN</td>\n",
       "      <td>NaN</td>\n",
       "      <td>NaN</td>\n",
       "      <td>NaN</td>\n",
       "    </tr>\n",
       "    <tr>\n",
       "      <th>4</th>\n",
       "      <td>2017-01-01 02:00:00</td>\n",
       "      <td>384.0</td>\n",
       "      <td>384.0</td>\n",
       "      <td>392.0</td>\n",
       "      <td>376.0</td>\n",
       "      <td>11.313708</td>\n",
       "      <td>04:00</td>\n",
       "      <td>376.0</td>\n",
       "      <td>NaN</td>\n",
       "      <td>NaN</td>\n",
       "      <td>...</td>\n",
       "      <td>NaN</td>\n",
       "      <td>NaN</td>\n",
       "      <td>NaN</td>\n",
       "      <td>NaN</td>\n",
       "      <td>NaN</td>\n",
       "      <td>NaN</td>\n",
       "      <td>NaN</td>\n",
       "      <td>NaN</td>\n",
       "      <td>NaN</td>\n",
       "      <td>NaN</td>\n",
       "    </tr>\n",
       "  </tbody>\n",
       "</table>\n",
       "<p>5 rows × 40 columns</p>\n",
       "</div>"
      ],
      "text/plain": [
       "             datetime  Wind_mean  Wind_median  Wind_max  Wind_min   Wind_std  \\\n",
       "0 2016-12-31 22:00:00      289.0        289.0     311.0     267.0  31.112698   \n",
       "1 2016-12-31 23:00:00      359.0        359.0     367.0     351.0  11.313708   \n",
       "2 2017-01-01 00:00:00      357.0        357.0     360.0     354.0   4.242641   \n",
       "3 2017-01-01 01:00:00      340.5        340.5     341.0     340.0   0.707107   \n",
       "4 2017-01-01 02:00:00      384.0        384.0     392.0     376.0  11.313708   \n",
       "\n",
       "   Hours   Wind  guitrancourt_Speed(m/s)  guitrancourt_Direction (deg N)  ...  \\\n",
       "0  00:00  267.0                      NaN                             NaN  ...   \n",
       "1  01:00  351.0                      NaN                             NaN  ...   \n",
       "2  02:00  360.0                     1.86                           212.0  ...   \n",
       "3  03:00  340.0                      NaN                             NaN  ...   \n",
       "4  04:00  376.0                      NaN                             NaN  ...   \n",
       "\n",
       "   parc-du-gatinais-b_Speed(m/s)  parc-du-gatinais-b_Direction (deg N)  \\\n",
       "0                            NaN                                   NaN   \n",
       "1                            NaN                                   NaN   \n",
       "2                           2.51                                 225.0   \n",
       "3                            NaN                                   NaN   \n",
       "4                            NaN                                   NaN   \n",
       "\n",
       "   arville-b_Speed(m/s)  arville-b_Direction (deg N)  \\\n",
       "0                   NaN                          NaN   \n",
       "1                   NaN                          NaN   \n",
       "2                  2.52                        225.0   \n",
       "3                   NaN                          NaN   \n",
       "4                   NaN                          NaN   \n",
       "\n",
       "   boissy-la-riviere-b_Speed(m/s)  boissy-la-riviere-b_Direction (deg N)  \\\n",
       "0                             NaN                                    NaN   \n",
       "1                             NaN                                    NaN   \n",
       "2                            2.73                                  226.0   \n",
       "3                             NaN                                    NaN   \n",
       "4                             NaN                                    NaN   \n",
       "\n",
       "   angerville-1-b_Speed(m/s)  angerville-1-b_Direction (deg N)  \\\n",
       "0                        NaN                               NaN   \n",
       "1                        NaN                               NaN   \n",
       "2                       2.74                             228.0   \n",
       "3                        NaN                               NaN   \n",
       "4                        NaN                               NaN   \n",
       "\n",
       "   angerville-2-b_Speed(m/s)  angerville-2-b_Direction (deg N)  \n",
       "0                        NaN                               NaN  \n",
       "1                        NaN                               NaN  \n",
       "2                       2.74                             228.0  \n",
       "3                        NaN                               NaN  \n",
       "4                        NaN                               NaN  \n",
       "\n",
       "[5 rows x 40 columns]"
      ]
     },
     "execution_count": 12,
     "metadata": {},
     "output_type": "execute_result"
    }
   ],
   "source": [
    "df_merged.head()"
   ]
  },
  {
   "cell_type": "code",
   "execution_count": 34,
   "metadata": {},
   "outputs": [],
   "source": [
    "df_interpolated = df_merged.interpolate(method=\"linear\")"
   ]
  },
  {
   "cell_type": "code",
   "execution_count": 47,
   "metadata": {},
   "outputs": [],
   "source": [
    "df_interpolated = df_interpolated[2:]"
   ]
  },
  {
   "cell_type": "code",
   "execution_count": null,
   "metadata": {},
   "outputs": [],
   "source": []
  },
  {
   "cell_type": "markdown",
   "metadata": {},
   "source": [
    "## Feature selections through AR and PAR"
   ]
  },
  {
   "cell_type": "code",
   "execution_count": 36,
   "metadata": {},
   "outputs": [],
   "source": [
    "import matplotlib.pyplot as plt\n",
    "import seaborn as snn\n",
    "\n",
    "from statsmodels.graphics.tsaplots import plot_acf, plot_pacf"
   ]
  },
  {
   "cell_type": "code",
   "execution_count": null,
   "metadata": {},
   "outputs": [],
   "source": []
  },
  {
   "cell_type": "code",
   "execution_count": 37,
   "metadata": {},
   "outputs": [],
   "source": [
    "## plot AR\n",
    "def plot_auto_regression(data):\n",
    "    fig , axs = plt.subplots(1,2,figsize=(20,8))\n",
    "    lags = [30*24,90*24]\n",
    "\n",
    "    for ax, lag in zip(axs.flatten(),lags):\n",
    "        plot_acf(data,ax=ax, lags=lag)\n",
    "    plt.plot()\n"
   ]
  },
  {
   "cell_type": "code",
   "execution_count": 38,
   "metadata": {},
   "outputs": [
    {
     "data": {
      "image/png": "[encoded data removed]",
      "text/plain": [
       "<Figure size 1440x576 with 2 Axes>"
      ]
     },
     "metadata": {
      "needs_background": "light"
     },
     "output_type": "display_data"
    }
   ],
   "source": [
    "plot_auto_regression(df_interpolated.Wind)"
   ]
  },
  {
   "cell_type": "code",
   "execution_count": null,
   "metadata": {},
   "outputs": [],
   "source": []
  },
  {
   "cell_type": "code",
   "execution_count": 39,
   "metadata": {},
   "outputs": [],
   "source": [
    "hours_list = [\"0{}:00\".format(i)  for i in range(10)] + [\"{}:00\".format(i)  for i in range(10,25)]"
   ]
  },
  {
   "cell_type": "code",
   "execution_count": 40,
   "metadata": {},
   "outputs": [
    {
     "data": {
      "text/plain": [
       "Index(['datetime', 'Wind_mean', 'Wind_median', 'Wind_max', 'Wind_min',\n",
       "       'Wind_std', 'Hours', 'Wind', 'guitrancourt_Speed(m/s)',\n",
       "       'guitrancourt_Direction (deg N)', 'lieusaint_Speed(m/s)',\n",
       "       'lieusaint_Direction (deg N)', 'lvs-pussay_Speed(m/s)',\n",
       "       'lvs-pussay_Direction (deg N)', 'parc-du-gatinais_Speed(m/s)',\n",
       "       'parc-du-gatinais_Direction (deg N)', 'arville_Speed(m/s)',\n",
       "       'arville_Direction (deg N)', 'boissy-la-riviere_Speed(m/s)',\n",
       "       'boissy-la-riviere_Direction (deg N)', 'angerville-1_Speed(m/s)',\n",
       "       'angerville-1_Direction (deg N)', 'angerville-2_Speed(m/s)',\n",
       "       'angerville-2_Direction (deg N)', 'guitrancourt-b_Speed(m/s)',\n",
       "       'guitrancourt-b_Direction (deg N)', 'lieusaint-b_Speed(m/s)',\n",
       "       'lieusaint-b_Direction (deg N)', 'lvs-pussay-b_Speed(m/s)',\n",
       "       'lvs-pussay-b_Direction (deg N)', 'parc-du-gatinais-b_Speed(m/s)',\n",
       "       'parc-du-gatinais-b_Direction (deg N)', 'arville-b_Speed(m/s)',\n",
       "       'arville-b_Direction (deg N)', 'boissy-la-riviere-b_Speed(m/s)',\n",
       "       'boissy-la-riviere-b_Direction (deg N)', 'angerville-1-b_Speed(m/s)',\n",
       "       'angerville-1-b_Direction (deg N)', 'angerville-2-b_Speed(m/s)',\n",
       "       'angerville-2-b_Direction (deg N)'],\n",
       "      dtype='object')"
      ]
     },
     "execution_count": 40,
     "metadata": {},
     "output_type": "execute_result"
    }
   ],
   "source": [
    "df_interpolated.columns"
   ]
  },
  {
   "cell_type": "code",
   "execution_count": 29,
   "metadata": {},
   "outputs": [],
   "source": [
    "def plot_all_acf(column_name):\n",
    "    fig, axs = plt.subplots(int(12), 2, figsize=(15, 2*50))\n",
    "\n",
    "    for hour, ax in zip(hours_list, axs.flatten()):\n",
    "            plot_acf(df_interpolated[[column_name,\"Hours\"]][df.Hours==hour][column_name], ax=ax, lags=60)\n",
    "            ax.set_title('Autocorrelation hour {} with {}'.format(str(hour), column_name) )\n",
    "    plt.plot()\n",
    "    \n",
    "def plot_all_pacf(column_name):\n",
    "    fig, axs = plt.subplots(int(12), 2, figsize=(15, 2*50))\n",
    "    \n",
    "    for hour, ax in zip(hours_list, axs.flatten()):\n",
    "            plot_pacf(df_interpolated[[column_name,\"Hours\"]][df.Hours==hour][column_name], ax=ax, lags=60)\n",
    "            ax.set_title('Autocorrelation hour {} with {}'.format(str(hour), column_name) )\n",
    "    plt.plot()\n"
   ]
  },
  {
   "cell_type": "code",
   "execution_count": null,
   "metadata": {},
   "outputs": [],
   "source": []
  },
  {
   "cell_type": "markdown",
   "metadata": {},
   "source": [
    "## Model"
   ]
  },
  {
   "cell_type": "code",
   "execution_count": null,
   "metadata": {},
   "outputs": [],
   "source": []
  }
 ],
 "metadata": {
  "kernelspec": {
   "display_name": "Python 3",
   "language": "python",
   "name": "python3"
  },
  "language_info": {
   "codemirror_mode": {
    "name": "ipython",
    "version": 3
   },
   "file_extension": ".py",
   "mimetype": "text/x-python",
   "name": "python",
   "nbconvert_exporter": "python",
   "pygments_lexer": "ipython3",
   "version": "3.6.10"
  }
 },
 "nbformat": 4,
 "nbformat_minor": 4
}
