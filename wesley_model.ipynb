{
 "cells": [
  {
   "cell_type": "code",
   "execution_count": 172,
   "metadata": {},
   "outputs": [],
   "source": [
    "import pandas as pd\n",
    "import numpy as np\n",
    "import tensorflow as tf\n",
    "import os\n",
    "import plotly.express as px\n",
    "from plotly.subplots import make_subplots\n",
    "import plotly.graph_objects as go\n"
   ]
  },
  {
   "cell_type": "code",
   "execution_count": 2,
   "metadata": {},
   "outputs": [],
   "source": [
    "df = pd.read_csv(\"combined_energy_data.csv\")"
   ]
  },
  {
   "cell_type": "markdown",
   "metadata": {},
   "source": [
    "## Data Preprocessing"
   ]
  },
  {
   "cell_type": "code",
   "execution_count": 3,
   "metadata": {},
   "outputs": [],
   "source": [
    "## convert it to datetime\n",
    "df['datetime'] = pd.to_datetime(df.datetime)"
   ]
  },
  {
   "cell_type": "code",
   "execution_count": null,
   "metadata": {},
   "outputs": [],
   "source": []
  },
  {
   "cell_type": "code",
   "execution_count": 4,
   "metadata": {},
   "outputs": [],
   "source": [
    "agg_columns =  [\"datetime\",\"Wind\"]\n",
    "required_columns = [\"Hours\"] + agg_columns + [i for i in df.columns[12:]]"
   ]
  },
  {
   "cell_type": "code",
   "execution_count": 5,
   "metadata": {},
   "outputs": [
    {
     "data": {
      "text/plain": [
       "(Timestamp('2016-12-31 23:00:00'), Timestamp('2020-07-16 21:45:00'))"
      ]
     },
     "execution_count": 5,
     "metadata": {},
     "output_type": "execute_result"
    }
   ],
   "source": [
    "#the\n",
    "df.datetime.min() , df.datetime.max()"
   ]
  },
  {
   "cell_type": "code",
   "execution_count": null,
   "metadata": {},
   "outputs": [],
   "source": []
  },
  {
   "cell_type": "code",
   "execution_count": 6,
   "metadata": {},
   "outputs": [],
   "source": [
    "df_agg = df[agg_columns].groupby([df.datetime.dt.floor(\"H\")]).agg([\"mean\",\"median\",\"max\",\"min\",\"std\"])"
   ]
  },
  {
   "cell_type": "code",
   "execution_count": 7,
   "metadata": {},
   "outputs": [],
   "source": [
    "df_agg.columns = df_agg.columns.map('_'.join)"
   ]
  },
  {
   "cell_type": "code",
   "execution_count": 8,
   "metadata": {},
   "outputs": [],
   "source": [
    "df_agg = df_agg.reset_index()"
   ]
  },
  {
   "cell_type": "code",
   "execution_count": 9,
   "metadata": {},
   "outputs": [
    {
     "data": {
      "text/html": [
       "<div>\n",
       "<style scoped>\n",
       "    .dataframe tbody tr th:only-of-type {\n",
       "        vertical-align: middle;\n",
       "    }\n",
       "\n",
       "    .dataframe tbody tr th {\n",
       "        vertical-align: top;\n",
       "    }\n",
       "\n",
       "    .dataframe thead th {\n",
       "        text-align: right;\n",
       "    }\n",
       "</style>\n",
       "<table border=\"1\" class=\"dataframe\">\n",
       "  <thead>\n",
       "    <tr style=\"text-align: right;\">\n",
       "      <th></th>\n",
       "      <th>datetime</th>\n",
       "      <th>Wind_mean</th>\n",
       "      <th>Wind_median</th>\n",
       "      <th>Wind_max</th>\n",
       "      <th>Wind_min</th>\n",
       "      <th>Wind_std</th>\n",
       "    </tr>\n",
       "  </thead>\n",
       "  <tbody>\n",
       "    <tr>\n",
       "      <th>0</th>\n",
       "      <td>2016-12-31 23:00:00</td>\n",
       "      <td>0.0</td>\n",
       "      <td>0.0</td>\n",
       "      <td>0.0</td>\n",
       "      <td>0.0</td>\n",
       "      <td>0.0</td>\n",
       "    </tr>\n",
       "    <tr>\n",
       "      <th>1</th>\n",
       "      <td>2017-01-01 00:00:00</td>\n",
       "      <td>0.0</td>\n",
       "      <td>0.0</td>\n",
       "      <td>0.0</td>\n",
       "      <td>0.0</td>\n",
       "      <td>0.0</td>\n",
       "    </tr>\n",
       "    <tr>\n",
       "      <th>2</th>\n",
       "      <td>2017-01-01 01:00:00</td>\n",
       "      <td>0.0</td>\n",
       "      <td>0.0</td>\n",
       "      <td>0.0</td>\n",
       "      <td>0.0</td>\n",
       "      <td>0.0</td>\n",
       "    </tr>\n",
       "    <tr>\n",
       "      <th>3</th>\n",
       "      <td>2017-01-01 02:00:00</td>\n",
       "      <td>0.0</td>\n",
       "      <td>0.0</td>\n",
       "      <td>0.0</td>\n",
       "      <td>0.0</td>\n",
       "      <td>0.0</td>\n",
       "    </tr>\n",
       "    <tr>\n",
       "      <th>4</th>\n",
       "      <td>2017-01-01 03:00:00</td>\n",
       "      <td>0.0</td>\n",
       "      <td>0.0</td>\n",
       "      <td>0.0</td>\n",
       "      <td>0.0</td>\n",
       "      <td>0.0</td>\n",
       "    </tr>\n",
       "  </tbody>\n",
       "</table>\n",
       "</div>"
      ],
      "text/plain": [
       "             datetime  Wind_mean  Wind_median  Wind_max  Wind_min  Wind_std\n",
       "0 2016-12-31 23:00:00        0.0          0.0       0.0       0.0       0.0\n",
       "1 2017-01-01 00:00:00        0.0          0.0       0.0       0.0       0.0\n",
       "2 2017-01-01 01:00:00        0.0          0.0       0.0       0.0       0.0\n",
       "3 2017-01-01 02:00:00        0.0          0.0       0.0       0.0       0.0\n",
       "4 2017-01-01 03:00:00        0.0          0.0       0.0       0.0       0.0"
      ]
     },
     "execution_count": 9,
     "metadata": {},
     "output_type": "execute_result"
    }
   ],
   "source": [
    "df_agg.head()"
   ]
  },
  {
   "cell_type": "code",
   "execution_count": null,
   "metadata": {},
   "outputs": [],
   "source": []
  },
  {
   "cell_type": "code",
   "execution_count": 10,
   "metadata": {},
   "outputs": [],
   "source": [
    "df_merged = df_agg.merge(df[required_columns], how=\"left\", on=\"datetime\")"
   ]
  },
  {
   "cell_type": "code",
   "execution_count": 11,
   "metadata": {},
   "outputs": [
    {
     "data": {
      "text/html": [
       "<div>\n",
       "<style scoped>\n",
       "    .dataframe tbody tr th:only-of-type {\n",
       "        vertical-align: middle;\n",
       "    }\n",
       "\n",
       "    .dataframe tbody tr th {\n",
       "        vertical-align: top;\n",
       "    }\n",
       "\n",
       "    .dataframe thead th {\n",
       "        text-align: right;\n",
       "    }\n",
       "</style>\n",
       "<table border=\"1\" class=\"dataframe\">\n",
       "  <thead>\n",
       "    <tr style=\"text-align: right;\">\n",
       "      <th></th>\n",
       "      <th>datetime</th>\n",
       "      <th>Wind_mean</th>\n",
       "      <th>Wind_median</th>\n",
       "      <th>Wind_max</th>\n",
       "      <th>Wind_min</th>\n",
       "      <th>Wind_std</th>\n",
       "      <th>Hours</th>\n",
       "      <th>Wind</th>\n",
       "      <th>guitrancourt_Speed(m/s)</th>\n",
       "      <th>guitrancourt_Direction (deg N)</th>\n",
       "      <th>...</th>\n",
       "      <th>parc-du-gatinais-b_Speed(m/s)</th>\n",
       "      <th>parc-du-gatinais-b_Direction (deg N)</th>\n",
       "      <th>arville-b_Speed(m/s)</th>\n",
       "      <th>arville-b_Direction (deg N)</th>\n",
       "      <th>boissy-la-riviere-b_Speed(m/s)</th>\n",
       "      <th>boissy-la-riviere-b_Direction (deg N)</th>\n",
       "      <th>angerville-1-b_Speed(m/s)</th>\n",
       "      <th>angerville-1-b_Direction (deg N)</th>\n",
       "      <th>angerville-2-b_Speed(m/s)</th>\n",
       "      <th>angerville-2-b_Direction (deg N)</th>\n",
       "    </tr>\n",
       "  </thead>\n",
       "  <tbody>\n",
       "    <tr>\n",
       "      <th>0</th>\n",
       "      <td>2016-12-31 23:00:00</td>\n",
       "      <td>0.0</td>\n",
       "      <td>0.0</td>\n",
       "      <td>0.0</td>\n",
       "      <td>0.0</td>\n",
       "      <td>0.0</td>\n",
       "      <td>00:00</td>\n",
       "      <td>0.0</td>\n",
       "      <td>NaN</td>\n",
       "      <td>NaN</td>\n",
       "      <td>...</td>\n",
       "      <td>NaN</td>\n",
       "      <td>NaN</td>\n",
       "      <td>NaN</td>\n",
       "      <td>NaN</td>\n",
       "      <td>NaN</td>\n",
       "      <td>NaN</td>\n",
       "      <td>NaN</td>\n",
       "      <td>NaN</td>\n",
       "      <td>NaN</td>\n",
       "      <td>NaN</td>\n",
       "    </tr>\n",
       "    <tr>\n",
       "      <th>1</th>\n",
       "      <td>2017-01-01 00:00:00</td>\n",
       "      <td>0.0</td>\n",
       "      <td>0.0</td>\n",
       "      <td>0.0</td>\n",
       "      <td>0.0</td>\n",
       "      <td>0.0</td>\n",
       "      <td>01:00</td>\n",
       "      <td>0.0</td>\n",
       "      <td>1.86</td>\n",
       "      <td>212.0</td>\n",
       "      <td>...</td>\n",
       "      <td>2.51</td>\n",
       "      <td>225.0</td>\n",
       "      <td>2.52</td>\n",
       "      <td>225.0</td>\n",
       "      <td>2.73</td>\n",
       "      <td>226.0</td>\n",
       "      <td>2.74</td>\n",
       "      <td>228.0</td>\n",
       "      <td>2.74</td>\n",
       "      <td>228.0</td>\n",
       "    </tr>\n",
       "    <tr>\n",
       "      <th>2</th>\n",
       "      <td>2017-01-01 01:00:00</td>\n",
       "      <td>0.0</td>\n",
       "      <td>0.0</td>\n",
       "      <td>0.0</td>\n",
       "      <td>0.0</td>\n",
       "      <td>0.0</td>\n",
       "      <td>02:00</td>\n",
       "      <td>0.0</td>\n",
       "      <td>NaN</td>\n",
       "      <td>NaN</td>\n",
       "      <td>...</td>\n",
       "      <td>NaN</td>\n",
       "      <td>NaN</td>\n",
       "      <td>NaN</td>\n",
       "      <td>NaN</td>\n",
       "      <td>NaN</td>\n",
       "      <td>NaN</td>\n",
       "      <td>NaN</td>\n",
       "      <td>NaN</td>\n",
       "      <td>NaN</td>\n",
       "      <td>NaN</td>\n",
       "    </tr>\n",
       "    <tr>\n",
       "      <th>3</th>\n",
       "      <td>2017-01-01 02:00:00</td>\n",
       "      <td>0.0</td>\n",
       "      <td>0.0</td>\n",
       "      <td>0.0</td>\n",
       "      <td>0.0</td>\n",
       "      <td>0.0</td>\n",
       "      <td>03:00</td>\n",
       "      <td>0.0</td>\n",
       "      <td>NaN</td>\n",
       "      <td>NaN</td>\n",
       "      <td>...</td>\n",
       "      <td>NaN</td>\n",
       "      <td>NaN</td>\n",
       "      <td>NaN</td>\n",
       "      <td>NaN</td>\n",
       "      <td>NaN</td>\n",
       "      <td>NaN</td>\n",
       "      <td>NaN</td>\n",
       "      <td>NaN</td>\n",
       "      <td>NaN</td>\n",
       "      <td>NaN</td>\n",
       "    </tr>\n",
       "    <tr>\n",
       "      <th>4</th>\n",
       "      <td>2017-01-01 03:00:00</td>\n",
       "      <td>0.0</td>\n",
       "      <td>0.0</td>\n",
       "      <td>0.0</td>\n",
       "      <td>0.0</td>\n",
       "      <td>0.0</td>\n",
       "      <td>04:00</td>\n",
       "      <td>0.0</td>\n",
       "      <td>NaN</td>\n",
       "      <td>NaN</td>\n",
       "      <td>...</td>\n",
       "      <td>NaN</td>\n",
       "      <td>NaN</td>\n",
       "      <td>NaN</td>\n",
       "      <td>NaN</td>\n",
       "      <td>NaN</td>\n",
       "      <td>NaN</td>\n",
       "      <td>NaN</td>\n",
       "      <td>NaN</td>\n",
       "      <td>NaN</td>\n",
       "      <td>NaN</td>\n",
       "    </tr>\n",
       "  </tbody>\n",
       "</table>\n",
       "<p>5 rows × 40 columns</p>\n",
       "</div>"
      ],
      "text/plain": [
       "             datetime  Wind_mean  Wind_median  Wind_max  Wind_min  Wind_std  \\\n",
       "0 2016-12-31 23:00:00        0.0          0.0       0.0       0.0       0.0   \n",
       "1 2017-01-01 00:00:00        0.0          0.0       0.0       0.0       0.0   \n",
       "2 2017-01-01 01:00:00        0.0          0.0       0.0       0.0       0.0   \n",
       "3 2017-01-01 02:00:00        0.0          0.0       0.0       0.0       0.0   \n",
       "4 2017-01-01 03:00:00        0.0          0.0       0.0       0.0       0.0   \n",
       "\n",
       "   Hours  Wind  guitrancourt_Speed(m/s)  guitrancourt_Direction (deg N)  ...  \\\n",
       "0  00:00   0.0                      NaN                             NaN  ...   \n",
       "1  01:00   0.0                     1.86                           212.0  ...   \n",
       "2  02:00   0.0                      NaN                             NaN  ...   \n",
       "3  03:00   0.0                      NaN                             NaN  ...   \n",
       "4  04:00   0.0                      NaN                             NaN  ...   \n",
       "\n",
       "   parc-du-gatinais-b_Speed(m/s)  parc-du-gatinais-b_Direction (deg N)  \\\n",
       "0                            NaN                                   NaN   \n",
       "1                           2.51                                 225.0   \n",
       "2                            NaN                                   NaN   \n",
       "3                            NaN                                   NaN   \n",
       "4                            NaN                                   NaN   \n",
       "\n",
       "   arville-b_Speed(m/s)  arville-b_Direction (deg N)  \\\n",
       "0                   NaN                          NaN   \n",
       "1                  2.52                        225.0   \n",
       "2                   NaN                          NaN   \n",
       "3                   NaN                          NaN   \n",
       "4                   NaN                          NaN   \n",
       "\n",
       "   boissy-la-riviere-b_Speed(m/s)  boissy-la-riviere-b_Direction (deg N)  \\\n",
       "0                             NaN                                    NaN   \n",
       "1                            2.73                                  226.0   \n",
       "2                             NaN                                    NaN   \n",
       "3                             NaN                                    NaN   \n",
       "4                             NaN                                    NaN   \n",
       "\n",
       "   angerville-1-b_Speed(m/s)  angerville-1-b_Direction (deg N)  \\\n",
       "0                        NaN                               NaN   \n",
       "1                       2.74                             228.0   \n",
       "2                        NaN                               NaN   \n",
       "3                        NaN                               NaN   \n",
       "4                        NaN                               NaN   \n",
       "\n",
       "   angerville-2-b_Speed(m/s)  angerville-2-b_Direction (deg N)  \n",
       "0                        NaN                               NaN  \n",
       "1                       2.74                             228.0  \n",
       "2                        NaN                               NaN  \n",
       "3                        NaN                               NaN  \n",
       "4                        NaN                               NaN  \n",
       "\n",
       "[5 rows x 40 columns]"
      ]
     },
     "execution_count": 11,
     "metadata": {},
     "output_type": "execute_result"
    }
   ],
   "source": [
    "df_merged.head()"
   ]
  },
  {
   "cell_type": "code",
   "execution_count": 12,
   "metadata": {},
   "outputs": [],
   "source": [
    "df_interpolated = df_merged.interpolate(method=\"linear\")"
   ]
  },
  {
   "cell_type": "code",
   "execution_count": 13,
   "metadata": {},
   "outputs": [],
   "source": [
    "df_interpolated = df_interpolated[2:]"
   ]
  },
  {
   "cell_type": "code",
   "execution_count": null,
   "metadata": {},
   "outputs": [],
   "source": []
  },
  {
   "cell_type": "markdown",
   "metadata": {},
   "source": [
    "## Feature selections through AR and PAR"
   ]
  },
  {
   "cell_type": "code",
   "execution_count": 14,
   "metadata": {},
   "outputs": [],
   "source": [
    "import matplotlib.pyplot as plt\n",
    "import seaborn as snn\n",
    "\n",
    "from statsmodels.graphics.tsaplots import plot_acf, plot_pacf"
   ]
  },
  {
   "cell_type": "code",
   "execution_count": null,
   "metadata": {},
   "outputs": [],
   "source": []
  },
  {
   "cell_type": "code",
   "execution_count": 15,
   "metadata": {},
   "outputs": [],
   "source": [
    "## plot AR\n",
    "def plot_auto_regression(data):\n",
    "    fig , axs = plt.subplots(1,2,figsize=(20,8))\n",
    "    lags = [30*24,90*24]\n",
    "\n",
    "    for ax, lag in zip(axs.flatten(),lags):\n",
    "        plot_acf(data,ax=ax, lags=lag)\n",
    "    plt.plot()\n"
   ]
  },
  {
   "cell_type": "code",
   "execution_count": 16,
   "metadata": {},
   "outputs": [
    {
     "data": {
      "image/png": "[encoded data removed]",
      "text/plain": [
       "<Figure size 1440x576 with 2 Axes>"
      ]
     },
     "metadata": {
      "needs_background": "light"
     },
     "output_type": "display_data"
    }
   ],
   "source": [
    "plot_auto_regression(df_interpolated.Wind)"
   ]
  },
  {
   "cell_type": "code",
   "execution_count": null,
   "metadata": {},
   "outputs": [],
   "source": []
  },
  {
   "cell_type": "code",
   "execution_count": 17,
   "metadata": {},
   "outputs": [],
   "source": [
    "hours_list = [\"0{}:00\".format(i)  for i in range(10)] + [\"{}:00\".format(i)  for i in range(10,25)]"
   ]
  },
  {
   "cell_type": "code",
   "execution_count": 18,
   "metadata": {},
   "outputs": [
    {
     "name": "stdout",
     "output_type": "stream",
     "text": [
      "Index(['Wind_mean', 'Wind_median', 'Wind_max', 'Wind_min', 'Wind_std', 'Hours',\n",
      "       'Wind', 'guitrancourt_Speed(m/s)', 'guitrancourt_Direction (deg N)',\n",
      "       'lieusaint_Speed(m/s)'],\n",
      "      dtype='object')\n"
     ]
    }
   ],
   "source": [
    "useful_columns = df_interpolated.columns[1:]\n",
    "print(useful_columns[:10])"
   ]
  },
  {
   "cell_type": "code",
   "execution_count": 19,
   "metadata": {},
   "outputs": [
    {
     "name": "stdout",
     "output_type": "stream",
     "text": [
      "Index(['lieusaint_Direction (deg N)', 'lvs-pussay_Speed(m/s)',\n",
      "       'lvs-pussay_Direction (deg N)', 'parc-du-gatinais_Speed(m/s)',\n",
      "       'parc-du-gatinais_Direction (deg N)', 'arville_Speed(m/s)',\n",
      "       'arville_Direction (deg N)', 'boissy-la-riviere_Speed(m/s)',\n",
      "       'boissy-la-riviere_Direction (deg N)', 'angerville-1_Speed(m/s)'],\n",
      "      dtype='object')\n"
     ]
    }
   ],
   "source": [
    "print(useful_columns[10:20])"
   ]
  },
  {
   "cell_type": "code",
   "execution_count": 20,
   "metadata": {},
   "outputs": [
    {
     "name": "stdout",
     "output_type": "stream",
     "text": [
      "Index(['angerville-1_Direction (deg N)', 'angerville-2_Speed(m/s)',\n",
      "       'angerville-2_Direction (deg N)', 'guitrancourt-b_Speed(m/s)',\n",
      "       'guitrancourt-b_Direction (deg N)', 'lieusaint-b_Speed(m/s)',\n",
      "       'lieusaint-b_Direction (deg N)', 'lvs-pussay-b_Speed(m/s)',\n",
      "       'lvs-pussay-b_Direction (deg N)', 'parc-du-gatinais-b_Speed(m/s)'],\n",
      "      dtype='object')\n"
     ]
    }
   ],
   "source": [
    "print(useful_columns[20:30])"
   ]
  },
  {
   "cell_type": "code",
   "execution_count": 21,
   "metadata": {},
   "outputs": [
    {
     "name": "stdout",
     "output_type": "stream",
     "text": [
      "Index(['parc-du-gatinais-b_Direction (deg N)', 'arville-b_Speed(m/s)',\n",
      "       'arville-b_Direction (deg N)', 'boissy-la-riviere-b_Speed(m/s)',\n",
      "       'boissy-la-riviere-b_Direction (deg N)', 'angerville-1-b_Speed(m/s)',\n",
      "       'angerville-1-b_Direction (deg N)', 'angerville-2-b_Speed(m/s)',\n",
      "       'angerville-2-b_Direction (deg N)'],\n",
      "      dtype='object')\n"
     ]
    }
   ],
   "source": [
    "print(useful_columns[30:])"
   ]
  },
  {
   "cell_type": "code",
   "execution_count": null,
   "metadata": {},
   "outputs": [],
   "source": []
  },
  {
   "cell_type": "code",
   "execution_count": 22,
   "metadata": {},
   "outputs": [],
   "source": [
    "def plot_all_acf(column_name):\n",
    "    fig, axs = plt.subplots(int(12), 2, figsize=(15, 2*50))\n",
    "\n",
    "    for hour, ax in zip(hours_list, axs.flatten()):\n",
    "            plot_acf(df_interpolated[[column_name,\"Hours\"]][df.Hours==hour][column_name], ax=ax, lags=60)\n",
    "            ax.set_title('Autocorrelation hour {} with {}'.format(str(hour), column_name) )\n",
    "            ax.plot(np.linspace(-60,60,120),np.full(120,0.05), 'go--', linewidth=1, markersize=1, color=\"red\")\n",
    "            ax.plot(np.linspace(-60,60,120),np.full(120,-0.05), 'go--', linewidth=1, markersize=1, color=\"red\")\n",
    "            ax.plot(np.full(100,-30),np.linspace(-0.1,0.1,100), 'go--', linewidth=1, markersize=1, color=\"blue\")\n",
    "    plt.plot()\n",
    "    \n",
    "def plot_all_pacf(column_name):\n",
    "    fig, axs = plt.subplots(int(12), 2, figsize=(15, 2*50))\n",
    "    \n",
    "    for hour, ax in zip(hours_list, axs.flatten()):\n",
    "            plot_pacf(df_interpolated[[column_name,\"Hours\"]][df.Hours==hour][column_name], ax=ax, lags=60)\n",
    "            ax.set_title('Autocorrelation hour {} with {}'.format(str(hour), column_name) )\n",
    "            ax.plot(np.full(100,-30),np.linspace(-0.1,0.1,100), 'go--', linewidth=1, markersize=1, color=\"blue\")\n",
    "    plt.plot()\n"
   ]
  },
  {
   "cell_type": "markdown",
   "metadata": {},
   "source": [
    "## Model"
   ]
  },
  {
   "cell_type": "markdown",
   "metadata": {},
   "source": []
  },
  {
   "cell_type": "code",
   "execution_count": null,
   "metadata": {},
   "outputs": [],
   "source": []
  },
  {
   "cell_type": "code",
   "execution_count": null,
   "metadata": {},
   "outputs": [],
   "source": []
  },
  {
   "cell_type": "code",
   "execution_count": null,
   "metadata": {},
   "outputs": [],
   "source": []
  },
  {
   "cell_type": "code",
   "execution_count": null,
   "metadata": {},
   "outputs": [],
   "source": []
  },
  {
   "cell_type": "code",
   "execution_count": 89,
   "metadata": {},
   "outputs": [],
   "source": [
    "normalized_df_wind_mean = (df_interpolated[\"Wind_mean\"]-df_interpolated[\"Wind_mean\"].mean())/df_interpolated[\"Wind_mean\"].std()\n",
    "def plot_diff_day_but_same_hour_ccf(column_name):\n",
    "    fig, axs = plt.subplots(int(12), 2, figsize=(15, 2*50))\n",
    "    normalized_df_column = (df_interpolated[column_name]-df_interpolated[column_name].mean())/df_interpolated[column_name].std()\n",
    "    for hour, ax in zip(hours_list, axs.flatten()):\n",
    "            ax.xcorr(pd.Series(normalized_df_wind_mean)[df_interpolated.Hours==hour], pd.Series(normalized_df_column)[df_interpolated.Hours==hour], usevlines=True, maxlags=60, normed=True, lw=2 )\n",
    "            ax.set_title('Cross-correlation hour {} with {}'.format(str(hour), column_name) )\n",
    "            ax.grid(True)\n",
    "            ax.plot(np.linspace(-60,60,120),np.full(120,0.05), 'go--', linewidth=1, markersize=1, color=\"red\")\n",
    "            ax.plot(np.linspace(-60,60,120),np.full(120,-0.05), 'go--', linewidth=1, markersize=1, color=\"red\")\n",
    "            ax.plot(np.full(100,-2),np.linspace(-0.1,0.1,100), 'go--', linewidth=1, markersize=1, color=\"blue\")\n",
    "           \n",
    "    plt.plot()\n",
    "\n",
    "def plot_continuous_hour_ccf(column_name):\n",
    "    fig, ax = plt.subplots(1, 1, figsize=(10, 10))\n",
    "  \n",
    "    normalized_df_column = (df_interpolated[column_name]-df_interpolated[column_name].mean())/df_interpolated[column_name].std()\n",
    "    ax.xcorr(pd.Series(normalized_df_wind_mean), pd.Series(normalized_df_column), usevlines=True, maxlags=60, normed=True, lw=2 )\n",
    "    ax.set_title('Cross-correlation with {}'.format( column_name) )\n",
    "    ax.grid(True)\n",
    "    plt.plot()\n",
    "    plt.plot(np.linspace(-60,60,120),np.full(120,0.05), 'go--', linewidth=1, markersize=1, color=\"red\")\n",
    "    plt.plot(np.linspace(-60,60,120),np.full(120,-0.05), 'go--', linewidth=1, markersize=1, color=\"red\")\n",
    "    plt.plot(np.full(100,-30),np.linspace(-0.1,0.1,100), 'go--', linewidth=1, markersize=1, color=\"blue\")\n",
    "    #plt.plot(np.full(100,18),np.linspace(-0.1,0.1,100), 'go--', linewidth=1, markersize=1, color=\"orange\")\n",
    "  "
   ]
  },
  {
   "cell_type": "code",
   "execution_count": 149,
   "metadata": {},
   "outputs": [],
   "source": [
    "import plotly.graph_objects as go"
   ]
  },
  {
   "cell_type": "code",
   "execution_count": 395,
   "metadata": {},
   "outputs": [
    {
     "ename": "NameError",
     "evalue": "name 'normalized_df_column' is not defined",
     "output_type": "error",
     "traceback": [
      "\u001b[1;31m---------------------------------------------------------------------------\u001b[0m",
      "\u001b[1;31mNameError\u001b[0m                                 Traceback (most recent call last)",
      "\u001b[1;32m<ipython-input-395-ff132436deb3>\u001b[0m in \u001b[0;36m<module>\u001b[1;34m\u001b[0m\n\u001b[1;32m----> 1\u001b[1;33m \u001b[0mcross_correlation\u001b[0m \u001b[1;33m=\u001b[0m \u001b[0mnp\u001b[0m\u001b[1;33m.\u001b[0m\u001b[0mcorrelate\u001b[0m\u001b[1;33m(\u001b[0m\u001b[0mpd\u001b[0m\u001b[1;33m.\u001b[0m\u001b[0mSeries\u001b[0m\u001b[1;33m(\u001b[0m\u001b[0mnormalized_df_wind_mean\u001b[0m\u001b[1;33m)\u001b[0m\u001b[1;33m,\u001b[0m \u001b[0mpd\u001b[0m\u001b[1;33m.\u001b[0m\u001b[0mSeries\u001b[0m\u001b[1;33m(\u001b[0m\u001b[0mnormalized_df_column\u001b[0m\u001b[1;33m)\u001b[0m\u001b[1;33m,\u001b[0m\u001b[1;34m\"full\"\u001b[0m\u001b[1;33m)\u001b[0m\u001b[1;33m\u001b[0m\u001b[1;33m\u001b[0m\u001b[0m\n\u001b[0m",
      "\u001b[1;31mNameError\u001b[0m: name 'normalized_df_column' is not defined"
     ]
    }
   ],
   "source": [
    "cross_correlation = np.correlate(pd.Series(normalized_df_wind_mean), pd.Series(normalized_df_column),\"full\")\n"
   ]
  },
  {
   "cell_type": "code",
   "execution_count": 406,
   "metadata": {},
   "outputs": [],
   "source": [
    "def plot_diff_day_but_protect_eye(column_name):\n",
    "    \n",
    "    subtitle_name = (['Cross-correlation hour {} with {}'.format(str(hour), column_name)  for hour in hours_list])\n",
    "   \n",
    "    \n",
    "    normalized_df_column = (df_interpolated[column_name]-df_interpolated[column_name].mean())/df_interpolated[column_name].std()\n",
    "   \n",
    "    fig = make_subplots(rows=24, cols=1 , subplot_titles=subtitle_name)\n",
    "    for hour, i in zip(hours_list,range(1,25)):\n",
    "        cross_correlation = np.correlate(pd.Series(normalized_df_wind_mean)[df_interpolated.Hours==hour], pd.Series(normalized_df_column)[df_interpolated.Hours==hour],\"full\")\n",
    "        cross_shape = int(cross_correlation.shape[0]/2)\n",
    "       \n",
    "        y = cross_correlation[cross_shape-60:cross_shape+60]/10000\n",
    "       \n",
    "       \n",
    "        \n",
    "        \n",
    "        fig.add_trace(go.Scatter(x=np.linspace(-60,60,120,dtype=np.int), y=y,mode=\"lines\"),row=i, col=1)\n",
    "        fig.add_trace(go.Scatter(x=np.linspace(-60,60,120), y=np.full(120,0.05), mode='lines'),row=i, col=1)\n",
    "        fig.add_trace(go.Scatter((x=np.linspace(-60,60,120), y=np.full(120,-0.05), mode='lines'),row=i, col=1)\n",
    "        fig.add_trace(x=np.full(100,-2), y=np.linspace(-0.1,0.1,100), mode='lines',row=i, col=1)\n",
    "        fig.update_layout(height=9000, width=700,\n",
    "                  title_text=\"Multiple Subplots with Titles\")\n",
    "        #print(i)\n",
    "    fig.show()\n",
    "            \n",
    " \n",
    "    \n",
    "def plot_continuous_hour_ccf_protect_eye(column_name):\n",
    "    \n",
    "    \n",
    "    normalized_df_column = (df_interpolated[column_name]-df_interpolated[column_name].mean())/df_interpolated[column_name].std()\n",
    "    \n",
    "    cross_correlation = np.correlate(pd.Series(normalized_df_wind_mean), pd.Series(normalized_df_column),\"full\")\n",
    "    #print(cross_correlation.shape)\n",
    "    y = cross_correlation[31015-60:31015+60]/10000\n",
    "    fig = px.line(x=np.linspace(-60,60,120,dtype=np.int), y=y)\n",
    "    \n",
    "    \n",
    "    fig.add_scatter(x=np.linspace(-60,60,120), y=np.full(120,0.05), mode='lines')\n",
    "    fig.add_scatter(x=np.linspace(-60,60,120), y=np.full(120,-0.05), mode='lines')\n",
    "    fig.add_scatter(x=np.full(100,-30), y=np.linspace(-0.1,0.1,100), mode='lines')\n",
    "   \n",
    "    \n",
    "    fig.layout.update(go.Layout(barmode = 'overlay',))\n",
    "\n",
    "    #plotly.offline.plot(fig)\n",
    "    fig.show()\n",
    "   "
   ]
  },
  {
   "cell_type": "code",
   "execution_count": 407,
   "metadata": {},
   "outputs": [
    {
     "ename": "TypeError",
     "evalue": "add_trace() got an unexpected keyword argument 'x'",
     "output_type": "error",
     "traceback": [
      "\u001b[1;31m---------------------------------------------------------------------------\u001b[0m",
      "\u001b[1;31mTypeError\u001b[0m                                 Traceback (most recent call last)",
      "\u001b[1;32m<ipython-input-407-3a5b95eeacbb>\u001b[0m in \u001b[0;36m<module>\u001b[1;34m\u001b[0m\n\u001b[1;32m----> 1\u001b[1;33m \u001b[0mplot_diff_day_but_protect_eye\u001b[0m\u001b[1;33m(\u001b[0m\u001b[1;34m'lvs-pussay_Speed(m/s)'\u001b[0m\u001b[1;33m)\u001b[0m\u001b[1;33m\u001b[0m\u001b[1;33m\u001b[0m\u001b[0m\n\u001b[0m",
      "\u001b[1;32m<ipython-input-406-a51dec737770>\u001b[0m in \u001b[0;36mplot_diff_day_but_protect_eye\u001b[1;34m(column_name)\u001b[0m\n\u001b[0;32m     17\u001b[0m \u001b[1;33m\u001b[0m\u001b[0m\n\u001b[0;32m     18\u001b[0m         \u001b[0mfig\u001b[0m\u001b[1;33m.\u001b[0m\u001b[0madd_trace\u001b[0m\u001b[1;33m(\u001b[0m\u001b[0mgo\u001b[0m\u001b[1;33m.\u001b[0m\u001b[0mScatter\u001b[0m\u001b[1;33m(\u001b[0m\u001b[0mx\u001b[0m\u001b[1;33m=\u001b[0m\u001b[0mnp\u001b[0m\u001b[1;33m.\u001b[0m\u001b[0mlinspace\u001b[0m\u001b[1;33m(\u001b[0m\u001b[1;33m-\u001b[0m\u001b[1;36m60\u001b[0m\u001b[1;33m,\u001b[0m\u001b[1;36m60\u001b[0m\u001b[1;33m,\u001b[0m\u001b[1;36m120\u001b[0m\u001b[1;33m,\u001b[0m\u001b[0mdtype\u001b[0m\u001b[1;33m=\u001b[0m\u001b[0mnp\u001b[0m\u001b[1;33m.\u001b[0m\u001b[0mint\u001b[0m\u001b[1;33m)\u001b[0m\u001b[1;33m,\u001b[0m \u001b[0my\u001b[0m\u001b[1;33m=\u001b[0m\u001b[0my\u001b[0m\u001b[1;33m,\u001b[0m\u001b[0mmode\u001b[0m\u001b[1;33m=\u001b[0m\u001b[1;34m\"lines\"\u001b[0m\u001b[1;33m)\u001b[0m\u001b[1;33m,\u001b[0m\u001b[0mrow\u001b[0m\u001b[1;33m=\u001b[0m\u001b[0mi\u001b[0m\u001b[1;33m,\u001b[0m \u001b[0mcol\u001b[0m\u001b[1;33m=\u001b[0m\u001b[1;36m1\u001b[0m\u001b[1;33m)\u001b[0m\u001b[1;33m\u001b[0m\u001b[1;33m\u001b[0m\u001b[0m\n\u001b[1;32m---> 19\u001b[1;33m         \u001b[0mfig\u001b[0m\u001b[1;33m.\u001b[0m\u001b[0madd_trace\u001b[0m\u001b[1;33m(\u001b[0m\u001b[0mx\u001b[0m\u001b[1;33m=\u001b[0m\u001b[0mnp\u001b[0m\u001b[1;33m.\u001b[0m\u001b[0mlinspace\u001b[0m\u001b[1;33m(\u001b[0m\u001b[1;33m-\u001b[0m\u001b[1;36m60\u001b[0m\u001b[1;33m,\u001b[0m\u001b[1;36m60\u001b[0m\u001b[1;33m,\u001b[0m\u001b[1;36m120\u001b[0m\u001b[1;33m)\u001b[0m\u001b[1;33m,\u001b[0m \u001b[0my\u001b[0m\u001b[1;33m=\u001b[0m\u001b[0mnp\u001b[0m\u001b[1;33m.\u001b[0m\u001b[0mfull\u001b[0m\u001b[1;33m(\u001b[0m\u001b[1;36m120\u001b[0m\u001b[1;33m,\u001b[0m\u001b[1;36m0.05\u001b[0m\u001b[1;33m)\u001b[0m\u001b[1;33m,\u001b[0m \u001b[0mmode\u001b[0m\u001b[1;33m=\u001b[0m\u001b[1;34m'lines'\u001b[0m\u001b[1;33m,\u001b[0m\u001b[0mrow\u001b[0m\u001b[1;33m=\u001b[0m\u001b[0mi\u001b[0m\u001b[1;33m,\u001b[0m \u001b[0mcol\u001b[0m\u001b[1;33m=\u001b[0m\u001b[1;36m1\u001b[0m\u001b[1;33m)\u001b[0m\u001b[1;33m\u001b[0m\u001b[1;33m\u001b[0m\u001b[0m\n\u001b[0m\u001b[0;32m     20\u001b[0m         \u001b[0mfig\u001b[0m\u001b[1;33m.\u001b[0m\u001b[0madd_trace\u001b[0m\u001b[1;33m(\u001b[0m\u001b[0mx\u001b[0m\u001b[1;33m=\u001b[0m\u001b[0mnp\u001b[0m\u001b[1;33m.\u001b[0m\u001b[0mlinspace\u001b[0m\u001b[1;33m(\u001b[0m\u001b[1;33m-\u001b[0m\u001b[1;36m60\u001b[0m\u001b[1;33m,\u001b[0m\u001b[1;36m60\u001b[0m\u001b[1;33m,\u001b[0m\u001b[1;36m120\u001b[0m\u001b[1;33m)\u001b[0m\u001b[1;33m,\u001b[0m \u001b[0my\u001b[0m\u001b[1;33m=\u001b[0m\u001b[0mnp\u001b[0m\u001b[1;33m.\u001b[0m\u001b[0mfull\u001b[0m\u001b[1;33m(\u001b[0m\u001b[1;36m120\u001b[0m\u001b[1;33m,\u001b[0m\u001b[1;33m-\u001b[0m\u001b[1;36m0.05\u001b[0m\u001b[1;33m)\u001b[0m\u001b[1;33m,\u001b[0m \u001b[0mmode\u001b[0m\u001b[1;33m=\u001b[0m\u001b[1;34m'lines'\u001b[0m\u001b[1;33m,\u001b[0m\u001b[0mrow\u001b[0m\u001b[1;33m=\u001b[0m\u001b[0mi\u001b[0m\u001b[1;33m,\u001b[0m \u001b[0mcol\u001b[0m\u001b[1;33m=\u001b[0m\u001b[1;36m1\u001b[0m\u001b[1;33m)\u001b[0m\u001b[1;33m\u001b[0m\u001b[1;33m\u001b[0m\u001b[0m\n\u001b[0;32m     21\u001b[0m         \u001b[0mfig\u001b[0m\u001b[1;33m.\u001b[0m\u001b[0madd_trace\u001b[0m\u001b[1;33m(\u001b[0m\u001b[0mx\u001b[0m\u001b[1;33m=\u001b[0m\u001b[0mnp\u001b[0m\u001b[1;33m.\u001b[0m\u001b[0mfull\u001b[0m\u001b[1;33m(\u001b[0m\u001b[1;36m100\u001b[0m\u001b[1;33m,\u001b[0m\u001b[1;33m-\u001b[0m\u001b[1;36m2\u001b[0m\u001b[1;33m)\u001b[0m\u001b[1;33m,\u001b[0m \u001b[0my\u001b[0m\u001b[1;33m=\u001b[0m\u001b[0mnp\u001b[0m\u001b[1;33m.\u001b[0m\u001b[0mlinspace\u001b[0m\u001b[1;33m(\u001b[0m\u001b[1;33m-\u001b[0m\u001b[1;36m0.1\u001b[0m\u001b[1;33m,\u001b[0m\u001b[1;36m0.1\u001b[0m\u001b[1;33m,\u001b[0m\u001b[1;36m100\u001b[0m\u001b[1;33m)\u001b[0m\u001b[1;33m,\u001b[0m \u001b[0mmode\u001b[0m\u001b[1;33m=\u001b[0m\u001b[1;34m'lines'\u001b[0m\u001b[1;33m,\u001b[0m\u001b[0mrow\u001b[0m\u001b[1;33m=\u001b[0m\u001b[0mi\u001b[0m\u001b[1;33m,\u001b[0m \u001b[0mcol\u001b[0m\u001b[1;33m=\u001b[0m\u001b[1;36m1\u001b[0m\u001b[1;33m)\u001b[0m\u001b[1;33m\u001b[0m\u001b[1;33m\u001b[0m\u001b[0m\n",
      "\u001b[1;31mTypeError\u001b[0m: add_trace() got an unexpected keyword argument 'x'"
     ]
    }
   ],
   "source": [
    "plot_diff_day_but_protect_eye('lvs-pussay_Speed(m/s)')"
   ]
  },
  {
   "cell_type": "code",
   "execution_count": 333,
   "metadata": {},
   "outputs": [
    {
     "ename": "IndentationError",
     "evalue": "unexpected indent (<ipython-input-333-411ee518eed8>, line 8)",
     "output_type": "error",
     "traceback": [
      "\u001b[1;36m  File \u001b[1;32m\"<ipython-input-333-411ee518eed8>\"\u001b[1;36m, line \u001b[1;32m8\u001b[0m\n\u001b[1;33m    fig.add_trace(\u001b[0m\n\u001b[1;37m    ^\u001b[0m\n\u001b[1;31mIndentationError\u001b[0m\u001b[1;31m:\u001b[0m unexpected indent\n"
     ]
    }
   ],
   "source": [
    "\n",
    "             fig.add_trace(\n",
    "                go.Scatter(x=np.linspace(-60,60,120), y=np.full(120,-0.05), mode='lines'),\n",
    "                row=1,col=i\n",
    "                )\n",
    "           \n",
    "                \n",
    "            \n",
    "            fig.add_trace(\n",
    "                go.Scatter(x=np.full(100,-2), y=np.linspace(-0.1,0.1,100), mode='lines'),\n",
    "                row=1,col=i\n",
    "                )\n",
    "            \n",
    "            fig.add_trace(\n",
    "                go.Scatter(x=np.linspace(-60,60,120), y=np.full(120,0.05), mode='lines'),\n",
    "                row=1,col=i\n",
    "                )"
   ]
  },
  {
   "cell_type": "code",
   "execution_count": 147,
   "metadata": {},
   "outputs": [
    {
     "name": "stdout",
     "output_type": "stream",
     "text": [
      "(62031,)\n"
     ]
    },
    {
     "data": {
      "application/vnd.plotly.v1+json": {
       "config": {
        "plotlyServerURL": "https://plot.ly"
       },
       "data": [
        {
         "hovertemplate": "x=%{x}<br>y=%{y}<extra></extra>",
         "legendgroup": "",
         "line": {
          "color": "#636efa",
          "dash": "solid"
         },
         "mode": "lines",
         "name": "",
         "showlegend": false,
         "type": "scatter",
         "x": [
          -60,
          -58,
          -57,
          -56,
          -55,
          -54,
          -53,
          -52,
          -51,
          -50,
          -49,
          -48,
          -47,
          -46,
          -45,
          -44,
          -43,
          -42,
          -41,
          -40,
          -39,
          -38,
          -37,
          -36,
          -35,
          -34,
          -33,
          -32,
          -31,
          -30,
          -29,
          -28,
          -27,
          -26,
          -25,
          -24,
          -23,
          -22,
          -21,
          -20,
          -19,
          -18,
          -17,
          -16,
          -15,
          -14,
          -13,
          -12,
          -11,
          -10,
          -9,
          -8,
          -7,
          -6,
          -5,
          -4,
          -3,
          -2,
          -1,
          0,
          0,
          1,
          2,
          3,
          4,
          5,
          6,
          7,
          8,
          9,
          10,
          11,
          12,
          13,
          14,
          15,
          16,
          17,
          18,
          19,
          20,
          21,
          22,
          23,
          24,
          25,
          26,
          27,
          28,
          29,
          30,
          31,
          32,
          33,
          34,
          35,
          36,
          37,
          38,
          39,
          40,
          41,
          42,
          43,
          44,
          45,
          46,
          47,
          48,
          49,
          50,
          51,
          52,
          53,
          54,
          55,
          56,
          57,
          58,
          60
         ],
         "xaxis": "x",
         "y": [
          0.836158419313487,
          0.8371480943071999,
          0.8348978692120419,
          0.8298541827097008,
          0.8233756681688392,
          0.8165871964447823,
          0.8102499326840946,
          0.8060681297824769,
          0.8050423808126392,
          0.8081679123828802,
          0.8153023002547668,
          0.8248344482440069,
          0.8356528424184966,
          0.8465694552440144,
          0.8575212463666485,
          0.8686470730614132,
          0.8805116050608561,
          0.8940155078638994,
          0.9100861237383994,
          0.9289315368325434,
          0.9491146385362159,
          0.9690195783539426,
          0.9873811815078377,
          1.0036487590267853,
          1.0176173122215533,
          1.0287804240842922,
          1.0378653392100403,
          1.045599281308726,
          1.0534492663716784,
          1.0625145412660677,
          1.0735904727527115,
          1.0879079969210594,
          1.1057501442370614,
          1.1276704209290889,
          1.1528035265516918,
          1.1804243301328468,
          1.2090307513812848,
          1.2381300859723978,
          1.2683779338856676,
          1.300489758332174,
          1.335118412059124,
          1.373137734287626,
          1.4162422282612213,
          1.4645196990995935,
          1.5175489146606151,
          1.5739445391593812,
          1.6328779071640296,
          1.6936128324231536,
          1.7553046551666296,
          1.8177904028824414,
          1.8803080155134444,
          1.9441591090813097,
          2.010929682421744,
          2.0810202509677196,
          2.1542422943594977,
          2.2295951137925294,
          2.304725745136524,
          2.3748528153519457,
          2.4342140165189723,
          2.4772272252843477,
          2.4988868726451057,
          2.4964389693768387,
          2.471145597819395,
          2.426322586124568,
          2.3666340857946047,
          2.2975744309457857,
          2.2247442696753876,
          2.1522440808670114,
          2.0815436824695737,
          2.012599341279493,
          1.945000623053257,
          1.8785207207780432,
          1.8127240372215536,
          1.7478491633852253,
          1.6843655837885718,
          1.6227475406147933,
          1.5640128685609862,
          1.509114030790537,
          1.4592433942002827,
          1.4147877575050016,
          1.3761319454673384,
          1.3439320054349275,
          1.3172121193315762,
          1.2939702409185931,
          1.2723581936359398,
          1.2509633215307132,
          1.2294351030237842,
          1.2077596174698957,
          1.1867274933399443,
          1.1677181920279358,
          1.1516337232126506,
          1.1388546878756387,
          1.128323738155535,
          1.1187767910006363,
          1.1087142239252494,
          1.0970019406244882,
          1.083442735251613,
          1.067320361141648,
          1.048896734890092,
          1.0283825154290105,
          1.0070849050325912,
          0.9863173916188549,
          0.9669801360977716,
          0.9507858990859033,
          0.9388033131502852,
          0.9313417448312256,
          0.9275121369713019,
          0.9259242901509086,
          0.9248366376990369,
          0.922718353806805,
          0.9192855689561602,
          0.9150509510191484,
          0.9107266675713632,
          0.9068214623320014,
          0.9039948629930341,
          0.9024944732860464,
          0.9015101021399674,
          0.9000059369017559,
          0.8964915792052407,
          0.8908905105383875
         ],
         "yaxis": "y"
        },
        {
         "mode": "lines",
         "type": "scatter",
         "x": [
          -60,
          -58.991596638655466,
          -57.983193277310924,
          -56.97478991596638,
          -55.96638655462185,
          -54.957983193277315,
          -53.94957983193277,
          -52.94117647058823,
          -51.9327731092437,
          -50.92436974789916,
          -49.91596638655462,
          -48.90756302521008,
          -47.89915966386555,
          -46.89075630252101,
          -45.88235294117647,
          -44.87394957983193,
          -43.865546218487395,
          -42.85714285714286,
          -41.84873949579832,
          -40.84033613445378,
          -39.831932773109244,
          -38.82352941176471,
          -37.81512605042017,
          -36.80672268907563,
          -35.79831932773109,
          -34.78991596638656,
          -33.78151260504202,
          -32.773109243697476,
          -31.764705882352942,
          -30.756302521008404,
          -29.747899159663866,
          -28.73949579831933,
          -27.73109243697479,
          -26.722689075630257,
          -25.714285714285715,
          -24.705882352941174,
          -23.69747899159664,
          -22.689075630252105,
          -21.680672268907564,
          -20.672268907563023,
          -19.66386554621849,
          -18.655462184873954,
          -17.647058823529413,
          -16.63865546218487,
          -15.630252100840337,
          -14.621848739495803,
          -13.613445378151262,
          -12.60504201680672,
          -11.596638655462186,
          -10.588235294117652,
          -9.57983193277311,
          -8.57142857142857,
          -7.563025210084035,
          -6.554621848739501,
          -5.54621848739496,
          -4.537815126050418,
          -3.529411764705884,
          -2.52100840336135,
          -1.5126050420168085,
          -0.5042016806722671,
          0.5042016806722671,
          1.5126050420168013,
          2.5210084033613427,
          3.529411764705884,
          4.537815126050418,
          5.5462184873949525,
          6.554621848739487,
          7.563025210084035,
          8.57142857142857,
          9.579831932773104,
          10.588235294117652,
          11.596638655462186,
          12.60504201680672,
          13.613445378151255,
          14.621848739495789,
          15.630252100840337,
          16.63865546218487,
          17.647058823529406,
          18.655462184873954,
          19.66386554621849,
          20.672268907563023,
          21.680672268907557,
          22.68907563025209,
          23.69747899159664,
          24.705882352941174,
          25.714285714285708,
          26.722689075630257,
          27.73109243697479,
          28.739495798319325,
          29.74789915966386,
          30.756302521008394,
          31.764705882352942,
          32.773109243697476,
          33.78151260504201,
          34.78991596638656,
          35.79831932773109,
          36.80672268907563,
          37.81512605042016,
          38.823529411764696,
          39.831932773109244,
          40.84033613445378,
          41.84873949579831,
          42.85714285714286,
          43.865546218487395,
          44.87394957983193,
          45.882352941176464,
          46.890756302521,
          47.89915966386555,
          48.90756302521008,
          49.915966386554615,
          50.92436974789916,
          51.9327731092437,
          52.94117647058823,
          53.949579831932766,
          54.9579831932773,
          55.96638655462185,
          56.97478991596638,
          57.98319327731092,
          58.991596638655466,
          60
         ],
         "y": [
          0.05,
          0.05,
          0.05,
          0.05,
          0.05,
          0.05,
          0.05,
          0.05,
          0.05,
          0.05,
          0.05,
          0.05,
          0.05,
          0.05,
          0.05,
          0.05,
          0.05,
          0.05,
          0.05,
          0.05,
          0.05,
          0.05,
          0.05,
          0.05,
          0.05,
          0.05,
          0.05,
          0.05,
          0.05,
          0.05,
          0.05,
          0.05,
          0.05,
          0.05,
          0.05,
          0.05,
          0.05,
          0.05,
          0.05,
          0.05,
          0.05,
          0.05,
          0.05,
          0.05,
          0.05,
          0.05,
          0.05,
          0.05,
          0.05,
          0.05,
          0.05,
          0.05,
          0.05,
          0.05,
          0.05,
          0.05,
          0.05,
          0.05,
          0.05,
          0.05,
          0.05,
          0.05,
          0.05,
          0.05,
          0.05,
          0.05,
          0.05,
          0.05,
          0.05,
          0.05,
          0.05,
          0.05,
          0.05,
          0.05,
          0.05,
          0.05,
          0.05,
          0.05,
          0.05,
          0.05,
          0.05,
          0.05,
          0.05,
          0.05,
          0.05,
          0.05,
          0.05,
          0.05,
          0.05,
          0.05,
          0.05,
          0.05,
          0.05,
          0.05,
          0.05,
          0.05,
          0.05,
          0.05,
          0.05,
          0.05,
          0.05,
          0.05,
          0.05,
          0.05,
          0.05,
          0.05,
          0.05,
          0.05,
          0.05,
          0.05,
          0.05,
          0.05,
          0.05,
          0.05,
          0.05,
          0.05,
          0.05,
          0.05,
          0.05,
          0.05
         ]
        },
        {
         "mode": "lines",
         "type": "scatter",
         "x": [
          -60,
          -58.991596638655466,
          -57.983193277310924,
          -56.97478991596638,
          -55.96638655462185,
          -54.957983193277315,
          -53.94957983193277,
          -52.94117647058823,
          -51.9327731092437,
          -50.92436974789916,
          -49.91596638655462,
          -48.90756302521008,
          -47.89915966386555,
          -46.89075630252101,
          -45.88235294117647,
          -44.87394957983193,
          -43.865546218487395,
          -42.85714285714286,
          -41.84873949579832,
          -40.84033613445378,
          -39.831932773109244,
          -38.82352941176471,
          -37.81512605042017,
          -36.80672268907563,
          -35.79831932773109,
          -34.78991596638656,
          -33.78151260504202,
          -32.773109243697476,
          -31.764705882352942,
          -30.756302521008404,
          -29.747899159663866,
          -28.73949579831933,
          -27.73109243697479,
          -26.722689075630257,
          -25.714285714285715,
          -24.705882352941174,
          -23.69747899159664,
          -22.689075630252105,
          -21.680672268907564,
          -20.672268907563023,
          -19.66386554621849,
          -18.655462184873954,
          -17.647058823529413,
          -16.63865546218487,
          -15.630252100840337,
          -14.621848739495803,
          -13.613445378151262,
          -12.60504201680672,
          -11.596638655462186,
          -10.588235294117652,
          -9.57983193277311,
          -8.57142857142857,
          -7.563025210084035,
          -6.554621848739501,
          -5.54621848739496,
          -4.537815126050418,
          -3.529411764705884,
          -2.52100840336135,
          -1.5126050420168085,
          -0.5042016806722671,
          0.5042016806722671,
          1.5126050420168013,
          2.5210084033613427,
          3.529411764705884,
          4.537815126050418,
          5.5462184873949525,
          6.554621848739487,
          7.563025210084035,
          8.57142857142857,
          9.579831932773104,
          10.588235294117652,
          11.596638655462186,
          12.60504201680672,
          13.613445378151255,
          14.621848739495789,
          15.630252100840337,
          16.63865546218487,
          17.647058823529406,
          18.655462184873954,
          19.66386554621849,
          20.672268907563023,
          21.680672268907557,
          22.68907563025209,
          23.69747899159664,
          24.705882352941174,
          25.714285714285708,
          26.722689075630257,
          27.73109243697479,
          28.739495798319325,
          29.74789915966386,
          30.756302521008394,
          31.764705882352942,
          32.773109243697476,
          33.78151260504201,
          34.78991596638656,
          35.79831932773109,
          36.80672268907563,
          37.81512605042016,
          38.823529411764696,
          39.831932773109244,
          40.84033613445378,
          41.84873949579831,
          42.85714285714286,
          43.865546218487395,
          44.87394957983193,
          45.882352941176464,
          46.890756302521,
          47.89915966386555,
          48.90756302521008,
          49.915966386554615,
          50.92436974789916,
          51.9327731092437,
          52.94117647058823,
          53.949579831932766,
          54.9579831932773,
          55.96638655462185,
          56.97478991596638,
          57.98319327731092,
          58.991596638655466,
          60
         ],
         "y": [
          -0.05,
          -0.05,
          -0.05,
          -0.05,
          -0.05,
          -0.05,
          -0.05,
          -0.05,
          -0.05,
          -0.05,
          -0.05,
          -0.05,
          -0.05,
          -0.05,
          -0.05,
          -0.05,
          -0.05,
          -0.05,
          -0.05,
          -0.05,
          -0.05,
          -0.05,
          -0.05,
          -0.05,
          -0.05,
          -0.05,
          -0.05,
          -0.05,
          -0.05,
          -0.05,
          -0.05,
          -0.05,
          -0.05,
          -0.05,
          -0.05,
          -0.05,
          -0.05,
          -0.05,
          -0.05,
          -0.05,
          -0.05,
          -0.05,
          -0.05,
          -0.05,
          -0.05,
          -0.05,
          -0.05,
          -0.05,
          -0.05,
          -0.05,
          -0.05,
          -0.05,
          -0.05,
          -0.05,
          -0.05,
          -0.05,
          -0.05,
          -0.05,
          -0.05,
          -0.05,
          -0.05,
          -0.05,
          -0.05,
          -0.05,
          -0.05,
          -0.05,
          -0.05,
          -0.05,
          -0.05,
          -0.05,
          -0.05,
          -0.05,
          -0.05,
          -0.05,
          -0.05,
          -0.05,
          -0.05,
          -0.05,
          -0.05,
          -0.05,
          -0.05,
          -0.05,
          -0.05,
          -0.05,
          -0.05,
          -0.05,
          -0.05,
          -0.05,
          -0.05,
          -0.05,
          -0.05,
          -0.05,
          -0.05,
          -0.05,
          -0.05,
          -0.05,
          -0.05,
          -0.05,
          -0.05,
          -0.05,
          -0.05,
          -0.05,
          -0.05,
          -0.05,
          -0.05,
          -0.05,
          -0.05,
          -0.05,
          -0.05,
          -0.05,
          -0.05,
          -0.05,
          -0.05,
          -0.05,
          -0.05,
          -0.05,
          -0.05,
          -0.05,
          -0.05,
          -0.05
         ]
        },
        {
         "mode": "lines",
         "type": "scatter",
         "x": [
          -30,
          -30,
          -30,
          -30,
          -30,
          -30,
          -30,
          -30,
          -30,
          -30,
          -30,
          -30,
          -30,
          -30,
          -30,
          -30,
          -30,
          -30,
          -30,
          -30,
          -30,
          -30,
          -30,
          -30,
          -30,
          -30,
          -30,
          -30,
          -30,
          -30,
          -30,
          -30,
          -30,
          -30,
          -30,
          -30,
          -30,
          -30,
          -30,
          -30,
          -30,
          -30,
          -30,
          -30,
          -30,
          -30,
          -30,
          -30,
          -30,
          -30,
          -30,
          -30,
          -30,
          -30,
          -30,
          -30,
          -30,
          -30,
          -30,
          -30,
          -30,
          -30,
          -30,
          -30,
          -30,
          -30,
          -30,
          -30,
          -30,
          -30,
          -30,
          -30,
          -30,
          -30,
          -30,
          -30,
          -30,
          -30,
          -30,
          -30,
          -30,
          -30,
          -30,
          -30,
          -30,
          -30,
          -30,
          -30,
          -30,
          -30,
          -30,
          -30,
          -30,
          -30,
          -30,
          -30,
          -30,
          -30,
          -30,
          -30
         ],
         "y": [
          -0.1,
          -0.09797979797979799,
          -0.09595959595959597,
          -0.09393939393939395,
          -0.09191919191919193,
          -0.08989898989898991,
          -0.08787878787878789,
          -0.08585858585858586,
          -0.08383838383838385,
          -0.08181818181818182,
          -0.07979797979797981,
          -0.07777777777777778,
          -0.07575757575757576,
          -0.07373737373737374,
          -0.07171717171717172,
          -0.0696969696969697,
          -0.06767676767676768,
          -0.06565656565656566,
          -0.06363636363636364,
          -0.061616161616161624,
          -0.059595959595959605,
          -0.05757575757575758,
          -0.05555555555555556,
          -0.05353535353535354,
          -0.05151515151515152,
          -0.0494949494949495,
          -0.04747474747474748,
          -0.04545454545454546,
          -0.043434343434343436,
          -0.04141414141414142,
          -0.0393939393939394,
          -0.03737373737373738,
          -0.03535353535353536,
          -0.03333333333333334,
          -0.03131313131313132,
          -0.0292929292929293,
          -0.027272727272727282,
          -0.025252525252525262,
          -0.023232323232323243,
          -0.021212121212121224,
          -0.019191919191919204,
          -0.01717171717171717,
          -0.015151515151515152,
          -0.013131313131313133,
          -0.011111111111111113,
          -0.009090909090909094,
          -0.007070707070707075,
          -0.005050505050505055,
          -0.003030303030303036,
          -0.0010101010101010166,
          0.0010101010101010027,
          0.003030303030303022,
          0.005050505050505041,
          0.007070707070707061,
          0.00909090909090908,
          0.0111111111111111,
          0.013131313131313133,
          0.015151515151515152,
          0.01717171717171717,
          0.01919191919191919,
          0.02121212121212121,
          0.02323232323232323,
          0.02525252525252525,
          0.027272727272727254,
          0.029292929292929287,
          0.03131313131313132,
          0.033333333333333326,
          0.03535353535353536,
          0.037373737373737365,
          0.0393939393939394,
          0.0414141414141414,
          0.043434343434343436,
          0.04545454545454544,
          0.047474747474747475,
          0.04949494949494948,
          0.051515151515151514,
          0.05353535353535352,
          0.05555555555555555,
          0.05757575757575756,
          0.05959595959595959,
          0.0616161616161616,
          0.06363636363636363,
          0.06565656565656566,
          0.06767676767676767,
          0.0696969696969697,
          0.07171717171717171,
          0.07373737373737374,
          0.07575757575757575,
          0.07777777777777778,
          0.07979797979797978,
          0.08181818181818182,
          0.08383838383838382,
          0.08585858585858586,
          0.08787878787878786,
          0.0898989898989899,
          0.0919191919191919,
          0.09393939393939393,
          0.09595959595959597,
          0.09797979797979797,
          0.1
         ]
        }
       ],
       "layout": {
        "legend": {
         "tracegroupgap": 0
        },
        "margin": {
         "t": 60
        },
        "template": {
         "data": {
          "bar": [
           {
            "error_x": {
             "color": "#2a3f5f"
            },
            "error_y": {
             "color": "#2a3f5f"
            },
            "marker": {
             "line": {
              "color": "#E5ECF6",
              "width": 0.5
             }
            },
            "type": "bar"
           }
          ],
          "barpolar": [
           {
            "marker": {
             "line": {
              "color": "#E5ECF6",
              "width": 0.5
             }
            },
            "type": "barpolar"
           }
          ],
          "carpet": [
           {
            "aaxis": {
             "endlinecolor": "#2a3f5f",
             "gridcolor": "white",
             "linecolor": "white",
             "minorgridcolor": "white",
             "startlinecolor": "#2a3f5f"
            },
            "baxis": {
             "endlinecolor": "#2a3f5f",
             "gridcolor": "white",
             "linecolor": "white",
             "minorgridcolor": "white",
             "startlinecolor": "#2a3f5f"
            },
            "type": "carpet"
           }
          ],
          "choropleth": [
           {
            "colorbar": {
             "outlinewidth": 0,
             "ticks": ""
            },
            "type": "choropleth"
           }
          ],
          "contour": [
           {
            "colorbar": {
             "outlinewidth": 0,
             "ticks": ""
            },
            "colorscale": [
             [
              0,
              "#0d0887"
             ],
             [
              0.1111111111111111,
              "#46039f"
             ],
             [
              0.2222222222222222,
              "#7201a8"
             ],
             [
              0.3333333333333333,
              "#9c179e"
             ],
             [
              0.4444444444444444,
              "#bd3786"
             ],
             [
              0.5555555555555556,
              "#d8576b"
             ],
             [
              0.6666666666666666,
              "#ed7953"
             ],
             [
              0.7777777777777778,
              "#fb9f3a"
             ],
             [
              0.8888888888888888,
              "#fdca26"
             ],
             [
              1,
              "#f0f921"
             ]
            ],
            "type": "contour"
           }
          ],
          "contourcarpet": [
           {
            "colorbar": {
             "outlinewidth": 0,
             "ticks": ""
            },
            "type": "contourcarpet"
           }
          ],
          "heatmap": [
           {
            "colorbar": {
             "outlinewidth": 0,
             "ticks": ""
            },
            "colorscale": [
             [
              0,
              "#0d0887"
             ],
             [
              0.1111111111111111,
              "#46039f"
             ],
             [
              0.2222222222222222,
              "#7201a8"
             ],
             [
              0.3333333333333333,
              "#9c179e"
             ],
             [
              0.4444444444444444,
              "#bd3786"
             ],
             [
              0.5555555555555556,
              "#d8576b"
             ],
             [
              0.6666666666666666,
              "#ed7953"
             ],
             [
              0.7777777777777778,
              "#fb9f3a"
             ],
             [
              0.8888888888888888,
              "#fdca26"
             ],
             [
              1,
              "#f0f921"
             ]
            ],
            "type": "heatmap"
           }
          ],
          "heatmapgl": [
           {
            "colorbar": {
             "outlinewidth": 0,
             "ticks": ""
            },
            "colorscale": [
             [
              0,
              "#0d0887"
             ],
             [
              0.1111111111111111,
              "#46039f"
             ],
             [
              0.2222222222222222,
              "#7201a8"
             ],
             [
              0.3333333333333333,
              "#9c179e"
             ],
             [
              0.4444444444444444,
              "#bd3786"
             ],
             [
              0.5555555555555556,
              "#d8576b"
             ],
             [
              0.6666666666666666,
              "#ed7953"
             ],
             [
              0.7777777777777778,
              "#fb9f3a"
             ],
             [
              0.8888888888888888,
              "#fdca26"
             ],
             [
              1,
              "#f0f921"
             ]
            ],
            "type": "heatmapgl"
           }
          ],
          "histogram": [
           {
            "marker": {
             "colorbar": {
              "outlinewidth": 0,
              "ticks": ""
             }
            },
            "type": "histogram"
           }
          ],
          "histogram2d": [
           {
            "colorbar": {
             "outlinewidth": 0,
             "ticks": ""
            },
            "colorscale": [
             [
              0,
              "#0d0887"
             ],
             [
              0.1111111111111111,
              "#46039f"
             ],
             [
              0.2222222222222222,
              "#7201a8"
             ],
             [
              0.3333333333333333,
              "#9c179e"
             ],
             [
              0.4444444444444444,
              "#bd3786"
             ],
             [
              0.5555555555555556,
              "#d8576b"
             ],
             [
              0.6666666666666666,
              "#ed7953"
             ],
             [
              0.7777777777777778,
              "#fb9f3a"
             ],
             [
              0.8888888888888888,
              "#fdca26"
             ],
             [
              1,
              "#f0f921"
             ]
            ],
            "type": "histogram2d"
           }
          ],
          "histogram2dcontour": [
           {
            "colorbar": {
             "outlinewidth": 0,
             "ticks": ""
            },
            "colorscale": [
             [
              0,
              "#0d0887"
             ],
             [
              0.1111111111111111,
              "#46039f"
             ],
             [
              0.2222222222222222,
              "#7201a8"
             ],
             [
              0.3333333333333333,
              "#9c179e"
             ],
             [
              0.4444444444444444,
              "#bd3786"
             ],
             [
              0.5555555555555556,
              "#d8576b"
             ],
             [
              0.6666666666666666,
              "#ed7953"
             ],
             [
              0.7777777777777778,
              "#fb9f3a"
             ],
             [
              0.8888888888888888,
              "#fdca26"
             ],
             [
              1,
              "#f0f921"
             ]
            ],
            "type": "histogram2dcontour"
           }
          ],
          "mesh3d": [
           {
            "colorbar": {
             "outlinewidth": 0,
             "ticks": ""
            },
            "type": "mesh3d"
           }
          ],
          "parcoords": [
           {
            "line": {
             "colorbar": {
              "outlinewidth": 0,
              "ticks": ""
             }
            },
            "type": "parcoords"
           }
          ],
          "pie": [
           {
            "automargin": true,
            "type": "pie"
           }
          ],
          "scatter": [
           {
            "marker": {
             "colorbar": {
              "outlinewidth": 0,
              "ticks": ""
             }
            },
            "type": "scatter"
           }
          ],
          "scatter3d": [
           {
            "line": {
             "colorbar": {
              "outlinewidth": 0,
              "ticks": ""
             }
            },
            "marker": {
             "colorbar": {
              "outlinewidth": 0,
              "ticks": ""
             }
            },
            "type": "scatter3d"
           }
          ],
          "scattercarpet": [
           {
            "marker": {
             "colorbar": {
              "outlinewidth": 0,
              "ticks": ""
             }
            },
            "type": "scattercarpet"
           }
          ],
          "scattergeo": [
           {
            "marker": {
             "colorbar": {
              "outlinewidth": 0,
              "ticks": ""
             }
            },
            "type": "scattergeo"
           }
          ],
          "scattergl": [
           {
            "marker": {
             "colorbar": {
              "outlinewidth": 0,
              "ticks": ""
             }
            },
            "type": "scattergl"
           }
          ],
          "scattermapbox": [
           {
            "marker": {
             "colorbar": {
              "outlinewidth": 0,
              "ticks": ""
             }
            },
            "type": "scattermapbox"
           }
          ],
          "scatterpolar": [
           {
            "marker": {
             "colorbar": {
              "outlinewidth": 0,
              "ticks": ""
             }
            },
            "type": "scatterpolar"
           }
          ],
          "scatterpolargl": [
           {
            "marker": {
             "colorbar": {
              "outlinewidth": 0,
              "ticks": ""
             }
            },
            "type": "scatterpolargl"
           }
          ],
          "scatterternary": [
           {
            "marker": {
             "colorbar": {
              "outlinewidth": 0,
              "ticks": ""
             }
            },
            "type": "scatterternary"
           }
          ],
          "surface": [
           {
            "colorbar": {
             "outlinewidth": 0,
             "ticks": ""
            },
            "colorscale": [
             [
              0,
              "#0d0887"
             ],
             [
              0.1111111111111111,
              "#46039f"
             ],
             [
              0.2222222222222222,
              "#7201a8"
             ],
             [
              0.3333333333333333,
              "#9c179e"
             ],
             [
              0.4444444444444444,
              "#bd3786"
             ],
             [
              0.5555555555555556,
              "#d8576b"
             ],
             [
              0.6666666666666666,
              "#ed7953"
             ],
             [
              0.7777777777777778,
              "#fb9f3a"
             ],
             [
              0.8888888888888888,
              "#fdca26"
             ],
             [
              1,
              "#f0f921"
             ]
            ],
            "type": "surface"
           }
          ],
          "table": [
           {
            "cells": {
             "fill": {
              "color": "#EBF0F8"
             },
             "line": {
              "color": "white"
             }
            },
            "header": {
             "fill": {
              "color": "#C8D4E3"
             },
             "line": {
              "color": "white"
             }
            },
            "type": "table"
           }
          ]
         },
         "layout": {
          "annotationdefaults": {
           "arrowcolor": "#2a3f5f",
           "arrowhead": 0,
           "arrowwidth": 1
          },
          "coloraxis": {
           "colorbar": {
            "outlinewidth": 0,
            "ticks": ""
           }
          },
          "colorscale": {
           "diverging": [
            [
             0,
             "#8e0152"
            ],
            [
             0.1,
             "#c51b7d"
            ],
            [
             0.2,
             "#de77ae"
            ],
            [
             0.3,
             "#f1b6da"
            ],
            [
             0.4,
             "#fde0ef"
            ],
            [
             0.5,
             "#f7f7f7"
            ],
            [
             0.6,
             "#e6f5d0"
            ],
            [
             0.7,
             "#b8e186"
            ],
            [
             0.8,
             "#7fbc41"
            ],
            [
             0.9,
             "#4d9221"
            ],
            [
             1,
             "#276419"
            ]
           ],
           "sequential": [
            [
             0,
             "#0d0887"
            ],
            [
             0.1111111111111111,
             "#46039f"
            ],
            [
             0.2222222222222222,
             "#7201a8"
            ],
            [
             0.3333333333333333,
             "#9c179e"
            ],
            [
             0.4444444444444444,
             "#bd3786"
            ],
            [
             0.5555555555555556,
             "#d8576b"
            ],
            [
             0.6666666666666666,
             "#ed7953"
            ],
            [
             0.7777777777777778,
             "#fb9f3a"
            ],
            [
             0.8888888888888888,
             "#fdca26"
            ],
            [
             1,
             "#f0f921"
            ]
           ],
           "sequentialminus": [
            [
             0,
             "#0d0887"
            ],
            [
             0.1111111111111111,
             "#46039f"
            ],
            [
             0.2222222222222222,
             "#7201a8"
            ],
            [
             0.3333333333333333,
             "#9c179e"
            ],
            [
             0.4444444444444444,
             "#bd3786"
            ],
            [
             0.5555555555555556,
             "#d8576b"
            ],
            [
             0.6666666666666666,
             "#ed7953"
            ],
            [
             0.7777777777777778,
             "#fb9f3a"
            ],
            [
             0.8888888888888888,
             "#fdca26"
            ],
            [
             1,
             "#f0f921"
            ]
           ]
          },
          "colorway": [
           "#636efa",
           "#EF553B",
           "#00cc96",
           "#ab63fa",
           "#FFA15A",
           "#19d3f3",
           "#FF6692",
           "#B6E880",
           "#FF97FF",
           "#FECB52"
          ],
          "font": {
           "color": "#2a3f5f"
          },
          "geo": {
           "bgcolor": "white",
           "lakecolor": "white",
           "landcolor": "#E5ECF6",
           "showlakes": true,
           "showland": true,
           "subunitcolor": "white"
          },
          "hoverlabel": {
           "align": "left"
          },
          "hovermode": "closest",
          "mapbox": {
           "style": "light"
          },
          "paper_bgcolor": "white",
          "plot_bgcolor": "#E5ECF6",
          "polar": {
           "angularaxis": {
            "gridcolor": "white",
            "linecolor": "white",
            "ticks": ""
           },
           "bgcolor": "#E5ECF6",
           "radialaxis": {
            "gridcolor": "white",
            "linecolor": "white",
            "ticks": ""
           }
          },
          "scene": {
           "xaxis": {
            "backgroundcolor": "#E5ECF6",
            "gridcolor": "white",
            "gridwidth": 2,
            "linecolor": "white",
            "showbackground": true,
            "ticks": "",
            "zerolinecolor": "white"
           },
           "yaxis": {
            "backgroundcolor": "#E5ECF6",
            "gridcolor": "white",
            "gridwidth": 2,
            "linecolor": "white",
            "showbackground": true,
            "ticks": "",
            "zerolinecolor": "white"
           },
           "zaxis": {
            "backgroundcolor": "#E5ECF6",
            "gridcolor": "white",
            "gridwidth": 2,
            "linecolor": "white",
            "showbackground": true,
            "ticks": "",
            "zerolinecolor": "white"
           }
          },
          "shapedefaults": {
           "line": {
            "color": "#2a3f5f"
           }
          },
          "ternary": {
           "aaxis": {
            "gridcolor": "white",
            "linecolor": "white",
            "ticks": ""
           },
           "baxis": {
            "gridcolor": "white",
            "linecolor": "white",
            "ticks": ""
           },
           "bgcolor": "#E5ECF6",
           "caxis": {
            "gridcolor": "white",
            "linecolor": "white",
            "ticks": ""
           }
          },
          "title": {
           "x": 0.05
          },
          "xaxis": {
           "automargin": true,
           "gridcolor": "white",
           "linecolor": "white",
           "ticks": "",
           "title": {
            "standoff": 15
           },
           "zerolinecolor": "white",
           "zerolinewidth": 2
          },
          "yaxis": {
           "automargin": true,
           "gridcolor": "white",
           "linecolor": "white",
           "ticks": "",
           "title": {
            "standoff": 15
           },
           "zerolinecolor": "white",
           "zerolinewidth": 2
          }
         }
        },
        "xaxis": {
         "anchor": "y",
         "domain": [
          0,
          1
         ],
         "title": {
          "text": "x"
         }
        },
        "yaxis": {
         "anchor": "x",
         "domain": [
          0,
          1
         ],
         "title": {
          "text": "y"
         }
        }
       }
      },
      "text/html": [
       "<div>\n",
       "        \n",
       "        \n",
       "            <div id=\"9f0c8499-2fd4-4008-aaab-f7b0a96c8040\" class=\"plotly-graph-div\" style=\"height:525px; width:100%;\"></div>\n",
       "            <script type=\"text/javascript\">\n",
       "                require([\"plotly\"], function(Plotly) {\n",
       "                    window.PLOTLYENV=window.PLOTLYENV || {};\n",
       "                    \n",
       "                if (document.getElementById(\"9f0c8499-2fd4-4008-aaab-f7b0a96c8040\")) {\n",
       "                    Plotly.newPlot(\n",
       "                        '9f0c8499-2fd4-4008-aaab-f7b0a96c8040',\n",
       "                        [{\"hovertemplate\": \"x=%{x}<br>y=%{y}<extra></extra>\", \"legendgroup\": \"\", \"line\": {\"color\": \"#636efa\", \"dash\": \"solid\"}, \"mode\": \"lines\", \"name\": \"\", \"showlegend\": false, \"type\": \"scatter\", \"x\": [-60, -58, -57, -56, -55, -54, -53, -52, -51, -50, -49, -48, -47, -46, -45, -44, -43, -42, -41, -40, -39, -38, -37, -36, -35, -34, -33, -32, -31, -30, -29, -28, -27, -26, -25, -24, -23, -22, -21, -20, -19, -18, -17, -16, -15, -14, -13, -12, -11, -10, -9, -8, -7, -6, -5, -4, -3, -2, -1, 0, 0, 1, 2, 3, 4, 5, 6, 7, 8, 9, 10, 11, 12, 13, 14, 15, 16, 17, 18, 19, 20, 21, 22, 23, 24, 25, 26, 27, 28, 29, 30, 31, 32, 33, 34, 35, 36, 37, 38, 39, 40, 41, 42, 43, 44, 45, 46, 47, 48, 49, 50, 51, 52, 53, 54, 55, 56, 57, 58, 60], \"xaxis\": \"x\", \"y\": [0.836158419313487, 0.8371480943071999, 0.8348978692120419, 0.8298541827097008, 0.8233756681688392, 0.8165871964447823, 0.8102499326840946, 0.8060681297824769, 0.8050423808126392, 0.8081679123828802, 0.8153023002547668, 0.8248344482440069, 0.8356528424184966, 0.8465694552440144, 0.8575212463666485, 0.8686470730614132, 0.8805116050608561, 0.8940155078638994, 0.9100861237383994, 0.9289315368325434, 0.9491146385362159, 0.9690195783539426, 0.9873811815078377, 1.0036487590267853, 1.0176173122215533, 1.0287804240842922, 1.0378653392100403, 1.045599281308726, 1.0534492663716784, 1.0625145412660677, 1.0735904727527115, 1.0879079969210594, 1.1057501442370614, 1.1276704209290889, 1.1528035265516918, 1.1804243301328468, 1.2090307513812848, 1.2381300859723978, 1.2683779338856676, 1.300489758332174, 1.335118412059124, 1.373137734287626, 1.4162422282612213, 1.4645196990995935, 1.5175489146606151, 1.5739445391593812, 1.6328779071640296, 1.6936128324231536, 1.7553046551666296, 1.8177904028824414, 1.8803080155134444, 1.9441591090813097, 2.010929682421744, 2.0810202509677196, 2.1542422943594977, 2.2295951137925294, 2.304725745136524, 2.3748528153519457, 2.4342140165189723, 2.4772272252843477, 2.4988868726451057, 2.4964389693768387, 2.471145597819395, 2.426322586124568, 2.3666340857946047, 2.2975744309457857, 2.2247442696753876, 2.1522440808670114, 2.0815436824695737, 2.012599341279493, 1.945000623053257, 1.8785207207780432, 1.8127240372215536, 1.7478491633852253, 1.6843655837885718, 1.6227475406147933, 1.5640128685609862, 1.509114030790537, 1.4592433942002827, 1.4147877575050016, 1.3761319454673384, 1.3439320054349275, 1.3172121193315762, 1.2939702409185931, 1.2723581936359398, 1.2509633215307132, 1.2294351030237842, 1.2077596174698957, 1.1867274933399443, 1.1677181920279358, 1.1516337232126506, 1.1388546878756387, 1.128323738155535, 1.1187767910006363, 1.1087142239252494, 1.0970019406244882, 1.083442735251613, 1.067320361141648, 1.048896734890092, 1.0283825154290105, 1.0070849050325912, 0.9863173916188549, 0.9669801360977716, 0.9507858990859033, 0.9388033131502852, 0.9313417448312256, 0.9275121369713019, 0.9259242901509086, 0.9248366376990369, 0.922718353806805, 0.9192855689561602, 0.9150509510191484, 0.9107266675713632, 0.9068214623320014, 0.9039948629930341, 0.9024944732860464, 0.9015101021399674, 0.9000059369017559, 0.8964915792052407, 0.8908905105383875], \"yaxis\": \"y\"}, {\"mode\": \"lines\", \"type\": \"scatter\", \"x\": [-60.0, -58.991596638655466, -57.983193277310924, -56.97478991596638, -55.96638655462185, -54.957983193277315, -53.94957983193277, -52.94117647058823, -51.9327731092437, -50.92436974789916, -49.91596638655462, -48.90756302521008, -47.89915966386555, -46.89075630252101, -45.88235294117647, -44.87394957983193, -43.865546218487395, -42.85714285714286, -41.84873949579832, -40.84033613445378, -39.831932773109244, -38.82352941176471, -37.81512605042017, -36.80672268907563, -35.79831932773109, -34.78991596638656, -33.78151260504202, -32.773109243697476, -31.764705882352942, -30.756302521008404, -29.747899159663866, -28.73949579831933, -27.73109243697479, -26.722689075630257, -25.714285714285715, -24.705882352941174, -23.69747899159664, -22.689075630252105, -21.680672268907564, -20.672268907563023, -19.66386554621849, -18.655462184873954, -17.647058823529413, -16.63865546218487, -15.630252100840337, -14.621848739495803, -13.613445378151262, -12.60504201680672, -11.596638655462186, -10.588235294117652, -9.57983193277311, -8.57142857142857, -7.563025210084035, -6.554621848739501, -5.54621848739496, -4.537815126050418, -3.529411764705884, -2.52100840336135, -1.5126050420168085, -0.5042016806722671, 0.5042016806722671, 1.5126050420168013, 2.5210084033613427, 3.529411764705884, 4.537815126050418, 5.5462184873949525, 6.554621848739487, 7.563025210084035, 8.57142857142857, 9.579831932773104, 10.588235294117652, 11.596638655462186, 12.60504201680672, 13.613445378151255, 14.621848739495789, 15.630252100840337, 16.63865546218487, 17.647058823529406, 18.655462184873954, 19.66386554621849, 20.672268907563023, 21.680672268907557, 22.68907563025209, 23.69747899159664, 24.705882352941174, 25.714285714285708, 26.722689075630257, 27.73109243697479, 28.739495798319325, 29.74789915966386, 30.756302521008394, 31.764705882352942, 32.773109243697476, 33.78151260504201, 34.78991596638656, 35.79831932773109, 36.80672268907563, 37.81512605042016, 38.823529411764696, 39.831932773109244, 40.84033613445378, 41.84873949579831, 42.85714285714286, 43.865546218487395, 44.87394957983193, 45.882352941176464, 46.890756302521, 47.89915966386555, 48.90756302521008, 49.915966386554615, 50.92436974789916, 51.9327731092437, 52.94117647058823, 53.949579831932766, 54.9579831932773, 55.96638655462185, 56.97478991596638, 57.98319327731092, 58.991596638655466, 60.0], \"y\": [0.05, 0.05, 0.05, 0.05, 0.05, 0.05, 0.05, 0.05, 0.05, 0.05, 0.05, 0.05, 0.05, 0.05, 0.05, 0.05, 0.05, 0.05, 0.05, 0.05, 0.05, 0.05, 0.05, 0.05, 0.05, 0.05, 0.05, 0.05, 0.05, 0.05, 0.05, 0.05, 0.05, 0.05, 0.05, 0.05, 0.05, 0.05, 0.05, 0.05, 0.05, 0.05, 0.05, 0.05, 0.05, 0.05, 0.05, 0.05, 0.05, 0.05, 0.05, 0.05, 0.05, 0.05, 0.05, 0.05, 0.05, 0.05, 0.05, 0.05, 0.05, 0.05, 0.05, 0.05, 0.05, 0.05, 0.05, 0.05, 0.05, 0.05, 0.05, 0.05, 0.05, 0.05, 0.05, 0.05, 0.05, 0.05, 0.05, 0.05, 0.05, 0.05, 0.05, 0.05, 0.05, 0.05, 0.05, 0.05, 0.05, 0.05, 0.05, 0.05, 0.05, 0.05, 0.05, 0.05, 0.05, 0.05, 0.05, 0.05, 0.05, 0.05, 0.05, 0.05, 0.05, 0.05, 0.05, 0.05, 0.05, 0.05, 0.05, 0.05, 0.05, 0.05, 0.05, 0.05, 0.05, 0.05, 0.05, 0.05]}, {\"mode\": \"lines\", \"type\": \"scatter\", \"x\": [-60.0, -58.991596638655466, -57.983193277310924, -56.97478991596638, -55.96638655462185, -54.957983193277315, -53.94957983193277, -52.94117647058823, -51.9327731092437, -50.92436974789916, -49.91596638655462, -48.90756302521008, -47.89915966386555, -46.89075630252101, -45.88235294117647, -44.87394957983193, -43.865546218487395, -42.85714285714286, -41.84873949579832, -40.84033613445378, -39.831932773109244, -38.82352941176471, -37.81512605042017, -36.80672268907563, -35.79831932773109, -34.78991596638656, -33.78151260504202, -32.773109243697476, -31.764705882352942, -30.756302521008404, -29.747899159663866, -28.73949579831933, -27.73109243697479, -26.722689075630257, -25.714285714285715, -24.705882352941174, -23.69747899159664, -22.689075630252105, -21.680672268907564, -20.672268907563023, -19.66386554621849, -18.655462184873954, -17.647058823529413, -16.63865546218487, -15.630252100840337, -14.621848739495803, -13.613445378151262, -12.60504201680672, -11.596638655462186, -10.588235294117652, -9.57983193277311, -8.57142857142857, -7.563025210084035, -6.554621848739501, -5.54621848739496, -4.537815126050418, -3.529411764705884, -2.52100840336135, -1.5126050420168085, -0.5042016806722671, 0.5042016806722671, 1.5126050420168013, 2.5210084033613427, 3.529411764705884, 4.537815126050418, 5.5462184873949525, 6.554621848739487, 7.563025210084035, 8.57142857142857, 9.579831932773104, 10.588235294117652, 11.596638655462186, 12.60504201680672, 13.613445378151255, 14.621848739495789, 15.630252100840337, 16.63865546218487, 17.647058823529406, 18.655462184873954, 19.66386554621849, 20.672268907563023, 21.680672268907557, 22.68907563025209, 23.69747899159664, 24.705882352941174, 25.714285714285708, 26.722689075630257, 27.73109243697479, 28.739495798319325, 29.74789915966386, 30.756302521008394, 31.764705882352942, 32.773109243697476, 33.78151260504201, 34.78991596638656, 35.79831932773109, 36.80672268907563, 37.81512605042016, 38.823529411764696, 39.831932773109244, 40.84033613445378, 41.84873949579831, 42.85714285714286, 43.865546218487395, 44.87394957983193, 45.882352941176464, 46.890756302521, 47.89915966386555, 48.90756302521008, 49.915966386554615, 50.92436974789916, 51.9327731092437, 52.94117647058823, 53.949579831932766, 54.9579831932773, 55.96638655462185, 56.97478991596638, 57.98319327731092, 58.991596638655466, 60.0], \"y\": [-0.05, -0.05, -0.05, -0.05, -0.05, -0.05, -0.05, -0.05, -0.05, -0.05, -0.05, -0.05, -0.05, -0.05, -0.05, -0.05, -0.05, -0.05, -0.05, -0.05, -0.05, -0.05, -0.05, -0.05, -0.05, -0.05, -0.05, -0.05, -0.05, -0.05, -0.05, -0.05, -0.05, -0.05, -0.05, -0.05, -0.05, -0.05, -0.05, -0.05, -0.05, -0.05, -0.05, -0.05, -0.05, -0.05, -0.05, -0.05, -0.05, -0.05, -0.05, -0.05, -0.05, -0.05, -0.05, -0.05, -0.05, -0.05, -0.05, -0.05, -0.05, -0.05, -0.05, -0.05, -0.05, -0.05, -0.05, -0.05, -0.05, -0.05, -0.05, -0.05, -0.05, -0.05, -0.05, -0.05, -0.05, -0.05, -0.05, -0.05, -0.05, -0.05, -0.05, -0.05, -0.05, -0.05, -0.05, -0.05, -0.05, -0.05, -0.05, -0.05, -0.05, -0.05, -0.05, -0.05, -0.05, -0.05, -0.05, -0.05, -0.05, -0.05, -0.05, -0.05, -0.05, -0.05, -0.05, -0.05, -0.05, -0.05, -0.05, -0.05, -0.05, -0.05, -0.05, -0.05, -0.05, -0.05, -0.05, -0.05]}, {\"mode\": \"lines\", \"type\": \"scatter\", \"x\": [-30, -30, -30, -30, -30, -30, -30, -30, -30, -30, -30, -30, -30, -30, -30, -30, -30, -30, -30, -30, -30, -30, -30, -30, -30, -30, -30, -30, -30, -30, -30, -30, -30, -30, -30, -30, -30, -30, -30, -30, -30, -30, -30, -30, -30, -30, -30, -30, -30, -30, -30, -30, -30, -30, -30, -30, -30, -30, -30, -30, -30, -30, -30, -30, -30, -30, -30, -30, -30, -30, -30, -30, -30, -30, -30, -30, -30, -30, -30, -30, -30, -30, -30, -30, -30, -30, -30, -30, -30, -30, -30, -30, -30, -30, -30, -30, -30, -30, -30, -30], \"y\": [-0.1, -0.09797979797979799, -0.09595959595959597, -0.09393939393939395, -0.09191919191919193, -0.08989898989898991, -0.08787878787878789, -0.08585858585858586, -0.08383838383838385, -0.08181818181818182, -0.07979797979797981, -0.07777777777777778, -0.07575757575757576, -0.07373737373737374, -0.07171717171717172, -0.0696969696969697, -0.06767676767676768, -0.06565656565656566, -0.06363636363636364, -0.061616161616161624, -0.059595959595959605, -0.05757575757575758, -0.05555555555555556, -0.05353535353535354, -0.05151515151515152, -0.0494949494949495, -0.04747474747474748, -0.04545454545454546, -0.043434343434343436, -0.04141414141414142, -0.0393939393939394, -0.03737373737373738, -0.03535353535353536, -0.03333333333333334, -0.03131313131313132, -0.0292929292929293, -0.027272727272727282, -0.025252525252525262, -0.023232323232323243, -0.021212121212121224, -0.019191919191919204, -0.01717171717171717, -0.015151515151515152, -0.013131313131313133, -0.011111111111111113, -0.009090909090909094, -0.007070707070707075, -0.005050505050505055, -0.003030303030303036, -0.0010101010101010166, 0.0010101010101010027, 0.003030303030303022, 0.005050505050505041, 0.007070707070707061, 0.00909090909090908, 0.0111111111111111, 0.013131313131313133, 0.015151515151515152, 0.01717171717171717, 0.01919191919191919, 0.02121212121212121, 0.02323232323232323, 0.02525252525252525, 0.027272727272727254, 0.029292929292929287, 0.03131313131313132, 0.033333333333333326, 0.03535353535353536, 0.037373737373737365, 0.0393939393939394, 0.0414141414141414, 0.043434343434343436, 0.04545454545454544, 0.047474747474747475, 0.04949494949494948, 0.051515151515151514, 0.05353535353535352, 0.05555555555555555, 0.05757575757575756, 0.05959595959595959, 0.0616161616161616, 0.06363636363636363, 0.06565656565656566, 0.06767676767676767, 0.0696969696969697, 0.07171717171717171, 0.07373737373737374, 0.07575757575757575, 0.07777777777777778, 0.07979797979797978, 0.08181818181818182, 0.08383838383838382, 0.08585858585858586, 0.08787878787878786, 0.0898989898989899, 0.0919191919191919, 0.09393939393939393, 0.09595959595959597, 0.09797979797979797, 0.1]}],\n",
       "                        {\"legend\": {\"tracegroupgap\": 0}, \"margin\": {\"t\": 60}, \"template\": {\"data\": {\"bar\": [{\"error_x\": {\"color\": \"#2a3f5f\"}, \"error_y\": {\"color\": \"#2a3f5f\"}, \"marker\": {\"line\": {\"color\": \"#E5ECF6\", \"width\": 0.5}}, \"type\": \"bar\"}], \"barpolar\": [{\"marker\": {\"line\": {\"color\": \"#E5ECF6\", \"width\": 0.5}}, \"type\": \"barpolar\"}], \"carpet\": [{\"aaxis\": {\"endlinecolor\": \"#2a3f5f\", \"gridcolor\": \"white\", \"linecolor\": \"white\", \"minorgridcolor\": \"white\", \"startlinecolor\": \"#2a3f5f\"}, \"baxis\": {\"endlinecolor\": \"#2a3f5f\", \"gridcolor\": \"white\", \"linecolor\": \"white\", \"minorgridcolor\": \"white\", \"startlinecolor\": \"#2a3f5f\"}, \"type\": \"carpet\"}], \"choropleth\": [{\"colorbar\": {\"outlinewidth\": 0, \"ticks\": \"\"}, \"type\": \"choropleth\"}], \"contour\": [{\"colorbar\": {\"outlinewidth\": 0, \"ticks\": \"\"}, \"colorscale\": [[0.0, \"#0d0887\"], [0.1111111111111111, \"#46039f\"], [0.2222222222222222, \"#7201a8\"], [0.3333333333333333, \"#9c179e\"], [0.4444444444444444, \"#bd3786\"], [0.5555555555555556, \"#d8576b\"], [0.6666666666666666, \"#ed7953\"], [0.7777777777777778, \"#fb9f3a\"], [0.8888888888888888, \"#fdca26\"], [1.0, \"#f0f921\"]], \"type\": \"contour\"}], \"contourcarpet\": [{\"colorbar\": {\"outlinewidth\": 0, \"ticks\": \"\"}, \"type\": \"contourcarpet\"}], \"heatmap\": [{\"colorbar\": {\"outlinewidth\": 0, \"ticks\": \"\"}, \"colorscale\": [[0.0, \"#0d0887\"], [0.1111111111111111, \"#46039f\"], [0.2222222222222222, \"#7201a8\"], [0.3333333333333333, \"#9c179e\"], [0.4444444444444444, \"#bd3786\"], [0.5555555555555556, \"#d8576b\"], [0.6666666666666666, \"#ed7953\"], [0.7777777777777778, \"#fb9f3a\"], [0.8888888888888888, \"#fdca26\"], [1.0, \"#f0f921\"]], \"type\": \"heatmap\"}], \"heatmapgl\": [{\"colorbar\": {\"outlinewidth\": 0, \"ticks\": \"\"}, \"colorscale\": [[0.0, \"#0d0887\"], [0.1111111111111111, \"#46039f\"], [0.2222222222222222, \"#7201a8\"], [0.3333333333333333, \"#9c179e\"], [0.4444444444444444, \"#bd3786\"], [0.5555555555555556, \"#d8576b\"], [0.6666666666666666, \"#ed7953\"], [0.7777777777777778, \"#fb9f3a\"], [0.8888888888888888, \"#fdca26\"], [1.0, \"#f0f921\"]], \"type\": \"heatmapgl\"}], \"histogram\": [{\"marker\": {\"colorbar\": {\"outlinewidth\": 0, \"ticks\": \"\"}}, \"type\": \"histogram\"}], \"histogram2d\": [{\"colorbar\": {\"outlinewidth\": 0, \"ticks\": \"\"}, \"colorscale\": [[0.0, \"#0d0887\"], [0.1111111111111111, \"#46039f\"], [0.2222222222222222, \"#7201a8\"], [0.3333333333333333, \"#9c179e\"], [0.4444444444444444, \"#bd3786\"], [0.5555555555555556, \"#d8576b\"], [0.6666666666666666, \"#ed7953\"], [0.7777777777777778, \"#fb9f3a\"], [0.8888888888888888, \"#fdca26\"], [1.0, \"#f0f921\"]], \"type\": \"histogram2d\"}], \"histogram2dcontour\": [{\"colorbar\": {\"outlinewidth\": 0, \"ticks\": \"\"}, \"colorscale\": [[0.0, \"#0d0887\"], [0.1111111111111111, \"#46039f\"], [0.2222222222222222, \"#7201a8\"], [0.3333333333333333, \"#9c179e\"], [0.4444444444444444, \"#bd3786\"], [0.5555555555555556, \"#d8576b\"], [0.6666666666666666, \"#ed7953\"], [0.7777777777777778, \"#fb9f3a\"], [0.8888888888888888, \"#fdca26\"], [1.0, \"#f0f921\"]], \"type\": \"histogram2dcontour\"}], \"mesh3d\": [{\"colorbar\": {\"outlinewidth\": 0, \"ticks\": \"\"}, \"type\": \"mesh3d\"}], \"parcoords\": [{\"line\": {\"colorbar\": {\"outlinewidth\": 0, \"ticks\": \"\"}}, \"type\": \"parcoords\"}], \"pie\": [{\"automargin\": true, \"type\": \"pie\"}], \"scatter\": [{\"marker\": {\"colorbar\": {\"outlinewidth\": 0, \"ticks\": \"\"}}, \"type\": \"scatter\"}], \"scatter3d\": [{\"line\": {\"colorbar\": {\"outlinewidth\": 0, \"ticks\": \"\"}}, \"marker\": {\"colorbar\": {\"outlinewidth\": 0, \"ticks\": \"\"}}, \"type\": \"scatter3d\"}], \"scattercarpet\": [{\"marker\": {\"colorbar\": {\"outlinewidth\": 0, \"ticks\": \"\"}}, \"type\": \"scattercarpet\"}], \"scattergeo\": [{\"marker\": {\"colorbar\": {\"outlinewidth\": 0, \"ticks\": \"\"}}, \"type\": \"scattergeo\"}], \"scattergl\": [{\"marker\": {\"colorbar\": {\"outlinewidth\": 0, \"ticks\": \"\"}}, \"type\": \"scattergl\"}], \"scattermapbox\": [{\"marker\": {\"colorbar\": {\"outlinewidth\": 0, \"ticks\": \"\"}}, \"type\": \"scattermapbox\"}], \"scatterpolar\": [{\"marker\": {\"colorbar\": {\"outlinewidth\": 0, \"ticks\": \"\"}}, \"type\": \"scatterpolar\"}], \"scatterpolargl\": [{\"marker\": {\"colorbar\": {\"outlinewidth\": 0, \"ticks\": \"\"}}, \"type\": \"scatterpolargl\"}], \"scatterternary\": [{\"marker\": {\"colorbar\": {\"outlinewidth\": 0, \"ticks\": \"\"}}, \"type\": \"scatterternary\"}], \"surface\": [{\"colorbar\": {\"outlinewidth\": 0, \"ticks\": \"\"}, \"colorscale\": [[0.0, \"#0d0887\"], [0.1111111111111111, \"#46039f\"], [0.2222222222222222, \"#7201a8\"], [0.3333333333333333, \"#9c179e\"], [0.4444444444444444, \"#bd3786\"], [0.5555555555555556, \"#d8576b\"], [0.6666666666666666, \"#ed7953\"], [0.7777777777777778, \"#fb9f3a\"], [0.8888888888888888, \"#fdca26\"], [1.0, \"#f0f921\"]], \"type\": \"surface\"}], \"table\": [{\"cells\": {\"fill\": {\"color\": \"#EBF0F8\"}, \"line\": {\"color\": \"white\"}}, \"header\": {\"fill\": {\"color\": \"#C8D4E3\"}, \"line\": {\"color\": \"white\"}}, \"type\": \"table\"}]}, \"layout\": {\"annotationdefaults\": {\"arrowcolor\": \"#2a3f5f\", \"arrowhead\": 0, \"arrowwidth\": 1}, \"coloraxis\": {\"colorbar\": {\"outlinewidth\": 0, \"ticks\": \"\"}}, \"colorscale\": {\"diverging\": [[0, \"#8e0152\"], [0.1, \"#c51b7d\"], [0.2, \"#de77ae\"], [0.3, \"#f1b6da\"], [0.4, \"#fde0ef\"], [0.5, \"#f7f7f7\"], [0.6, \"#e6f5d0\"], [0.7, \"#b8e186\"], [0.8, \"#7fbc41\"], [0.9, \"#4d9221\"], [1, \"#276419\"]], \"sequential\": [[0.0, \"#0d0887\"], [0.1111111111111111, \"#46039f\"], [0.2222222222222222, \"#7201a8\"], [0.3333333333333333, \"#9c179e\"], [0.4444444444444444, \"#bd3786\"], [0.5555555555555556, \"#d8576b\"], [0.6666666666666666, \"#ed7953\"], [0.7777777777777778, \"#fb9f3a\"], [0.8888888888888888, \"#fdca26\"], [1.0, \"#f0f921\"]], \"sequentialminus\": [[0.0, \"#0d0887\"], [0.1111111111111111, \"#46039f\"], [0.2222222222222222, \"#7201a8\"], [0.3333333333333333, \"#9c179e\"], [0.4444444444444444, \"#bd3786\"], [0.5555555555555556, \"#d8576b\"], [0.6666666666666666, \"#ed7953\"], [0.7777777777777778, \"#fb9f3a\"], [0.8888888888888888, \"#fdca26\"], [1.0, \"#f0f921\"]]}, \"colorway\": [\"#636efa\", \"#EF553B\", \"#00cc96\", \"#ab63fa\", \"#FFA15A\", \"#19d3f3\", \"#FF6692\", \"#B6E880\", \"#FF97FF\", \"#FECB52\"], \"font\": {\"color\": \"#2a3f5f\"}, \"geo\": {\"bgcolor\": \"white\", \"lakecolor\": \"white\", \"landcolor\": \"#E5ECF6\", \"showlakes\": true, \"showland\": true, \"subunitcolor\": \"white\"}, \"hoverlabel\": {\"align\": \"left\"}, \"hovermode\": \"closest\", \"mapbox\": {\"style\": \"light\"}, \"paper_bgcolor\": \"white\", \"plot_bgcolor\": \"#E5ECF6\", \"polar\": {\"angularaxis\": {\"gridcolor\": \"white\", \"linecolor\": \"white\", \"ticks\": \"\"}, \"bgcolor\": \"#E5ECF6\", \"radialaxis\": {\"gridcolor\": \"white\", \"linecolor\": \"white\", \"ticks\": \"\"}}, \"scene\": {\"xaxis\": {\"backgroundcolor\": \"#E5ECF6\", \"gridcolor\": \"white\", \"gridwidth\": 2, \"linecolor\": \"white\", \"showbackground\": true, \"ticks\": \"\", \"zerolinecolor\": \"white\"}, \"yaxis\": {\"backgroundcolor\": \"#E5ECF6\", \"gridcolor\": \"white\", \"gridwidth\": 2, \"linecolor\": \"white\", \"showbackground\": true, \"ticks\": \"\", \"zerolinecolor\": \"white\"}, \"zaxis\": {\"backgroundcolor\": \"#E5ECF6\", \"gridcolor\": \"white\", \"gridwidth\": 2, \"linecolor\": \"white\", \"showbackground\": true, \"ticks\": \"\", \"zerolinecolor\": \"white\"}}, \"shapedefaults\": {\"line\": {\"color\": \"#2a3f5f\"}}, \"ternary\": {\"aaxis\": {\"gridcolor\": \"white\", \"linecolor\": \"white\", \"ticks\": \"\"}, \"baxis\": {\"gridcolor\": \"white\", \"linecolor\": \"white\", \"ticks\": \"\"}, \"bgcolor\": \"#E5ECF6\", \"caxis\": {\"gridcolor\": \"white\", \"linecolor\": \"white\", \"ticks\": \"\"}}, \"title\": {\"x\": 0.05}, \"xaxis\": {\"automargin\": true, \"gridcolor\": \"white\", \"linecolor\": \"white\", \"ticks\": \"\", \"title\": {\"standoff\": 15}, \"zerolinecolor\": \"white\", \"zerolinewidth\": 2}, \"yaxis\": {\"automargin\": true, \"gridcolor\": \"white\", \"linecolor\": \"white\", \"ticks\": \"\", \"title\": {\"standoff\": 15}, \"zerolinecolor\": \"white\", \"zerolinewidth\": 2}}}, \"xaxis\": {\"anchor\": \"y\", \"domain\": [0.0, 1.0], \"title\": {\"text\": \"x\"}}, \"yaxis\": {\"anchor\": \"x\", \"domain\": [0.0, 1.0], \"title\": {\"text\": \"y\"}}},\n",
       "                        {\"responsive\": true}\n",
       "                    ).then(function(){\n",
       "                            \n",
       "var gd = document.getElementById('9f0c8499-2fd4-4008-aaab-f7b0a96c8040');\n",
       "var x = new MutationObserver(function (mutations, observer) {{\n",
       "        var display = window.getComputedStyle(gd).display;\n",
       "        if (!display || display === 'none') {{\n",
       "            console.log([gd, 'removed!']);\n",
       "            Plotly.purge(gd);\n",
       "            observer.disconnect();\n",
       "        }}\n",
       "}});\n",
       "\n",
       "// Listen for the removal of the full notebook cells\n",
       "var notebookContainer = gd.closest('#notebook-container');\n",
       "if (notebookContainer) {{\n",
       "    x.observe(notebookContainer, {childList: true});\n",
       "}}\n",
       "\n",
       "// Listen for the clearing of the current output cell\n",
       "var outputEl = gd.closest('.output');\n",
       "if (outputEl) {{\n",
       "    x.observe(outputEl, {childList: true});\n",
       "}}\n",
       "\n",
       "                        })\n",
       "                };\n",
       "                });\n",
       "            </script>\n",
       "        </div>"
      ]
     },
     "metadata": {},
     "output_type": "display_data"
    }
   ],
   "source": [
    "a = plot_continuous_hour_ccf_test('lvs-pussay_Speed(m/s)')"
   ]
  },
  {
   "cell_type": "code",
   "execution_count": 146,
   "metadata": {},
   "outputs": [],
   "source": [
    "\n",
    "   "
   ]
  },
  {
   "cell_type": "code",
   "execution_count": 72,
   "metadata": {},
   "outputs": [],
   "source": []
  },
  {
   "cell_type": "code",
   "execution_count": null,
   "metadata": {},
   "outputs": [],
   "source": []
  },
  {
   "cell_type": "code",
   "execution_count": null,
   "metadata": {},
   "outputs": [],
   "source": [
    "def get_periodic_merge(period):\n",
    "    dividants = np.linspace(0,df_interpolated.shape[0],df_interpolated.shape[0]/3,dtype=np.int)\n",
    "    return "
   ]
  },
  {
   "cell_type": "code",
   "execution_count": null,
   "metadata": {},
   "outputs": [],
   "source": [
    "def get_convert_merge():\n",
    "    return "
   ]
  },
  {
   "cell_type": "code",
   "execution_count": 55,
   "metadata": {},
   "outputs": [],
   "source": [
    "\n",
    "dividants = np.linspace(0,df_interpolated.shape[0],df_interpolated.shape[0]/3,dtype=np.int)"
   ]
  },
  {
   "cell_type": "code",
   "execution_count": 54,
   "metadata": {},
   "outputs": [
    {
     "ename": "KeyError",
     "evalue": "\"None of [Int64Index([    0,     3,     6,     9,    12,    15,    18,    21,    24,\\n               27,\\n            ...\\n            30988, 30991, 30994, 30997, 31000, 31003, 31006, 31009, 31012,\\n            31016],\\n           dtype='int64', length=10338)] are in the [columns]\"",
     "output_type": "error",
     "traceback": [
      "\u001b[1;31m---------------------------------------------------------------------------\u001b[0m",
      "\u001b[1;31mKeyError\u001b[0m                                  Traceback (most recent call last)",
      "\u001b[1;32m<ipython-input-54-7f39925ce3aa>\u001b[0m in \u001b[0;36m<module>\u001b[1;34m\u001b[0m\n\u001b[1;32m----> 1\u001b[1;33m \u001b[0mdf_interpolated\u001b[0m\u001b[1;33m[\u001b[0m\u001b[0mdividants\u001b[0m\u001b[1;33m]\u001b[0m\u001b[1;33m\u001b[0m\u001b[1;33m\u001b[0m\u001b[0m\n\u001b[0m",
      "\u001b[1;32mC:\\miniconda\\envs\\tensorflow\\lib\\site-packages\\pandas\\core\\frame.py\u001b[0m in \u001b[0;36m__getitem__\u001b[1;34m(self, key)\u001b[0m\n\u001b[0;32m   2804\u001b[0m             \u001b[1;32mif\u001b[0m \u001b[0mis_iterator\u001b[0m\u001b[1;33m(\u001b[0m\u001b[0mkey\u001b[0m\u001b[1;33m)\u001b[0m\u001b[1;33m:\u001b[0m\u001b[1;33m\u001b[0m\u001b[1;33m\u001b[0m\u001b[0m\n\u001b[0;32m   2805\u001b[0m                 \u001b[0mkey\u001b[0m \u001b[1;33m=\u001b[0m \u001b[0mlist\u001b[0m\u001b[1;33m(\u001b[0m\u001b[0mkey\u001b[0m\u001b[1;33m)\u001b[0m\u001b[1;33m\u001b[0m\u001b[1;33m\u001b[0m\u001b[0m\n\u001b[1;32m-> 2806\u001b[1;33m             \u001b[0mindexer\u001b[0m \u001b[1;33m=\u001b[0m \u001b[0mself\u001b[0m\u001b[1;33m.\u001b[0m\u001b[0mloc\u001b[0m\u001b[1;33m.\u001b[0m\u001b[0m_get_listlike_indexer\u001b[0m\u001b[1;33m(\u001b[0m\u001b[0mkey\u001b[0m\u001b[1;33m,\u001b[0m \u001b[0maxis\u001b[0m\u001b[1;33m=\u001b[0m\u001b[1;36m1\u001b[0m\u001b[1;33m,\u001b[0m \u001b[0mraise_missing\u001b[0m\u001b[1;33m=\u001b[0m\u001b[1;32mTrue\u001b[0m\u001b[1;33m)\u001b[0m\u001b[1;33m[\u001b[0m\u001b[1;36m1\u001b[0m\u001b[1;33m]\u001b[0m\u001b[1;33m\u001b[0m\u001b[1;33m\u001b[0m\u001b[0m\n\u001b[0m\u001b[0;32m   2807\u001b[0m \u001b[1;33m\u001b[0m\u001b[0m\n\u001b[0;32m   2808\u001b[0m         \u001b[1;31m# take() does not accept boolean indexers\u001b[0m\u001b[1;33m\u001b[0m\u001b[1;33m\u001b[0m\u001b[1;33m\u001b[0m\u001b[0m\n",
      "\u001b[1;32mC:\\miniconda\\envs\\tensorflow\\lib\\site-packages\\pandas\\core\\indexing.py\u001b[0m in \u001b[0;36m_get_listlike_indexer\u001b[1;34m(self, key, axis, raise_missing)\u001b[0m\n\u001b[0;32m   1551\u001b[0m \u001b[1;33m\u001b[0m\u001b[0m\n\u001b[0;32m   1552\u001b[0m         self._validate_read_indexer(\n\u001b[1;32m-> 1553\u001b[1;33m             \u001b[0mkeyarr\u001b[0m\u001b[1;33m,\u001b[0m \u001b[0mindexer\u001b[0m\u001b[1;33m,\u001b[0m \u001b[0mo\u001b[0m\u001b[1;33m.\u001b[0m\u001b[0m_get_axis_number\u001b[0m\u001b[1;33m(\u001b[0m\u001b[0maxis\u001b[0m\u001b[1;33m)\u001b[0m\u001b[1;33m,\u001b[0m \u001b[0mraise_missing\u001b[0m\u001b[1;33m=\u001b[0m\u001b[0mraise_missing\u001b[0m\u001b[1;33m\u001b[0m\u001b[1;33m\u001b[0m\u001b[0m\n\u001b[0m\u001b[0;32m   1554\u001b[0m         )\n\u001b[0;32m   1555\u001b[0m         \u001b[1;32mreturn\u001b[0m \u001b[0mkeyarr\u001b[0m\u001b[1;33m,\u001b[0m \u001b[0mindexer\u001b[0m\u001b[1;33m\u001b[0m\u001b[1;33m\u001b[0m\u001b[0m\n",
      "\u001b[1;32mC:\\miniconda\\envs\\tensorflow\\lib\\site-packages\\pandas\\core\\indexing.py\u001b[0m in \u001b[0;36m_validate_read_indexer\u001b[1;34m(self, key, indexer, axis, raise_missing)\u001b[0m\n\u001b[0;32m   1638\u001b[0m             \u001b[1;32mif\u001b[0m \u001b[0mmissing\u001b[0m \u001b[1;33m==\u001b[0m \u001b[0mlen\u001b[0m\u001b[1;33m(\u001b[0m\u001b[0mindexer\u001b[0m\u001b[1;33m)\u001b[0m\u001b[1;33m:\u001b[0m\u001b[1;33m\u001b[0m\u001b[1;33m\u001b[0m\u001b[0m\n\u001b[0;32m   1639\u001b[0m                 \u001b[0maxis_name\u001b[0m \u001b[1;33m=\u001b[0m \u001b[0mself\u001b[0m\u001b[1;33m.\u001b[0m\u001b[0mobj\u001b[0m\u001b[1;33m.\u001b[0m\u001b[0m_get_axis_name\u001b[0m\u001b[1;33m(\u001b[0m\u001b[0maxis\u001b[0m\u001b[1;33m)\u001b[0m\u001b[1;33m\u001b[0m\u001b[1;33m\u001b[0m\u001b[0m\n\u001b[1;32m-> 1640\u001b[1;33m                 \u001b[1;32mraise\u001b[0m \u001b[0mKeyError\u001b[0m\u001b[1;33m(\u001b[0m\u001b[1;34mf\"None of [{key}] are in the [{axis_name}]\"\u001b[0m\u001b[1;33m)\u001b[0m\u001b[1;33m\u001b[0m\u001b[1;33m\u001b[0m\u001b[0m\n\u001b[0m\u001b[0;32m   1641\u001b[0m \u001b[1;33m\u001b[0m\u001b[0m\n\u001b[0;32m   1642\u001b[0m             \u001b[1;31m# We (temporarily) allow for some missing keys with .loc, except in\u001b[0m\u001b[1;33m\u001b[0m\u001b[1;33m\u001b[0m\u001b[1;33m\u001b[0m\u001b[0m\n",
      "\u001b[1;31mKeyError\u001b[0m: \"None of [Int64Index([    0,     3,     6,     9,    12,    15,    18,    21,    24,\\n               27,\\n            ...\\n            30988, 30991, 30994, 30997, 31000, 31003, 31006, 31009, 31012,\\n            31016],\\n           dtype='int64', length=10338)] are in the [columns]\""
     ]
    }
   ],
   "source": [
    "df_interpolated[dividants]"
   ]
  },
  {
   "cell_type": "code",
   "execution_count": 58,
   "metadata": {},
   "outputs": [
    {
     "data": {
      "text/plain": [
       "array([    0,     3,     6, ..., 31009, 31012, 31016])"
      ]
     },
     "execution_count": 58,
     "metadata": {},
     "output_type": "execute_result"
    }
   ],
   "source": [
    "dividants"
   ]
  },
  {
   "cell_type": "code",
   "execution_count": 70,
   "metadata": {},
   "outputs": [
    {
     "data": {
      "text/html": [
       "<div>\n",
       "<style scoped>\n",
       "    .dataframe tbody tr th:only-of-type {\n",
       "        vertical-align: middle;\n",
       "    }\n",
       "\n",
       "    .dataframe tbody tr th {\n",
       "        vertical-align: top;\n",
       "    }\n",
       "\n",
       "    .dataframe thead th {\n",
       "        text-align: right;\n",
       "    }\n",
       "</style>\n",
       "<table border=\"1\" class=\"dataframe\">\n",
       "  <thead>\n",
       "    <tr style=\"text-align: right;\">\n",
       "      <th></th>\n",
       "      <th>index</th>\n",
       "      <th>datetime</th>\n",
       "      <th>Wind_mean</th>\n",
       "      <th>Wind_median</th>\n",
       "      <th>Wind_max</th>\n",
       "      <th>Wind_min</th>\n",
       "      <th>Wind_std</th>\n",
       "      <th>Hours</th>\n",
       "      <th>Wind</th>\n",
       "      <th>guitrancourt_Speed(m/s)</th>\n",
       "      <th>...</th>\n",
       "      <th>parc-du-gatinais-b_Speed(m/s)</th>\n",
       "      <th>parc-du-gatinais-b_Direction (deg N)</th>\n",
       "      <th>arville-b_Speed(m/s)</th>\n",
       "      <th>arville-b_Direction (deg N)</th>\n",
       "      <th>boissy-la-riviere-b_Speed(m/s)</th>\n",
       "      <th>boissy-la-riviere-b_Direction (deg N)</th>\n",
       "      <th>angerville-1-b_Speed(m/s)</th>\n",
       "      <th>angerville-1-b_Direction (deg N)</th>\n",
       "      <th>angerville-2-b_Speed(m/s)</th>\n",
       "      <th>angerville-2-b_Direction (deg N)</th>\n",
       "    </tr>\n",
       "  </thead>\n",
       "  <tbody>\n",
       "    <tr>\n",
       "      <th>0</th>\n",
       "      <td>2</td>\n",
       "      <td>2017-01-01 01:00:00</td>\n",
       "      <td>0.0</td>\n",
       "      <td>0.0</td>\n",
       "      <td>0.0</td>\n",
       "      <td>0.0</td>\n",
       "      <td>0.0</td>\n",
       "      <td>02:00</td>\n",
       "      <td>0.0</td>\n",
       "      <td>1.961667</td>\n",
       "      <td>...</td>\n",
       "      <td>2.505000</td>\n",
       "      <td>221.333333</td>\n",
       "      <td>2.516667</td>\n",
       "      <td>221.333333</td>\n",
       "      <td>2.723333</td>\n",
       "      <td>221.833333</td>\n",
       "      <td>2.72</td>\n",
       "      <td>223.500000</td>\n",
       "      <td>2.720000</td>\n",
       "      <td>223.500000</td>\n",
       "    </tr>\n",
       "    <tr>\n",
       "      <th>1</th>\n",
       "      <td>3</td>\n",
       "      <td>2017-01-01 02:00:00</td>\n",
       "      <td>0.0</td>\n",
       "      <td>0.0</td>\n",
       "      <td>0.0</td>\n",
       "      <td>0.0</td>\n",
       "      <td>0.0</td>\n",
       "      <td>03:00</td>\n",
       "      <td>0.0</td>\n",
       "      <td>2.063333</td>\n",
       "      <td>...</td>\n",
       "      <td>2.500000</td>\n",
       "      <td>217.666667</td>\n",
       "      <td>2.513333</td>\n",
       "      <td>217.666667</td>\n",
       "      <td>2.716667</td>\n",
       "      <td>217.666667</td>\n",
       "      <td>2.70</td>\n",
       "      <td>219.000000</td>\n",
       "      <td>2.700000</td>\n",
       "      <td>219.000000</td>\n",
       "    </tr>\n",
       "    <tr>\n",
       "      <th>2</th>\n",
       "      <td>4</td>\n",
       "      <td>2017-01-01 03:00:00</td>\n",
       "      <td>0.0</td>\n",
       "      <td>0.0</td>\n",
       "      <td>0.0</td>\n",
       "      <td>0.0</td>\n",
       "      <td>0.0</td>\n",
       "      <td>04:00</td>\n",
       "      <td>0.0</td>\n",
       "      <td>2.165000</td>\n",
       "      <td>...</td>\n",
       "      <td>2.495000</td>\n",
       "      <td>214.000000</td>\n",
       "      <td>2.510000</td>\n",
       "      <td>214.000000</td>\n",
       "      <td>2.710000</td>\n",
       "      <td>213.500000</td>\n",
       "      <td>2.68</td>\n",
       "      <td>214.500000</td>\n",
       "      <td>2.680000</td>\n",
       "      <td>214.500000</td>\n",
       "    </tr>\n",
       "    <tr>\n",
       "      <th>3</th>\n",
       "      <td>5</td>\n",
       "      <td>2017-01-01 04:00:00</td>\n",
       "      <td>0.0</td>\n",
       "      <td>0.0</td>\n",
       "      <td>0.0</td>\n",
       "      <td>0.0</td>\n",
       "      <td>0.0</td>\n",
       "      <td>05:00</td>\n",
       "      <td>0.0</td>\n",
       "      <td>2.266667</td>\n",
       "      <td>...</td>\n",
       "      <td>2.490000</td>\n",
       "      <td>210.333333</td>\n",
       "      <td>2.506667</td>\n",
       "      <td>210.333333</td>\n",
       "      <td>2.703333</td>\n",
       "      <td>209.333333</td>\n",
       "      <td>2.66</td>\n",
       "      <td>210.000000</td>\n",
       "      <td>2.660000</td>\n",
       "      <td>210.000000</td>\n",
       "    </tr>\n",
       "    <tr>\n",
       "      <th>4</th>\n",
       "      <td>6</td>\n",
       "      <td>2017-01-01 05:00:00</td>\n",
       "      <td>0.0</td>\n",
       "      <td>0.0</td>\n",
       "      <td>0.0</td>\n",
       "      <td>0.0</td>\n",
       "      <td>0.0</td>\n",
       "      <td>06:00</td>\n",
       "      <td>0.0</td>\n",
       "      <td>2.368333</td>\n",
       "      <td>...</td>\n",
       "      <td>2.485000</td>\n",
       "      <td>206.666667</td>\n",
       "      <td>2.503333</td>\n",
       "      <td>206.666667</td>\n",
       "      <td>2.696667</td>\n",
       "      <td>205.166667</td>\n",
       "      <td>2.64</td>\n",
       "      <td>205.500000</td>\n",
       "      <td>2.640000</td>\n",
       "      <td>205.500000</td>\n",
       "    </tr>\n",
       "    <tr>\n",
       "      <th>...</th>\n",
       "      <td>...</td>\n",
       "      <td>...</td>\n",
       "      <td>...</td>\n",
       "      <td>...</td>\n",
       "      <td>...</td>\n",
       "      <td>...</td>\n",
       "      <td>...</td>\n",
       "      <td>...</td>\n",
       "      <td>...</td>\n",
       "      <td>...</td>\n",
       "      <td>...</td>\n",
       "      <td>...</td>\n",
       "      <td>...</td>\n",
       "      <td>...</td>\n",
       "      <td>...</td>\n",
       "      <td>...</td>\n",
       "      <td>...</td>\n",
       "      <td>...</td>\n",
       "      <td>...</td>\n",
       "      <td>...</td>\n",
       "      <td>...</td>\n",
       "    </tr>\n",
       "    <tr>\n",
       "      <th>31011</th>\n",
       "      <td>31013</td>\n",
       "      <td>2020-07-16 17:00:00</td>\n",
       "      <td>1750.0</td>\n",
       "      <td>1750.0</td>\n",
       "      <td>1750.0</td>\n",
       "      <td>1750.0</td>\n",
       "      <td>0.0</td>\n",
       "      <td>19:00</td>\n",
       "      <td>1750.0</td>\n",
       "      <td>2.863333</td>\n",
       "      <td>...</td>\n",
       "      <td>3.253333</td>\n",
       "      <td>339.333333</td>\n",
       "      <td>3.310000</td>\n",
       "      <td>339.666667</td>\n",
       "      <td>3.770000</td>\n",
       "      <td>348.000000</td>\n",
       "      <td>3.77</td>\n",
       "      <td>350.666667</td>\n",
       "      <td>3.773333</td>\n",
       "      <td>350.666667</td>\n",
       "    </tr>\n",
       "    <tr>\n",
       "      <th>31012</th>\n",
       "      <td>31014</td>\n",
       "      <td>2020-07-16 18:00:00</td>\n",
       "      <td>1750.0</td>\n",
       "      <td>1750.0</td>\n",
       "      <td>1750.0</td>\n",
       "      <td>1750.0</td>\n",
       "      <td>0.0</td>\n",
       "      <td>20:00</td>\n",
       "      <td>1750.0</td>\n",
       "      <td>2.840000</td>\n",
       "      <td>...</td>\n",
       "      <td>3.570000</td>\n",
       "      <td>350.000000</td>\n",
       "      <td>3.570000</td>\n",
       "      <td>349.000000</td>\n",
       "      <td>3.420000</td>\n",
       "      <td>353.000000</td>\n",
       "      <td>3.46</td>\n",
       "      <td>357.000000</td>\n",
       "      <td>3.460000</td>\n",
       "      <td>357.000000</td>\n",
       "    </tr>\n",
       "    <tr>\n",
       "      <th>31013</th>\n",
       "      <td>31015</td>\n",
       "      <td>2020-07-16 19:00:00</td>\n",
       "      <td>1750.0</td>\n",
       "      <td>1750.0</td>\n",
       "      <td>1750.0</td>\n",
       "      <td>1750.0</td>\n",
       "      <td>0.0</td>\n",
       "      <td>21:00</td>\n",
       "      <td>1750.0</td>\n",
       "      <td>2.923333</td>\n",
       "      <td>...</td>\n",
       "      <td>3.436667</td>\n",
       "      <td>351.333333</td>\n",
       "      <td>3.436667</td>\n",
       "      <td>350.666667</td>\n",
       "      <td>3.363333</td>\n",
       "      <td>352.333333</td>\n",
       "      <td>3.39</td>\n",
       "      <td>355.666667</td>\n",
       "      <td>3.390000</td>\n",
       "      <td>355.666667</td>\n",
       "    </tr>\n",
       "    <tr>\n",
       "      <th>31014</th>\n",
       "      <td>31016</td>\n",
       "      <td>2020-07-16 20:00:00</td>\n",
       "      <td>1750.0</td>\n",
       "      <td>1750.0</td>\n",
       "      <td>1750.0</td>\n",
       "      <td>1750.0</td>\n",
       "      <td>0.0</td>\n",
       "      <td>22:00</td>\n",
       "      <td>1750.0</td>\n",
       "      <td>3.006667</td>\n",
       "      <td>...</td>\n",
       "      <td>3.303333</td>\n",
       "      <td>352.666667</td>\n",
       "      <td>3.303333</td>\n",
       "      <td>352.333333</td>\n",
       "      <td>3.306667</td>\n",
       "      <td>351.666667</td>\n",
       "      <td>3.32</td>\n",
       "      <td>354.333333</td>\n",
       "      <td>3.320000</td>\n",
       "      <td>354.333333</td>\n",
       "    </tr>\n",
       "    <tr>\n",
       "      <th>31015</th>\n",
       "      <td>31017</td>\n",
       "      <td>2020-07-16 21:00:00</td>\n",
       "      <td>1750.0</td>\n",
       "      <td>1750.0</td>\n",
       "      <td>1750.0</td>\n",
       "      <td>1750.0</td>\n",
       "      <td>0.0</td>\n",
       "      <td>23:00</td>\n",
       "      <td>1750.0</td>\n",
       "      <td>3.090000</td>\n",
       "      <td>...</td>\n",
       "      <td>3.170000</td>\n",
       "      <td>354.000000</td>\n",
       "      <td>3.170000</td>\n",
       "      <td>354.000000</td>\n",
       "      <td>3.250000</td>\n",
       "      <td>351.000000</td>\n",
       "      <td>3.25</td>\n",
       "      <td>353.000000</td>\n",
       "      <td>3.250000</td>\n",
       "      <td>353.000000</td>\n",
       "    </tr>\n",
       "  </tbody>\n",
       "</table>\n",
       "<p>31016 rows × 41 columns</p>\n",
       "</div>"
      ],
      "text/plain": [
       "       index            datetime  Wind_mean  Wind_median  Wind_max  Wind_min  \\\n",
       "0          2 2017-01-01 01:00:00        0.0          0.0       0.0       0.0   \n",
       "1          3 2017-01-01 02:00:00        0.0          0.0       0.0       0.0   \n",
       "2          4 2017-01-01 03:00:00        0.0          0.0       0.0       0.0   \n",
       "3          5 2017-01-01 04:00:00        0.0          0.0       0.0       0.0   \n",
       "4          6 2017-01-01 05:00:00        0.0          0.0       0.0       0.0   \n",
       "...      ...                 ...        ...          ...       ...       ...   \n",
       "31011  31013 2020-07-16 17:00:00     1750.0       1750.0    1750.0    1750.0   \n",
       "31012  31014 2020-07-16 18:00:00     1750.0       1750.0    1750.0    1750.0   \n",
       "31013  31015 2020-07-16 19:00:00     1750.0       1750.0    1750.0    1750.0   \n",
       "31014  31016 2020-07-16 20:00:00     1750.0       1750.0    1750.0    1750.0   \n",
       "31015  31017 2020-07-16 21:00:00     1750.0       1750.0    1750.0    1750.0   \n",
       "\n",
       "       Wind_std  Hours    Wind  guitrancourt_Speed(m/s)  ...  \\\n",
       "0           0.0  02:00     0.0                 1.961667  ...   \n",
       "1           0.0  03:00     0.0                 2.063333  ...   \n",
       "2           0.0  04:00     0.0                 2.165000  ...   \n",
       "3           0.0  05:00     0.0                 2.266667  ...   \n",
       "4           0.0  06:00     0.0                 2.368333  ...   \n",
       "...         ...    ...     ...                      ...  ...   \n",
       "31011       0.0  19:00  1750.0                 2.863333  ...   \n",
       "31012       0.0  20:00  1750.0                 2.840000  ...   \n",
       "31013       0.0  21:00  1750.0                 2.923333  ...   \n",
       "31014       0.0  22:00  1750.0                 3.006667  ...   \n",
       "31015       0.0  23:00  1750.0                 3.090000  ...   \n",
       "\n",
       "       parc-du-gatinais-b_Speed(m/s)  parc-du-gatinais-b_Direction (deg N)  \\\n",
       "0                           2.505000                            221.333333   \n",
       "1                           2.500000                            217.666667   \n",
       "2                           2.495000                            214.000000   \n",
       "3                           2.490000                            210.333333   \n",
       "4                           2.485000                            206.666667   \n",
       "...                              ...                                   ...   \n",
       "31011                       3.253333                            339.333333   \n",
       "31012                       3.570000                            350.000000   \n",
       "31013                       3.436667                            351.333333   \n",
       "31014                       3.303333                            352.666667   \n",
       "31015                       3.170000                            354.000000   \n",
       "\n",
       "       arville-b_Speed(m/s)  arville-b_Direction (deg N)  \\\n",
       "0                  2.516667                   221.333333   \n",
       "1                  2.513333                   217.666667   \n",
       "2                  2.510000                   214.000000   \n",
       "3                  2.506667                   210.333333   \n",
       "4                  2.503333                   206.666667   \n",
       "...                     ...                          ...   \n",
       "31011              3.310000                   339.666667   \n",
       "31012              3.570000                   349.000000   \n",
       "31013              3.436667                   350.666667   \n",
       "31014              3.303333                   352.333333   \n",
       "31015              3.170000                   354.000000   \n",
       "\n",
       "       boissy-la-riviere-b_Speed(m/s)  boissy-la-riviere-b_Direction (deg N)  \\\n",
       "0                            2.723333                             221.833333   \n",
       "1                            2.716667                             217.666667   \n",
       "2                            2.710000                             213.500000   \n",
       "3                            2.703333                             209.333333   \n",
       "4                            2.696667                             205.166667   \n",
       "...                               ...                                    ...   \n",
       "31011                        3.770000                             348.000000   \n",
       "31012                        3.420000                             353.000000   \n",
       "31013                        3.363333                             352.333333   \n",
       "31014                        3.306667                             351.666667   \n",
       "31015                        3.250000                             351.000000   \n",
       "\n",
       "       angerville-1-b_Speed(m/s)  angerville-1-b_Direction (deg N)  \\\n",
       "0                           2.72                        223.500000   \n",
       "1                           2.70                        219.000000   \n",
       "2                           2.68                        214.500000   \n",
       "3                           2.66                        210.000000   \n",
       "4                           2.64                        205.500000   \n",
       "...                          ...                               ...   \n",
       "31011                       3.77                        350.666667   \n",
       "31012                       3.46                        357.000000   \n",
       "31013                       3.39                        355.666667   \n",
       "31014                       3.32                        354.333333   \n",
       "31015                       3.25                        353.000000   \n",
       "\n",
       "       angerville-2-b_Speed(m/s)  angerville-2-b_Direction (deg N)  \n",
       "0                       2.720000                        223.500000  \n",
       "1                       2.700000                        219.000000  \n",
       "2                       2.680000                        214.500000  \n",
       "3                       2.660000                        210.000000  \n",
       "4                       2.640000                        205.500000  \n",
       "...                          ...                               ...  \n",
       "31011                   3.773333                        350.666667  \n",
       "31012                   3.460000                        357.000000  \n",
       "31013                   3.390000                        355.666667  \n",
       "31014                   3.320000                        354.333333  \n",
       "31015                   3.250000                        353.000000  \n",
       "\n",
       "[31016 rows x 41 columns]"
      ]
     },
     "execution_count": 70,
     "metadata": {},
     "output_type": "execute_result"
    }
   ],
   "source": [
    "df_interpolated.reset_index(drop_)"
   ]
  },
  {
   "cell_type": "code",
   "execution_count": null,
   "metadata": {},
   "outputs": [],
   "source": []
  }
 ],
 "metadata": {
  "kernelspec": {
   "display_name": "Python 3",
   "language": "python",
   "name": "python3"
  },
  "language_info": {
   "codemirror_mode": {
    "name": "ipython",
    "version": 3
   },
   "file_extension": ".py",
   "mimetype": "text/x-python",
   "name": "python",
   "nbconvert_exporter": "python",
   "pygments_lexer": "ipython3",
   "version": "3.6.10"
  }
 },
 "nbformat": 4,
 "nbformat_minor": 4
}
